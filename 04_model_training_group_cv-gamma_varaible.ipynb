{
 "cells": [
  {
   "cell_type": "code",
   "execution_count": 1,
   "id": "2f04fc3f",
   "metadata": {},
   "outputs": [],
   "source": [
    "import numpy as np\n",
    "import pandas as pd\n",
    "from lightgbm import LGBMRegressor\n",
    "from sklearn.model_selection import cross_val_score, GroupKFold, StratifiedGroupKFold\n",
    "import shap\n",
    "import gpplot as gpp\n",
    "import seaborn as sns\n",
    "from scipy import stats\n",
    "import matplotlib.pyplot as plt\n",
    "import seaborn as sns\n",
    "import gpplot\n",
    "from rs3.seq import predict_seq\n",
    "import optuna\n",
    "from optuna.integration import LightGBMPruningCallback\n",
    "from sklearn.metrics import log_loss\n",
    "from sklearn.model_selection import StratifiedKFold\n",
    "import warnings\n",
    "from core import tssbin_binary\n",
    "from lightgbm import LGBMRegressor, plot_importance\n",
    "from core1 import (setup_plots,\n",
    "                  lollipop_plot,\n",
    "                  get_feature_df,\n",
    "                  summary_legacy,\n",
    "                  dependence_legacy)\n",
    "import warnings\n",
    "warnings.filterwarnings('ignore')\n",
    "#warnings.filterwarnings(\"ignore\", category=UserWarning)\n",
    "#optuna.logging.set_verbosity(optuna.logging.WARNING)\n"
   ]
  },
  {
   "cell_type": "markdown",
   "id": "e1939476",
   "metadata": {},
   "source": [
    "Todo\n",
    "- DHS\n",
    "- each nuetitde as a single nts only\n",
    "- gilbert et al: top 5 features, look at easy feature\n"
   ]
  },
  {
   "cell_type": "code",
   "execution_count": 2,
   "id": "12ba447d",
   "metadata": {},
   "outputs": [],
   "source": [
    "#Function\n",
    "def obs_vals_vs_scores(dataset, list_obs_vals, list_scores, author='Gilbert', obs_meteric = 'Gamma'):\n",
    "    for obs_v, score in zip(list_obs_vals, list_scores):\n",
    "            plt.subplots(figsize=(4,4))\n",
    "            gpp.point_densityplot(data=dataset[[score, obs_v]].dropna(),\n",
    "                                     y=score, x=obs_v)\n",
    "            gpp.add_correlation(data=dataset[[score, obs_v]].dropna(),\n",
    "                                   y=score, x=obs_v)\n",
    "            gpp.add_correlation(data=dataset[[score, obs_v]].dropna(),\n",
    "                                    y=score, x=obs_v, method='spearman', loc='lower right')\n",
    "           # plt.xlabel(x_axis_name)\n",
    "            plt.title(author+\" Crispri\")\n",
    "            plt.xlabel(obs_meteric)\n",
    "           \n",
    "            sns.despine()\n",
    "            gpp.savefig('../figure/'+ score +'_vs_'+obs_meteric+'_'+author+'.pdf', dpi=300)\n",
    "def tss_plot(dataset, y_axis, dataname='gilbert'):\n",
    "    x_orders = ['<-50','-50 to -25','-25 to 0','0 to +25', '+25 to +50','+50 to +75','+75 to +100',\n",
    "                            '+100 to +125','+125 to +150','+150 to +175', '+175 to +200', '+200 to +225',\n",
    "                             '+225 to +250','>+250']\n",
    "    fig, axs = plt.subplots(nrows=len(y_axis),figsize=(7,6))\n",
    "    for i in range(len(y_axis)):\n",
    "        ax = sns.boxplot(data=dataset, x=\"tss_bins\", y=y_axis[i], \n",
    "                   order = x_orders, color = 'grey', ax = axs[i])\n",
    "        if i != len(y_axis)-1:\n",
    "            ax.set(xticklabels=[])  \n",
    "            ax.set(xlabel=None)\n",
    "            ax.tick_params(bottom=False)\n",
    "        else:\n",
    "            ax.set(xlabel='TSS Bins')\n",
    "            plt.xticks(rotation=90)\n",
    "    \n",
    "    gpp.savefig('../figure/'+ dataname +'_tss_box_plot.pdf', dpi=300)\n",
    "def corr_pval_table(dataset, metric):\n",
    "    tss_bins_cat = ['<-50','-50 to -25','-25 to 0','0 to +25', '+25 to +50','+50 to +75','+75 to +100',\n",
    "                        '+100 to +125','+125 to +150','+150 to +175', '+175 to +200', '+200 to +225',\n",
    "                         '+225 to +250','>+250']\n",
    "    data_performance = pd.DataFrame()\n",
    "    for bins in tss_bins_cat:\n",
    "        bin_sub = dataset[dataset['tss_bins'] == bins]\n",
    "        corr_rs3, p_corr_rs3 = stats.spearmanr(bin_sub['Chen On-Target Efficacy Score'], bin_sub[str('avg_' + metric)])\n",
    "        #corr_target, p_corr_target = stats.spearmanr(bin_sub['Crispri Seq + Target Score'], bin_sub['reverse ' + metric])\n",
    "        corr_target, p_corr_target = stats.spearmanr(bin_sub['Crispri Seq + Target Score'], bin_sub['avg_' + metric])\n",
    "\n",
    "        data_performance = data_performance.append({'bin':bins,\n",
    "                                          'corr_rs3': corr_rs3, \n",
    "                                          'p_val_corr_rs3': p_corr_rs3,\n",
    "                                          'corr_seq_target': corr_target,\n",
    "                                         'p_val_corr_seq_target': p_corr_target}, ignore_index=True)\n",
    "    return data_performance"
   ]
  },
  {
   "cell_type": "markdown",
   "id": "24c6156e",
   "metadata": {},
   "source": [
    "# Train model"
   ]
  },
  {
   "cell_type": "markdown",
   "id": "112d434a",
   "metadata": {},
   "source": [
    "### Import Gilbert to train "
   ]
  },
  {
   "cell_type": "code",
   "execution_count": 65,
   "id": "38320510",
   "metadata": {},
   "outputs": [],
   "source": [
    "gilbert2014_rs3 = pd.read_csv('../data/gilbert_2014/gilbert2014_activity.csv')\n",
    "gilbert2014_rs3 = gilbert2014_rs3.rename({'On-Target Efficacy Score': 'Chen On-Target Efficacy Score'},axis = 1)\n",
    "gilbert2014_rs3 = gilbert2014_rs3[['sgRNA Context Sequence', 'sgRNA Sequence', \n",
    "                 'Target Gene Symbol', 'Chen On-Target Efficacy Score',\n",
    "                'sgRNA \\'Cut\\' Site TSS Offset', 'avg_gamma', 'avg_mean_centered_neg_gamma']]\n",
    "gilbert2014_rs3 = tssbin_binary(gilbert2014_rs3)"
   ]
  },
  {
   "cell_type": "code",
   "execution_count": 66,
   "id": "48c0907e",
   "metadata": {},
   "outputs": [],
   "source": [
    "tss_bins_col_name = [col for col in gilbert2014_rs3.columns if col.startswith('tss_bins_')]\n",
    "x_variable = ['sgRNA \\'Cut\\' Site TSS Offset', 'sgRNA Context Sequence','Chen On-Target Efficacy Score'] + tss_bins_col_name"
   ]
  },
  {
   "cell_type": "markdown",
   "id": "702e24de",
   "metadata": {},
   "source": [
    "### Define X and Y and group in gilbert "
   ]
  },
  {
   "cell_type": "code",
   "execution_count": 67,
   "id": "0ac4c89a",
   "metadata": {},
   "outputs": [],
   "source": [
    "X = gilbert2014_rs3[x_variable]\n",
    "X = X.set_index('sgRNA Context Sequence')    \n",
    "y = gilbert2014_rs3['avg_gamma'] * -1\n",
    "grps = gilbert2014_rs3['Target Gene Symbol']\n"
   ]
  },
  {
   "cell_type": "markdown",
   "id": "e542b4d9",
   "metadata": {},
   "source": [
    "### Define objective to train the model on Gilbert"
   ]
  },
  {
   "cell_type": "code",
   "execution_count": 24,
   "id": "f6ce7dce",
   "metadata": {},
   "outputs": [],
   "source": [
    "def objective(trial, X, y, groups, cv=4 ):\n",
    "    param_grid = {\n",
    "        \"n_estimators\": trial.suggest_int(\"n_estimators\", 100, 1500),\n",
    "        \"learning_rate\": trial.suggest_categorical(\"learning_rate\", [0.01,0.02,0.03,0.04, 0.05]),\n",
    "        \"num_leaves\": trial.suggest_int('num_leaves', 8, 256),\n",
    "        \"min_child_samples\": trial.suggest_int('min_child_samples', 50, 256)\n",
    "\n",
    "    }\n",
    "\n",
    "    cv_scores = np.zeros(cv)\n",
    "    \n",
    "    #gkf_cv = GroupKFold(n_splits=3)\n",
    "    gkf_cv = StratifiedGroupKFold(n_splits=cv, shuffle=True, random_state=1)\n",
    "    df_group = pd.DataFrame()\n",
    "\n",
    "\n",
    "    for split, (ix_train, ix_test) in enumerate(gkf_cv.split(X,[1]*grps, groups=groups)):\n",
    "        X_train, X_test, y_train, y_test = X.iloc[ix_train], X.iloc[ix_test], y.iloc[ix_train], y.iloc[ix_test]\n",
    "\n",
    "        model = LGBMRegressor(random_state=7, n_jobs=1, **param_grid)\n",
    "        df_group = df_group.append({'fold': split, 'num_train_gene': len(set(grps[ix_train].tolist())),\n",
    "                    'num_train_sgrna': len(grps[ix_train].tolist()), \n",
    "                    'num_test_gene': len(set(grps[ix_test].tolist())),\n",
    "                   'num_test_sgRNA': len(grps[ix_test].tolist()),\n",
    "                   'num_overlap_gene': len(list(set(grps[ix_train]) & set(grps[ix_test])))}, ignore_index=True)\n",
    "        print(df_group)\n",
    "        model.fit(\n",
    "            X_train,\n",
    "            y_train,\n",
    "            eval_set=[(X_test, y_test)],\n",
    "            eval_metric=\"l2\",\n",
    "            verbose=-1,\n",
    "             early_stopping_rounds=50,)\n",
    "        preds = model.score(X_train, y_train)\n",
    "        \n",
    "        cv_scores[split] = preds\n",
    "\n",
    "\n",
    "    return 1-np.mean(cv_scores)"
   ]
  },
  {
   "cell_type": "code",
   "execution_count": 25,
   "id": "b88d5de3",
   "metadata": {
    "scrolled": true
   },
   "outputs": [
    {
     "name": "stderr",
     "output_type": "stream",
     "text": [
      "\u001b[32m[I 2022-11-10 02:13:18,151]\u001b[0m A new study created in memory with name: LGBM Regressor\u001b[0m\n"
     ]
    },
    {
     "name": "stdout",
     "output_type": "stream",
     "text": [
      "   fold  num_train_gene  num_train_sgrna  num_test_gene  num_test_sgRNA  \\\n",
      "0     0             944             7976            315            2625   \n",
      "\n",
      "   num_overlap_gene  \n",
      "0                 0  \n",
      "Training until validation scores don't improve for 50 rounds\n",
      "Early stopping, best iteration is:\n",
      "[91]\tvalid_0's l2: 0.0116851\n",
      "   fold  num_train_gene  num_train_sgrna  num_test_gene  num_test_sgRNA  \\\n",
      "0     0             944             7976            315            2625   \n",
      "1     1             945             7899            314            2702   \n",
      "\n",
      "   num_overlap_gene  \n",
      "0                 0  \n",
      "1                 0  \n",
      "Training until validation scores don't improve for 50 rounds\n",
      "Early stopping, best iteration is:\n",
      "[73]\tvalid_0's l2: 0.0121162\n",
      "   fold  num_train_gene  num_train_sgrna  num_test_gene  num_test_sgRNA  \\\n",
      "0     0             944             7976            315            2625   \n",
      "1     1             945             7899            314            2702   \n",
      "2     2             944             7955            315            2646   \n",
      "\n",
      "   num_overlap_gene  \n",
      "0                 0  \n",
      "1                 0  \n",
      "2                 0  \n",
      "Training until validation scores don't improve for 50 rounds\n",
      "Early stopping, best iteration is:\n",
      "[107]\tvalid_0's l2: 0.0124131\n",
      "   fold  num_train_gene  num_train_sgrna  num_test_gene  num_test_sgRNA  \\\n",
      "0     0             944             7976            315            2625   \n",
      "1     1             945             7899            314            2702   \n",
      "2     2             944             7955            315            2646   \n",
      "3     3             944             7973            315            2628   \n",
      "\n",
      "   num_overlap_gene  \n",
      "0                 0  \n",
      "1                 0  \n",
      "2                 0  \n",
      "3                 0  \n",
      "Training until validation scores don't improve for 50 rounds\n",
      "Early stopping, best iteration is:\n",
      "[101]\tvalid_0's l2: 0.0123222\n"
     ]
    },
    {
     "name": "stderr",
     "output_type": "stream",
     "text": [
      "\u001b[32m[I 2022-11-10 02:13:20,371]\u001b[0m Trial 0 finished with value: 0.7896322929902199 and parameters: {'n_estimators': 1081, 'learning_rate': 0.02, 'num_leaves': 87, 'min_child_samples': 56}. Best is trial 0 with value: 0.7896322929902199.\u001b[0m\n"
     ]
    },
    {
     "name": "stdout",
     "output_type": "stream",
     "text": [
      "   fold  num_train_gene  num_train_sgrna  num_test_gene  num_test_sgRNA  \\\n",
      "0     0             944             7976            315            2625   \n",
      "\n",
      "   num_overlap_gene  \n",
      "0                 0  \n",
      "Training until validation scores don't improve for 50 rounds\n",
      "Early stopping, best iteration is:\n",
      "[90]\tvalid_0's l2: 0.0116497\n",
      "   fold  num_train_gene  num_train_sgrna  num_test_gene  num_test_sgRNA  \\\n",
      "0     0             944             7976            315            2625   \n",
      "1     1             945             7899            314            2702   \n",
      "\n",
      "   num_overlap_gene  \n",
      "0                 0  \n",
      "1                 0  \n",
      "Training until validation scores don't improve for 50 rounds\n",
      "Early stopping, best iteration is:\n",
      "[83]\tvalid_0's l2: 0.0120294\n",
      "   fold  num_train_gene  num_train_sgrna  num_test_gene  num_test_sgRNA  \\\n",
      "0     0             944             7976            315            2625   \n",
      "1     1             945             7899            314            2702   \n",
      "2     2             944             7955            315            2646   \n",
      "\n",
      "   num_overlap_gene  \n",
      "0                 0  \n",
      "1                 0  \n",
      "2                 0  \n",
      "Training until validation scores don't improve for 50 rounds\n",
      "Early stopping, best iteration is:\n",
      "[122]\tvalid_0's l2: 0.0122573\n",
      "   fold  num_train_gene  num_train_sgrna  num_test_gene  num_test_sgRNA  \\\n",
      "0     0             944             7976            315            2625   \n",
      "1     1             945             7899            314            2702   \n",
      "2     2             944             7955            315            2646   \n",
      "3     3             944             7973            315            2628   \n",
      "\n",
      "   num_overlap_gene  \n",
      "0                 0  \n",
      "1                 0  \n",
      "2                 0  \n",
      "3                 0  \n",
      "Training until validation scores don't improve for 50 rounds\n",
      "Early stopping, best iteration is:\n",
      "[115]\tvalid_0's l2: 0.0122104\n"
     ]
    },
    {
     "name": "stderr",
     "output_type": "stream",
     "text": [
      "\u001b[32m[I 2022-11-10 02:13:21,922]\u001b[0m Trial 1 finished with value: 0.8130608723895915 and parameters: {'n_estimators': 876, 'learning_rate': 0.02, 'num_leaves': 122, 'min_child_samples': 110}. Best is trial 0 with value: 0.7896322929902199.\u001b[0m\n"
     ]
    },
    {
     "name": "stdout",
     "output_type": "stream",
     "text": [
      "   fold  num_train_gene  num_train_sgrna  num_test_gene  num_test_sgRNA  \\\n",
      "0     0             944             7976            315            2625   \n",
      "\n",
      "   num_overlap_gene  \n",
      "0                 0  \n",
      "Training until validation scores don't improve for 50 rounds\n",
      "Early stopping, best iteration is:\n",
      "[51]\tvalid_0's l2: 0.0116572\n",
      "   fold  num_train_gene  num_train_sgrna  num_test_gene  num_test_sgRNA  \\\n",
      "0     0             944             7976            315            2625   \n",
      "1     1             945             7899            314            2702   \n",
      "\n",
      "   num_overlap_gene  \n",
      "0                 0  \n",
      "1                 0  \n",
      "Training until validation scores don't improve for 50 rounds\n",
      "Early stopping, best iteration is:\n",
      "[45]\tvalid_0's l2: 0.0120214\n",
      "   fold  num_train_gene  num_train_sgrna  num_test_gene  num_test_sgRNA  \\\n",
      "0     0             944             7976            315            2625   \n",
      "1     1             945             7899            314            2702   \n",
      "2     2             944             7955            315            2646   \n",
      "\n",
      "   num_overlap_gene  \n",
      "0                 0  \n",
      "1                 0  \n",
      "2                 0  \n",
      "Training until validation scores don't improve for 50 rounds\n",
      "Early stopping, best iteration is:\n",
      "[70]\tvalid_0's l2: 0.0121798\n",
      "   fold  num_train_gene  num_train_sgrna  num_test_gene  num_test_sgRNA  \\\n",
      "0     0             944             7976            315            2625   \n",
      "1     1             945             7899            314            2702   \n",
      "2     2             944             7955            315            2646   \n",
      "3     3             944             7973            315            2628   \n",
      "\n",
      "   num_overlap_gene  \n",
      "0                 0  \n",
      "1                 0  \n",
      "2                 0  \n",
      "3                 0  \n",
      "Training until validation scores don't improve for 50 rounds\n",
      "Early stopping, best iteration is:\n",
      "[75]\tvalid_0's l2: 0.0122038\n"
     ]
    },
    {
     "name": "stderr",
     "output_type": "stream",
     "text": [
      "\u001b[32m[I 2022-11-10 02:13:23,129]\u001b[0m Trial 2 finished with value: 0.8169490467396147 and parameters: {'n_estimators': 804, 'learning_rate': 0.04, 'num_leaves': 161, 'min_child_samples': 149}. Best is trial 0 with value: 0.7896322929902199.\u001b[0m\n"
     ]
    },
    {
     "name": "stdout",
     "output_type": "stream",
     "text": [
      "   fold  num_train_gene  num_train_sgrna  num_test_gene  num_test_sgRNA  \\\n",
      "0     0             944             7976            315            2625   \n",
      "\n",
      "   num_overlap_gene  \n",
      "0                 0  \n",
      "Training until validation scores don't improve for 50 rounds\n",
      "Early stopping, best iteration is:\n",
      "[73]\tvalid_0's l2: 0.011658\n",
      "   fold  num_train_gene  num_train_sgrna  num_test_gene  num_test_sgRNA  \\\n",
      "0     0             944             7976            315            2625   \n",
      "1     1             945             7899            314            2702   \n",
      "\n",
      "   num_overlap_gene  \n",
      "0                 0  \n",
      "1                 0  \n",
      "Training until validation scores don't improve for 50 rounds\n",
      "Early stopping, best iteration is:\n",
      "[86]\tvalid_0's l2: 0.0119859\n",
      "   fold  num_train_gene  num_train_sgrna  num_test_gene  num_test_sgRNA  \\\n",
      "0     0             944             7976            315            2625   \n",
      "1     1             945             7899            314            2702   \n",
      "2     2             944             7955            315            2646   \n",
      "\n",
      "   num_overlap_gene  \n",
      "0                 0  \n",
      "1                 0  \n",
      "2                 0  \n",
      "Training until validation scores don't improve for 50 rounds\n",
      "Early stopping, best iteration is:\n",
      "[120]\tvalid_0's l2: 0.0121577\n",
      "   fold  num_train_gene  num_train_sgrna  num_test_gene  num_test_sgRNA  \\\n",
      "0     0             944             7976            315            2625   \n",
      "1     1             945             7899            314            2702   \n",
      "2     2             944             7955            315            2646   \n",
      "3     3             944             7973            315            2628   \n",
      "\n",
      "   num_overlap_gene  \n",
      "0                 0  \n",
      "1                 0  \n",
      "2                 0  \n",
      "3                 0  \n",
      "Training until validation scores don't improve for 50 rounds\n",
      "Early stopping, best iteration is:\n",
      "[111]\tvalid_0's l2: 0.0122147\n"
     ]
    },
    {
     "name": "stderr",
     "output_type": "stream",
     "text": [
      "\u001b[32m[I 2022-11-10 02:13:24,881]\u001b[0m Trial 3 finished with value: 0.8244140214737012 and parameters: {'n_estimators': 517, 'learning_rate': 0.03, 'num_leaves': 237, 'min_child_samples': 240}. Best is trial 0 with value: 0.7896322929902199.\u001b[0m\n"
     ]
    },
    {
     "name": "stdout",
     "output_type": "stream",
     "text": [
      "   fold  num_train_gene  num_train_sgrna  num_test_gene  num_test_sgRNA  \\\n",
      "0     0             944             7976            315            2625   \n",
      "\n",
      "   num_overlap_gene  \n",
      "0                 0  \n",
      "Training until validation scores don't improve for 50 rounds\n",
      "Early stopping, best iteration is:\n",
      "[127]\tvalid_0's l2: 0.0116408\n",
      "   fold  num_train_gene  num_train_sgrna  num_test_gene  num_test_sgRNA  \\\n",
      "0     0             944             7976            315            2625   \n",
      "1     1             945             7899            314            2702   \n",
      "\n",
      "   num_overlap_gene  \n",
      "0                 0  \n",
      "1                 0  \n",
      "Training until validation scores don't improve for 50 rounds\n",
      "Early stopping, best iteration is:\n",
      "[84]\tvalid_0's l2: 0.0120212\n",
      "   fold  num_train_gene  num_train_sgrna  num_test_gene  num_test_sgRNA  \\\n",
      "0     0             944             7976            315            2625   \n",
      "1     1             945             7899            314            2702   \n",
      "2     2             944             7955            315            2646   \n",
      "\n",
      "   num_overlap_gene  \n",
      "0                 0  \n",
      "1                 0  \n",
      "2                 0  \n",
      "Training until validation scores don't improve for 50 rounds\n",
      "Early stopping, best iteration is:\n",
      "[160]\tvalid_0's l2: 0.01219\n",
      "   fold  num_train_gene  num_train_sgrna  num_test_gene  num_test_sgRNA  \\\n",
      "0     0             944             7976            315            2625   \n",
      "1     1             945             7899            314            2702   \n",
      "2     2             944             7955            315            2646   \n",
      "3     3             944             7973            315            2628   \n",
      "\n",
      "   num_overlap_gene  \n",
      "0                 0  \n",
      "1                 0  \n",
      "2                 0  \n",
      "3                 0  \n",
      "Training until validation scores don't improve for 50 rounds\n"
     ]
    },
    {
     "name": "stderr",
     "output_type": "stream",
     "text": [
      "\u001b[32m[I 2022-11-10 02:13:26,859]\u001b[0m Trial 4 finished with value: 0.816420393189006 and parameters: {'n_estimators': 498, 'learning_rate': 0.02, 'num_leaves': 208, 'min_child_samples': 157}. Best is trial 0 with value: 0.7896322929902199.\u001b[0m\n"
     ]
    },
    {
     "name": "stdout",
     "output_type": "stream",
     "text": [
      "Early stopping, best iteration is:\n",
      "[156]\tvalid_0's l2: 0.0121855\n",
      "   fold  num_train_gene  num_train_sgrna  num_test_gene  num_test_sgRNA  \\\n",
      "0     0             944             7976            315            2625   \n",
      "\n",
      "   num_overlap_gene  \n",
      "0                 0  \n",
      "Training until validation scores don't improve for 50 rounds\n",
      "Early stopping, best iteration is:\n",
      "[35]\tvalid_0's l2: 0.0116554\n",
      "   fold  num_train_gene  num_train_sgrna  num_test_gene  num_test_sgRNA  \\\n",
      "0     0             944             7976            315            2625   \n",
      "1     1             945             7899            314            2702   \n",
      "\n",
      "   num_overlap_gene  \n",
      "0                 0  \n",
      "1                 0  \n",
      "Training until validation scores don't improve for 50 rounds\n",
      "Early stopping, best iteration is:\n",
      "[32]\tvalid_0's l2: 0.0120283\n",
      "   fold  num_train_gene  num_train_sgrna  num_test_gene  num_test_sgRNA  \\\n",
      "0     0             944             7976            315            2625   \n",
      "1     1             945             7899            314            2702   \n",
      "2     2             944             7955            315            2646   \n",
      "\n",
      "   num_overlap_gene  \n",
      "0                 0  \n",
      "1                 0  \n",
      "2                 0  \n",
      "Training until validation scores don't improve for 50 rounds\n",
      "Early stopping, best iteration is:\n",
      "[46]\tvalid_0's l2: 0.0122617\n"
     ]
    },
    {
     "name": "stderr",
     "output_type": "stream",
     "text": [
      "\u001b[32m[I 2022-11-10 02:13:28,085]\u001b[0m Trial 5 finished with value: 0.8138368069288378 and parameters: {'n_estimators': 1437, 'learning_rate': 0.05, 'num_leaves': 224, 'min_child_samples': 109}. Best is trial 0 with value: 0.7896322929902199.\u001b[0m\n"
     ]
    },
    {
     "name": "stdout",
     "output_type": "stream",
     "text": [
      "   fold  num_train_gene  num_train_sgrna  num_test_gene  num_test_sgRNA  \\\n",
      "0     0             944             7976            315            2625   \n",
      "1     1             945             7899            314            2702   \n",
      "2     2             944             7955            315            2646   \n",
      "3     3             944             7973            315            2628   \n",
      "\n",
      "   num_overlap_gene  \n",
      "0                 0  \n",
      "1                 0  \n",
      "2                 0  \n",
      "3                 0  \n",
      "Training until validation scores don't improve for 50 rounds\n",
      "Early stopping, best iteration is:\n",
      "[45]\tvalid_0's l2: 0.0122144\n",
      "   fold  num_train_gene  num_train_sgrna  num_test_gene  num_test_sgRNA  \\\n",
      "0     0             944             7976            315            2625   \n",
      "\n",
      "   num_overlap_gene  \n",
      "0                 0  \n",
      "Training until validation scores don't improve for 50 rounds\n",
      "Early stopping, best iteration is:\n",
      "[102]\tvalid_0's l2: 0.0116458\n",
      "   fold  num_train_gene  num_train_sgrna  num_test_gene  num_test_sgRNA  \\\n",
      "0     0             944             7976            315            2625   \n",
      "1     1             945             7899            314            2702   \n",
      "\n",
      "   num_overlap_gene  \n",
      "0                 0  \n",
      "1                 0  \n",
      "Training until validation scores don't improve for 50 rounds\n",
      "Early stopping, best iteration is:\n",
      "[80]\tvalid_0's l2: 0.0120295\n",
      "   fold  num_train_gene  num_train_sgrna  num_test_gene  num_test_sgRNA  \\\n",
      "0     0             944             7976            315            2625   \n",
      "1     1             945             7899            314            2702   \n",
      "2     2             944             7955            315            2646   \n",
      "\n",
      "   num_overlap_gene  \n",
      "0                 0  \n",
      "1                 0  \n",
      "2                 0  \n",
      "Training until validation scores don't improve for 50 rounds\n",
      "Early stopping, best iteration is:\n",
      "[123]\tvalid_0's l2: 0.0122555\n",
      "   fold  num_train_gene  num_train_sgrna  num_test_gene  num_test_sgRNA  \\\n",
      "0     0             944             7976            315            2625   \n",
      "1     1             945             7899            314            2702   \n",
      "2     2             944             7955            315            2646   \n",
      "3     3             944             7973            315            2628   \n",
      "\n",
      "   num_overlap_gene  \n",
      "0                 0  \n",
      "1                 0  \n",
      "2                 0  \n",
      "3                 0  \n",
      "Training until validation scores don't improve for 50 rounds\n"
     ]
    },
    {
     "name": "stderr",
     "output_type": "stream",
     "text": [
      "\u001b[32m[I 2022-11-10 02:13:30,013]\u001b[0m Trial 6 finished with value: 0.8112075538188123 and parameters: {'n_estimators': 1249, 'learning_rate': 0.02, 'num_leaves': 143, 'min_child_samples': 113}. Best is trial 0 with value: 0.7896322929902199.\u001b[0m\n"
     ]
    },
    {
     "name": "stdout",
     "output_type": "stream",
     "text": [
      "Early stopping, best iteration is:\n",
      "[139]\tvalid_0's l2: 0.0122096\n",
      "   fold  num_train_gene  num_train_sgrna  num_test_gene  num_test_sgRNA  \\\n",
      "0     0             944             7976            315            2625   \n",
      "\n",
      "   num_overlap_gene  \n",
      "0                 0  \n",
      "Training until validation scores don't improve for 50 rounds\n",
      "Early stopping, best iteration is:\n",
      "[208]\tvalid_0's l2: 0.011655\n",
      "   fold  num_train_gene  num_train_sgrna  num_test_gene  num_test_sgRNA  \\\n",
      "0     0             944             7976            315            2625   \n",
      "1     1             945             7899            314            2702   \n",
      "\n",
      "   num_overlap_gene  \n",
      "0                 0  \n",
      "1                 0  \n",
      "Training until validation scores don't improve for 50 rounds\n",
      "Early stopping, best iteration is:\n",
      "[232]\tvalid_0's l2: 0.0120155\n",
      "   fold  num_train_gene  num_train_sgrna  num_test_gene  num_test_sgRNA  \\\n",
      "0     0             944             7976            315            2625   \n",
      "1     1             945             7899            314            2702   \n",
      "2     2             944             7955            315            2646   \n",
      "\n",
      "   num_overlap_gene  \n",
      "0                 0  \n",
      "1                 0  \n",
      "2                 0  \n",
      "Training until validation scores don't improve for 50 rounds\n",
      "Early stopping, best iteration is:\n",
      "[298]\tvalid_0's l2: 0.012143\n",
      "   fold  num_train_gene  num_train_sgrna  num_test_gene  num_test_sgRNA  \\\n",
      "0     0             944             7976            315            2625   \n",
      "1     1             945             7899            314            2702   \n",
      "2     2             944             7955            315            2646   \n",
      "3     3             944             7973            315            2628   \n",
      "\n",
      "   num_overlap_gene  \n",
      "0                 0  \n",
      "1                 0  \n",
      "2                 0  \n",
      "3                 0  \n",
      "Training until validation scores don't improve for 50 rounds\n",
      "Early stopping, best iteration is:\n",
      "[340]\tvalid_0's l2: 0.0121867\n"
     ]
    },
    {
     "name": "stderr",
     "output_type": "stream",
     "text": [
      "\u001b[32m[I 2022-11-10 02:13:32,825]\u001b[0m Trial 7 finished with value: 0.8169788677934247 and parameters: {'n_estimators': 812, 'learning_rate': 0.01, 'num_leaves': 149, 'min_child_samples': 166}. Best is trial 0 with value: 0.7896322929902199.\u001b[0m\n"
     ]
    },
    {
     "name": "stdout",
     "output_type": "stream",
     "text": [
      "   fold  num_train_gene  num_train_sgrna  num_test_gene  num_test_sgRNA  \\\n",
      "0     0             944             7976            315            2625   \n",
      "\n",
      "   num_overlap_gene  \n",
      "0                 0  \n",
      "Training until validation scores don't improve for 50 rounds\n",
      "Early stopping, best iteration is:\n",
      "[34]\tvalid_0's l2: 0.011737\n",
      "   fold  num_train_gene  num_train_sgrna  num_test_gene  num_test_sgRNA  \\\n",
      "0     0             944             7976            315            2625   \n",
      "1     1             945             7899            314            2702   \n",
      "\n",
      "   num_overlap_gene  \n",
      "0                 0  \n",
      "1                 0  \n",
      "Training until validation scores don't improve for 50 rounds\n",
      "Early stopping, best iteration is:\n",
      "[34]\tvalid_0's l2: 0.0120822\n",
      "   fold  num_train_gene  num_train_sgrna  num_test_gene  num_test_sgRNA  \\\n",
      "0     0             944             7976            315            2625   \n",
      "1     1             945             7899            314            2702   \n",
      "2     2             944             7955            315            2646   \n",
      "\n",
      "   num_overlap_gene  \n",
      "0                 0  \n",
      "1                 0  \n",
      "2                 0  \n",
      "Training until validation scores don't improve for 50 rounds\n",
      "Early stopping, best iteration is:\n",
      "[40]\tvalid_0's l2: 0.0123678\n",
      "   fold  num_train_gene  num_train_sgrna  num_test_gene  num_test_sgRNA  \\\n",
      "0     0             944             7976            315            2625   \n",
      "1     1             945             7899            314            2702   \n",
      "2     2             944             7955            315            2646   \n",
      "3     3             944             7973            315            2628   \n",
      "\n",
      "   num_overlap_gene  \n",
      "0                 0  \n",
      "1                 0  \n",
      "2                 0  \n",
      "3                 0  \n",
      "Training until validation scores don't improve for 50 rounds\n"
     ]
    },
    {
     "name": "stderr",
     "output_type": "stream",
     "text": [
      "\u001b[32m[I 2022-11-10 02:13:34,300]\u001b[0m Trial 8 finished with value: 0.7989717107512726 and parameters: {'n_estimators': 756, 'learning_rate': 0.05, 'num_leaves': 65, 'min_child_samples': 63}. Best is trial 0 with value: 0.7896322929902199.\u001b[0m\n"
     ]
    },
    {
     "name": "stdout",
     "output_type": "stream",
     "text": [
      "Early stopping, best iteration is:\n",
      "[41]\tvalid_0's l2: 0.0122769\n",
      "   fold  num_train_gene  num_train_sgrna  num_test_gene  num_test_sgRNA  \\\n",
      "0     0             944             7976            315            2625   \n",
      "\n",
      "   num_overlap_gene  \n",
      "0                 0  \n",
      "Training until validation scores don't improve for 50 rounds\n",
      "Early stopping, best iteration is:\n",
      "[72]\tvalid_0's l2: 0.0116651\n",
      "   fold  num_train_gene  num_train_sgrna  num_test_gene  num_test_sgRNA  \\\n",
      "0     0             944             7976            315            2625   \n",
      "1     1             945             7899            314            2702   \n",
      "\n",
      "   num_overlap_gene  \n",
      "0                 0  \n",
      "1                 0  \n",
      "Training until validation scores don't improve for 50 rounds\n",
      "Early stopping, best iteration is:\n",
      "[59]\tvalid_0's l2: 0.0120284\n",
      "   fold  num_train_gene  num_train_sgrna  num_test_gene  num_test_sgRNA  \\\n",
      "0     0             944             7976            315            2625   \n",
      "1     1             945             7899            314            2702   \n",
      "2     2             944             7955            315            2646   \n",
      "\n",
      "   num_overlap_gene  \n",
      "0                 0  \n",
      "1                 0  \n",
      "2                 0  \n",
      "Training until validation scores don't improve for 50 rounds\n",
      "Early stopping, best iteration is:\n",
      "[85]\tvalid_0's l2: 0.012225\n",
      "   fold  num_train_gene  num_train_sgrna  num_test_gene  num_test_sgRNA  \\\n",
      "0     0             944             7976            315            2625   \n",
      "1     1             945             7899            314            2702   \n",
      "2     2             944             7955            315            2646   \n",
      "3     3             944             7973            315            2628   \n",
      "\n",
      "   num_overlap_gene  \n",
      "0                 0  \n",
      "1                 0  \n",
      "2                 0  \n",
      "3                 0  \n",
      "Training until validation scores don't improve for 50 rounds\n",
      "Early stopping, best iteration is:\n",
      "[97]\tvalid_0's l2: 0.0122204\n"
     ]
    },
    {
     "name": "stderr",
     "output_type": "stream",
     "text": [
      "\u001b[32m[I 2022-11-10 02:13:35,870]\u001b[0m Trial 9 finished with value: 0.8162165829267306 and parameters: {'n_estimators': 1494, 'learning_rate': 0.03, 'num_leaves': 126, 'min_child_samples': 143}. Best is trial 0 with value: 0.7896322929902199.\u001b[0m\n"
     ]
    },
    {
     "name": "stdout",
     "output_type": "stream",
     "text": [
      "   fold  num_train_gene  num_train_sgrna  num_test_gene  num_test_sgRNA  \\\n",
      "0     0             944             7976            315            2625   \n",
      "\n",
      "   num_overlap_gene  \n",
      "0                 0  \n",
      "Training until validation scores don't improve for 50 rounds\n",
      "Did not meet early stopping. Best iteration is:\n",
      "[166]\tvalid_0's l2: 0.0117257\n",
      "   fold  num_train_gene  num_train_sgrna  num_test_gene  num_test_sgRNA  \\\n",
      "0     0             944             7976            315            2625   \n",
      "1     1             945             7899            314            2702   \n",
      "\n",
      "   num_overlap_gene  \n",
      "0                 0  \n",
      "1                 0  \n",
      "Training until validation scores don't improve for 50 rounds\n",
      "Did not meet early stopping. Best iteration is:\n",
      "[166]\tvalid_0's l2: 0.0120878\n",
      "   fold  num_train_gene  num_train_sgrna  num_test_gene  num_test_sgRNA  \\\n",
      "0     0             944             7976            315            2625   \n",
      "1     1             945             7899            314            2702   \n",
      "2     2             944             7955            315            2646   \n",
      "\n",
      "   num_overlap_gene  \n",
      "0                 0  \n",
      "1                 0  \n",
      "2                 0  \n",
      "Training until validation scores don't improve for 50 rounds\n",
      "Did not meet early stopping. Best iteration is:\n",
      "[166]\tvalid_0's l2: 0.0123906\n"
     ]
    },
    {
     "name": "stderr",
     "output_type": "stream",
     "text": [
      "\u001b[32m[I 2022-11-10 02:13:37,106]\u001b[0m Trial 10 finished with value: 0.8429404268929902 and parameters: {'n_estimators': 166, 'learning_rate': 0.01, 'num_leaves': 11, 'min_child_samples': 52}. Best is trial 0 with value: 0.7896322929902199.\u001b[0m\n"
     ]
    },
    {
     "name": "stdout",
     "output_type": "stream",
     "text": [
      "   fold  num_train_gene  num_train_sgrna  num_test_gene  num_test_sgRNA  \\\n",
      "0     0             944             7976            315            2625   \n",
      "1     1             945             7899            314            2702   \n",
      "2     2             944             7955            315            2646   \n",
      "3     3             944             7973            315            2628   \n",
      "\n",
      "   num_overlap_gene  \n",
      "0                 0  \n",
      "1                 0  \n",
      "2                 0  \n",
      "3                 0  \n",
      "Training until validation scores don't improve for 50 rounds\n",
      "Did not meet early stopping. Best iteration is:\n",
      "[166]\tvalid_0's l2: 0.0123539\n",
      "   fold  num_train_gene  num_train_sgrna  num_test_gene  num_test_sgRNA  \\\n",
      "0     0             944             7976            315            2625   \n",
      "\n",
      "   num_overlap_gene  \n",
      "0                 0  \n",
      "Training until validation scores don't improve for 50 rounds\n",
      "Early stopping, best iteration is:\n",
      "[33]\tvalid_0's l2: 0.0116795\n",
      "   fold  num_train_gene  num_train_sgrna  num_test_gene  num_test_sgRNA  \\\n",
      "0     0             944             7976            315            2625   \n",
      "1     1             945             7899            314            2702   \n",
      "\n",
      "   num_overlap_gene  \n",
      "0                 0  \n",
      "1                 0  \n",
      "Training until validation scores don't improve for 50 rounds\n",
      "Early stopping, best iteration is:\n",
      "[31]\tvalid_0's l2: 0.0120663\n",
      "   fold  num_train_gene  num_train_sgrna  num_test_gene  num_test_sgRNA  \\\n",
      "0     0             944             7976            315            2625   \n",
      "1     1             945             7899            314            2702   \n",
      "2     2             944             7955            315            2646   \n",
      "\n",
      "   num_overlap_gene  \n",
      "0                 0  \n",
      "1                 0  \n",
      "2                 0  \n",
      "Training until validation scores don't improve for 50 rounds\n",
      "Early stopping, best iteration is:\n",
      "[56]\tvalid_0's l2: 0.0123933\n"
     ]
    },
    {
     "name": "stderr",
     "output_type": "stream",
     "text": [
      "\u001b[32m[I 2022-11-10 02:13:38,360]\u001b[0m Trial 11 finished with value: 0.7952573989372955 and parameters: {'n_estimators': 1100, 'learning_rate': 0.05, 'num_leaves': 53, 'min_child_samples': 54}. Best is trial 0 with value: 0.7896322929902199.\u001b[0m\n"
     ]
    },
    {
     "name": "stdout",
     "output_type": "stream",
     "text": [
      "   fold  num_train_gene  num_train_sgrna  num_test_gene  num_test_sgRNA  \\\n",
      "0     0             944             7976            315            2625   \n",
      "1     1             945             7899            314            2702   \n",
      "2     2             944             7955            315            2646   \n",
      "3     3             944             7973            315            2628   \n",
      "\n",
      "   num_overlap_gene  \n",
      "0                 0  \n",
      "1                 0  \n",
      "2                 0  \n",
      "3                 0  \n",
      "Training until validation scores don't improve for 50 rounds\n",
      "Early stopping, best iteration is:\n",
      "[46]\tvalid_0's l2: 0.0122859\n",
      "   fold  num_train_gene  num_train_sgrna  num_test_gene  num_test_sgRNA  \\\n",
      "0     0             944             7976            315            2625   \n",
      "\n",
      "   num_overlap_gene  \n",
      "0                 0  \n",
      "Training until validation scores don't improve for 50 rounds\n",
      "Early stopping, best iteration is:\n",
      "[36]\tvalid_0's l2: 0.0116717\n",
      "   fold  num_train_gene  num_train_sgrna  num_test_gene  num_test_sgRNA  \\\n",
      "0     0             944             7976            315            2625   \n",
      "1     1             945             7899            314            2702   \n",
      "\n",
      "   num_overlap_gene  \n",
      "0                 0  \n",
      "1                 0  \n",
      "Training until validation scores don't improve for 50 rounds\n",
      "Early stopping, best iteration is:\n",
      "[34]\tvalid_0's l2: 0.0120521\n",
      "   fold  num_train_gene  num_train_sgrna  num_test_gene  num_test_sgRNA  \\\n",
      "0     0             944             7976            315            2625   \n",
      "1     1             945             7899            314            2702   \n",
      "2     2             944             7955            315            2646   \n",
      "\n",
      "   num_overlap_gene  \n",
      "0                 0  \n",
      "1                 0  \n",
      "2                 0  \n",
      "Training until validation scores don't improve for 50 rounds\n",
      "Early stopping, best iteration is:\n",
      "[42]\tvalid_0's l2: 0.0123339\n",
      "   fold  num_train_gene  num_train_sgrna  num_test_gene  num_test_sgRNA  \\\n",
      "0     0             944             7976            315            2625   \n",
      "1     1             945             7899            314            2702   \n",
      "2     2             944             7955            315            2646   \n",
      "3     3             944             7973            315            2628   \n",
      "\n",
      "   num_overlap_gene  \n",
      "0                 0  \n",
      "1                 0  \n",
      "2                 0  \n",
      "3                 0  \n",
      "Training until validation scores don't improve for 50 rounds\n",
      "Early stopping, best iteration is:\n",
      "[46]\tvalid_0's l2: 0.0122554\n"
     ]
    },
    {
     "name": "stderr",
     "output_type": "stream",
     "text": [
      "\u001b[32m[I 2022-11-10 02:13:39,715]\u001b[0m Trial 12 finished with value: 0.802385099770651 and parameters: {'n_estimators': 1085, 'learning_rate': 0.05, 'num_leaves': 64, 'min_child_samples': 78}. Best is trial 0 with value: 0.7896322929902199.\u001b[0m\n"
     ]
    },
    {
     "name": "stdout",
     "output_type": "stream",
     "text": [
      "   fold  num_train_gene  num_train_sgrna  num_test_gene  num_test_sgRNA  \\\n",
      "0     0             944             7976            315            2625   \n",
      "\n",
      "   num_overlap_gene  \n",
      "0                 0  \n",
      "Training until validation scores don't improve for 50 rounds\n",
      "Early stopping, best iteration is:\n",
      "[61]\tvalid_0's l2: 0.0116586\n",
      "   fold  num_train_gene  num_train_sgrna  num_test_gene  num_test_sgRNA  \\\n",
      "0     0             944             7976            315            2625   \n",
      "1     1             945             7899            314            2702   \n",
      "\n",
      "   num_overlap_gene  \n",
      "0                 0  \n",
      "1                 0  \n",
      "Training until validation scores don't improve for 50 rounds\n",
      "Early stopping, best iteration is:\n",
      "[60]\tvalid_0's l2: 0.0119961\n",
      "   fold  num_train_gene  num_train_sgrna  num_test_gene  num_test_sgRNA  \\\n",
      "0     0             944             7976            315            2625   \n",
      "1     1             945             7899            314            2702   \n",
      "2     2             944             7955            315            2646   \n",
      "\n",
      "   num_overlap_gene  \n",
      "0                 0  \n",
      "1                 0  \n",
      "2                 0  \n",
      "Training until validation scores don't improve for 50 rounds\n",
      "Early stopping, best iteration is:\n",
      "[86]\tvalid_0's l2: 0.0121577\n"
     ]
    },
    {
     "name": "stderr",
     "output_type": "stream",
     "text": [
      "\u001b[32m[I 2022-11-10 02:13:40,952]\u001b[0m Trial 13 finished with value: 0.8217819959201704 and parameters: {'n_estimators': 1108, 'learning_rate': 0.04, 'num_leaves': 70, 'min_child_samples': 214}. Best is trial 0 with value: 0.7896322929902199.\u001b[0m\n"
     ]
    },
    {
     "name": "stdout",
     "output_type": "stream",
     "text": [
      "   fold  num_train_gene  num_train_sgrna  num_test_gene  num_test_sgRNA  \\\n",
      "0     0             944             7976            315            2625   \n",
      "1     1             945             7899            314            2702   \n",
      "2     2             944             7955            315            2646   \n",
      "3     3             944             7973            315            2628   \n",
      "\n",
      "   num_overlap_gene  \n",
      "0                 0  \n",
      "1                 0  \n",
      "2                 0  \n",
      "3                 0  \n",
      "Training until validation scores don't improve for 50 rounds\n",
      "Early stopping, best iteration is:\n",
      "[83]\tvalid_0's l2: 0.0122227\n",
      "   fold  num_train_gene  num_train_sgrna  num_test_gene  num_test_sgRNA  \\\n",
      "0     0             944             7976            315            2625   \n",
      "\n",
      "   num_overlap_gene  \n",
      "0                 0  \n",
      "Training until validation scores don't improve for 50 rounds\n",
      "Early stopping, best iteration is:\n",
      "[49]\tvalid_0's l2: 0.0116504\n",
      "   fold  num_train_gene  num_train_sgrna  num_test_gene  num_test_sgRNA  \\\n",
      "0     0             944             7976            315            2625   \n",
      "1     1             945             7899            314            2702   \n",
      "\n",
      "   num_overlap_gene  \n",
      "0                 0  \n",
      "1                 0  \n",
      "Training until validation scores don't improve for 50 rounds\n",
      "Early stopping, best iteration is:\n",
      "[48]\tvalid_0's l2: 0.0120076\n",
      "   fold  num_train_gene  num_train_sgrna  num_test_gene  num_test_sgRNA  \\\n",
      "0     0             944             7976            315            2625   \n",
      "1     1             945             7899            314            2702   \n",
      "2     2             944             7955            315            2646   \n",
      "\n",
      "   num_overlap_gene  \n",
      "0                 0  \n",
      "1                 0  \n",
      "2                 0  \n",
      "Training until validation scores don't improve for 50 rounds\n",
      "Early stopping, best iteration is:\n",
      "[68]\tvalid_0's l2: 0.0121737\n",
      "   fold  num_train_gene  num_train_sgrna  num_test_gene  num_test_sgRNA  \\\n",
      "0     0             944             7976            315            2625   \n",
      "1     1             945             7899            314            2702   \n",
      "2     2             944             7955            315            2646   \n",
      "3     3             944             7973            315            2628   \n",
      "\n",
      "   num_overlap_gene  \n",
      "0                 0  \n",
      "1                 0  \n",
      "2                 0  \n",
      "3                 0  \n",
      "Training until validation scores don't improve for 50 rounds\n",
      "Early stopping, best iteration is:\n",
      "[56]\tvalid_0's l2: 0.0122144\n"
     ]
    },
    {
     "name": "stderr",
     "output_type": "stream",
     "text": [
      "\u001b[32m[I 2022-11-10 02:13:41,856]\u001b[0m Trial 14 finished with value: 0.8203004805017052 and parameters: {'n_estimators': 1201, 'learning_rate': 0.05, 'num_leaves': 16, 'min_child_samples': 84}. Best is trial 0 with value: 0.7896322929902199.\u001b[0m\n"
     ]
    },
    {
     "name": "stdout",
     "output_type": "stream",
     "text": [
      "   fold  num_train_gene  num_train_sgrna  num_test_gene  num_test_sgRNA  \\\n",
      "0     0             944             7976            315            2625   \n",
      "\n",
      "   num_overlap_gene  \n",
      "0                 0  \n",
      "Training until validation scores don't improve for 50 rounds\n",
      "Early stopping, best iteration is:\n",
      "[88]\tvalid_0's l2: 0.011665\n",
      "   fold  num_train_gene  num_train_sgrna  num_test_gene  num_test_sgRNA  \\\n",
      "0     0             944             7976            315            2625   \n",
      "1     1             945             7899            314            2702   \n",
      "\n",
      "   num_overlap_gene  \n",
      "0                 0  \n",
      "1                 0  \n",
      "Training until validation scores don't improve for 50 rounds\n",
      "Early stopping, best iteration is:\n",
      "[87]\tvalid_0's l2: 0.0120452\n",
      "   fold  num_train_gene  num_train_sgrna  num_test_gene  num_test_sgRNA  \\\n",
      "0     0             944             7976            315            2625   \n",
      "1     1             945             7899            314            2702   \n",
      "2     2             944             7955            315            2646   \n",
      "\n",
      "   num_overlap_gene  \n",
      "0                 0  \n",
      "1                 0  \n",
      "2                 0  \n",
      "Training until validation scores don't improve for 50 rounds\n",
      "Early stopping, best iteration is:\n",
      "[124]\tvalid_0's l2: 0.0122686\n",
      "   fold  num_train_gene  num_train_sgrna  num_test_gene  num_test_sgRNA  \\\n",
      "0     0             944             7976            315            2625   \n",
      "1     1             945             7899            314            2702   \n",
      "2     2             944             7955            315            2646   \n",
      "3     3             944             7973            315            2628   \n",
      "\n",
      "   num_overlap_gene  \n",
      "0                 0  \n",
      "1                 0  \n",
      "2                 0  \n",
      "3                 0  \n",
      "Training until validation scores don't improve for 50 rounds\n"
     ]
    },
    {
     "name": "stderr",
     "output_type": "stream",
     "text": [
      "\u001b[32m[I 2022-11-10 02:13:43,730]\u001b[0m Trial 15 finished with value: 0.8079244974951793 and parameters: {'n_estimators': 983, 'learning_rate': 0.02, 'num_leaves': 95, 'min_child_samples': 93}. Best is trial 0 with value: 0.7896322929902199.\u001b[0m\n"
     ]
    },
    {
     "name": "stdout",
     "output_type": "stream",
     "text": [
      "Early stopping, best iteration is:\n",
      "[103]\tvalid_0's l2: 0.0122448\n",
      "   fold  num_train_gene  num_train_sgrna  num_test_gene  num_test_sgRNA  \\\n",
      "0     0             944             7976            315            2625   \n",
      "\n",
      "   num_overlap_gene  \n",
      "0                 0  \n",
      "Training until validation scores don't improve for 50 rounds\n",
      "Early stopping, best iteration is:\n",
      "[91]\tvalid_0's l2: 0.0117044\n",
      "   fold  num_train_gene  num_train_sgrna  num_test_gene  num_test_sgRNA  \\\n",
      "0     0             944             7976            315            2625   \n",
      "1     1             945             7899            314            2702   \n",
      "\n",
      "   num_overlap_gene  \n",
      "0                 0  \n",
      "1                 0  \n",
      "Training until validation scores don't improve for 50 rounds\n",
      "Early stopping, best iteration is:\n",
      "[84]\tvalid_0's l2: 0.0120538\n",
      "   fold  num_train_gene  num_train_sgrna  num_test_gene  num_test_sgRNA  \\\n",
      "0     0             944             7976            315            2625   \n",
      "1     1             945             7899            314            2702   \n",
      "2     2             944             7955            315            2646   \n",
      "\n",
      "   num_overlap_gene  \n",
      "0                 0  \n",
      "1                 0  \n",
      "2                 0  \n",
      "Training until validation scores don't improve for 50 rounds\n",
      "Early stopping, best iteration is:\n",
      "[130]\tvalid_0's l2: 0.0123155\n",
      "   fold  num_train_gene  num_train_sgrna  num_test_gene  num_test_sgRNA  \\\n",
      "0     0             944             7976            315            2625   \n",
      "1     1             945             7899            314            2702   \n",
      "2     2             944             7955            315            2646   \n",
      "3     3             944             7973            315            2628   \n",
      "\n",
      "   num_overlap_gene  \n",
      "0                 0  \n",
      "1                 0  \n",
      "2                 0  \n",
      "3                 0  \n",
      "Training until validation scores don't improve for 50 rounds\n",
      "Early stopping, best iteration is:\n",
      "[112]\tvalid_0's l2: 0.0122682\n"
     ]
    },
    {
     "name": "stderr",
     "output_type": "stream",
     "text": [
      "\u001b[32m[I 2022-11-10 02:13:45,173]\u001b[0m Trial 16 finished with value: 0.8022815672263772 and parameters: {'n_estimators': 1301, 'learning_rate': 0.02, 'num_leaves': 44, 'min_child_samples': 60}. Best is trial 0 with value: 0.7896322929902199.\u001b[0m\n"
     ]
    },
    {
     "name": "stdout",
     "output_type": "stream",
     "text": [
      "   fold  num_train_gene  num_train_sgrna  num_test_gene  num_test_sgRNA  \\\n",
      "0     0             944             7976            315            2625   \n",
      "\n",
      "   num_overlap_gene  \n",
      "0                 0  \n",
      "Training until validation scores don't improve for 50 rounds\n",
      "Early stopping, best iteration is:\n",
      "[41]\tvalid_0's l2: 0.0116605\n",
      "   fold  num_train_gene  num_train_sgrna  num_test_gene  num_test_sgRNA  \\\n",
      "0     0             944             7976            315            2625   \n",
      "1     1             945             7899            314            2702   \n",
      "\n",
      "   num_overlap_gene  \n",
      "0                 0  \n",
      "1                 0  \n",
      "Training until validation scores don't improve for 50 rounds\n",
      "Early stopping, best iteration is:\n",
      "[46]\tvalid_0's l2: 0.0120093\n",
      "   fold  num_train_gene  num_train_sgrna  num_test_gene  num_test_sgRNA  \\\n",
      "0     0             944             7976            315            2625   \n",
      "1     1             945             7899            314            2702   \n",
      "2     2             944             7955            315            2646   \n",
      "\n",
      "   num_overlap_gene  \n",
      "0                 0  \n",
      "1                 0  \n",
      "2                 0  \n",
      "Training until validation scores don't improve for 50 rounds\n",
      "Early stopping, best iteration is:\n",
      "[64]\tvalid_0's l2: 0.0121554\n"
     ]
    },
    {
     "name": "stderr",
     "output_type": "stream",
     "text": [
      "\u001b[32m[I 2022-11-10 02:13:46,323]\u001b[0m Trial 17 finished with value: 0.8211837745180001 and parameters: {'n_estimators': 604, 'learning_rate': 0.05, 'num_leaves': 97, 'min_child_samples': 183}. Best is trial 0 with value: 0.7896322929902199.\u001b[0m\n"
     ]
    },
    {
     "name": "stdout",
     "output_type": "stream",
     "text": [
      "   fold  num_train_gene  num_train_sgrna  num_test_gene  num_test_sgRNA  \\\n",
      "0     0             944             7976            315            2625   \n",
      "1     1             945             7899            314            2702   \n",
      "2     2             944             7955            315            2646   \n",
      "3     3             944             7973            315            2628   \n",
      "\n",
      "   num_overlap_gene  \n",
      "0                 0  \n",
      "1                 0  \n",
      "2                 0  \n",
      "3                 0  \n",
      "Training until validation scores don't improve for 50 rounds\n",
      "Early stopping, best iteration is:\n",
      "[50]\tvalid_0's l2: 0.0122197\n",
      "   fold  num_train_gene  num_train_sgrna  num_test_gene  num_test_sgRNA  \\\n",
      "0     0             944             7976            315            2625   \n",
      "\n",
      "   num_overlap_gene  \n",
      "0                 0  \n",
      "Training until validation scores don't improve for 50 rounds\n",
      "Early stopping, best iteration is:\n",
      "[196]\tvalid_0's l2: 0.0116474\n",
      "   fold  num_train_gene  num_train_sgrna  num_test_gene  num_test_sgRNA  \\\n",
      "0     0             944             7976            315            2625   \n",
      "1     1             945             7899            314            2702   \n",
      "\n",
      "   num_overlap_gene  \n",
      "0                 0  \n",
      "1                 0  \n",
      "Training until validation scores don't improve for 50 rounds\n",
      "Early stopping, best iteration is:\n",
      "[171]\tvalid_0's l2: 0.0120193\n",
      "   fold  num_train_gene  num_train_sgrna  num_test_gene  num_test_sgRNA  \\\n",
      "0     0             944             7976            315            2625   \n",
      "1     1             945             7899            314            2702   \n",
      "2     2             944             7955            315            2646   \n",
      "\n",
      "   num_overlap_gene  \n",
      "0                 0  \n",
      "1                 0  \n",
      "2                 0  \n",
      "Training until validation scores don't improve for 50 rounds\n",
      "Early stopping, best iteration is:\n",
      "[248]\tvalid_0's l2: 0.0122309\n",
      "   fold  num_train_gene  num_train_sgrna  num_test_gene  num_test_sgRNA  \\\n",
      "0     0             944             7976            315            2625   \n",
      "1     1             945             7899            314            2702   \n",
      "2     2             944             7955            315            2646   \n",
      "3     3             944             7973            315            2628   \n",
      "\n",
      "   num_overlap_gene  \n",
      "0                 0  \n",
      "1                 0  \n",
      "2                 0  \n",
      "3                 0  \n",
      "Training until validation scores don't improve for 50 rounds\n",
      "Early stopping, best iteration is:\n",
      "[278]\tvalid_0's l2: 0.0122028\n"
     ]
    },
    {
     "name": "stderr",
     "output_type": "stream",
     "text": [
      "\u001b[32m[I 2022-11-10 02:13:48,649]\u001b[0m Trial 18 finished with value: 0.8141784178622242 and parameters: {'n_estimators': 1356, 'learning_rate': 0.01, 'num_leaves': 180, 'min_child_samples': 125}. Best is trial 0 with value: 0.7896322929902199.\u001b[0m\n"
     ]
    },
    {
     "name": "stdout",
     "output_type": "stream",
     "text": [
      "   fold  num_train_gene  num_train_sgrna  num_test_gene  num_test_sgRNA  \\\n",
      "0     0             944             7976            315            2625   \n",
      "\n",
      "   num_overlap_gene  \n",
      "0                 0  \n",
      "Training until validation scores don't improve for 50 rounds\n",
      "Early stopping, best iteration is:\n",
      "[58]\tvalid_0's l2: 0.0116629\n",
      "   fold  num_train_gene  num_train_sgrna  num_test_gene  num_test_sgRNA  \\\n",
      "0     0             944             7976            315            2625   \n",
      "1     1             945             7899            314            2702   \n",
      "\n",
      "   num_overlap_gene  \n",
      "0                 0  \n",
      "1                 0  \n",
      "Training until validation scores don't improve for 50 rounds\n",
      "Early stopping, best iteration is:\n",
      "[57]\tvalid_0's l2: 0.0120319\n",
      "   fold  num_train_gene  num_train_sgrna  num_test_gene  num_test_sgRNA  \\\n",
      "0     0             944             7976            315            2625   \n",
      "1     1             945             7899            314            2702   \n",
      "2     2             944             7955            315            2646   \n",
      "\n",
      "   num_overlap_gene  \n",
      "0                 0  \n",
      "1                 0  \n",
      "2                 0  \n",
      "Training until validation scores don't improve for 50 rounds\n",
      "Early stopping, best iteration is:\n",
      "[78]\tvalid_0's l2: 0.0122997\n",
      "   fold  num_train_gene  num_train_sgrna  num_test_gene  num_test_sgRNA  \\\n",
      "0     0             944             7976            315            2625   \n",
      "1     1             945             7899            314            2702   \n",
      "2     2             944             7955            315            2646   \n",
      "3     3             944             7973            315            2628   \n",
      "\n",
      "   num_overlap_gene  \n",
      "0                 0  \n",
      "1                 0  \n",
      "2                 0  \n",
      "3                 0  \n",
      "Training until validation scores don't improve for 50 rounds\n"
     ]
    },
    {
     "name": "stderr",
     "output_type": "stream",
     "text": [
      "\u001b[32m[I 2022-11-10 02:13:49,876]\u001b[0m Trial 19 finished with value: 0.8089064136921708 and parameters: {'n_estimators': 989, 'learning_rate': 0.03, 'num_leaves': 42, 'min_child_samples': 79}. Best is trial 0 with value: 0.7896322929902199.\u001b[0m\n"
     ]
    },
    {
     "name": "stdout",
     "output_type": "stream",
     "text": [
      "Early stopping, best iteration is:\n",
      "[77]\tvalid_0's l2: 0.0122359\n",
      "   fold  num_train_gene  num_train_sgrna  num_test_gene  num_test_sgRNA  \\\n",
      "0     0             944             7976            315            2625   \n",
      "\n",
      "   num_overlap_gene  \n",
      "0                 0  \n",
      "Training until validation scores don't improve for 50 rounds\n",
      "Early stopping, best iteration is:\n",
      "[46]\tvalid_0's l2: 0.0116629\n",
      "   fold  num_train_gene  num_train_sgrna  num_test_gene  num_test_sgRNA  \\\n",
      "0     0             944             7976            315            2625   \n",
      "1     1             945             7899            314            2702   \n",
      "\n",
      "   num_overlap_gene  \n",
      "0                 0  \n",
      "1                 0  \n",
      "Training until validation scores don't improve for 50 rounds\n",
      "Early stopping, best iteration is:\n",
      "[44]\tvalid_0's l2: 0.0120076\n",
      "   fold  num_train_gene  num_train_sgrna  num_test_gene  num_test_sgRNA  \\\n",
      "0     0             944             7976            315            2625   \n",
      "1     1             945             7899            314            2702   \n",
      "2     2             944             7955            315            2646   \n",
      "\n",
      "   num_overlap_gene  \n",
      "0                 0  \n",
      "1                 0  \n",
      "2                 0  \n",
      "Training until validation scores don't improve for 50 rounds\n",
      "Early stopping, best iteration is:\n",
      "[66]\tvalid_0's l2: 0.0121643\n"
     ]
    },
    {
     "name": "stderr",
     "output_type": "stream",
     "text": [
      "\u001b[32m[I 2022-11-10 02:13:51,082]\u001b[0m Trial 20 finished with value: 0.8198052425424193 and parameters: {'n_estimators': 129, 'learning_rate': 0.05, 'num_leaves': 96, 'min_child_samples': 187}. Best is trial 0 with value: 0.7896322929902199.\u001b[0m\n"
     ]
    },
    {
     "name": "stdout",
     "output_type": "stream",
     "text": [
      "   fold  num_train_gene  num_train_sgrna  num_test_gene  num_test_sgRNA  \\\n",
      "0     0             944             7976            315            2625   \n",
      "1     1             945             7899            314            2702   \n",
      "2     2             944             7955            315            2646   \n",
      "3     3             944             7973            315            2628   \n",
      "\n",
      "   num_overlap_gene  \n",
      "0                 0  \n",
      "1                 0  \n",
      "2                 0  \n",
      "3                 0  \n",
      "Training until validation scores don't improve for 50 rounds\n",
      "Early stopping, best iteration is:\n",
      "[64]\tvalid_0's l2: 0.0122041\n",
      "   fold  num_train_gene  num_train_sgrna  num_test_gene  num_test_sgRNA  \\\n",
      "0     0             944             7976            315            2625   \n",
      "\n",
      "   num_overlap_gene  \n",
      "0                 0  \n",
      "Training until validation scores don't improve for 50 rounds\n",
      "Early stopping, best iteration is:\n",
      "[41]\tvalid_0's l2: 0.0117182\n",
      "   fold  num_train_gene  num_train_sgrna  num_test_gene  num_test_sgRNA  \\\n",
      "0     0             944             7976            315            2625   \n",
      "1     1             945             7899            314            2702   \n",
      "\n",
      "   num_overlap_gene  \n",
      "0                 0  \n",
      "1                 0  \n",
      "Training until validation scores don't improve for 50 rounds\n",
      "Early stopping, best iteration is:\n",
      "[31]\tvalid_0's l2: 0.0120911\n",
      "   fold  num_train_gene  num_train_sgrna  num_test_gene  num_test_sgRNA  \\\n",
      "0     0             944             7976            315            2625   \n",
      "1     1             945             7899            314            2702   \n",
      "2     2             944             7955            315            2646   \n",
      "\n",
      "   num_overlap_gene  \n",
      "0                 0  \n",
      "1                 0  \n",
      "2                 0  \n",
      "Training until validation scores don't improve for 50 rounds\n",
      "Early stopping, best iteration is:\n",
      "[43]\tvalid_0's l2: 0.0124241\n"
     ]
    },
    {
     "name": "stderr",
     "output_type": "stream",
     "text": [
      "\u001b[32m[I 2022-11-10 02:13:52,199]\u001b[0m Trial 21 finished with value: 0.7922400265878193 and parameters: {'n_estimators': 650, 'learning_rate': 0.05, 'num_leaves': 67, 'min_child_samples': 53}. Best is trial 0 with value: 0.7896322929902199.\u001b[0m\n"
     ]
    },
    {
     "name": "stdout",
     "output_type": "stream",
     "text": [
      "   fold  num_train_gene  num_train_sgrna  num_test_gene  num_test_sgRNA  \\\n",
      "0     0             944             7976            315            2625   \n",
      "1     1             945             7899            314            2702   \n",
      "2     2             944             7955            315            2646   \n",
      "3     3             944             7973            315            2628   \n",
      "\n",
      "   num_overlap_gene  \n",
      "0                 0  \n",
      "1                 0  \n",
      "2                 0  \n",
      "3                 0  \n",
      "Training until validation scores don't improve for 50 rounds\n",
      "Early stopping, best iteration is:\n",
      "[36]\tvalid_0's l2: 0.0123033\n",
      "   fold  num_train_gene  num_train_sgrna  num_test_gene  num_test_sgRNA  \\\n",
      "0     0             944             7976            315            2625   \n",
      "\n",
      "   num_overlap_gene  \n",
      "0                 0  \n",
      "Training until validation scores don't improve for 50 rounds\n",
      "Early stopping, best iteration is:\n",
      "[39]\tvalid_0's l2: 0.0117109\n",
      "   fold  num_train_gene  num_train_sgrna  num_test_gene  num_test_sgRNA  \\\n",
      "0     0             944             7976            315            2625   \n",
      "1     1             945             7899            314            2702   \n",
      "\n",
      "   num_overlap_gene  \n",
      "0                 0  \n",
      "1                 0  \n",
      "Training until validation scores don't improve for 50 rounds\n",
      "Early stopping, best iteration is:\n",
      "[30]\tvalid_0's l2: 0.012067\n",
      "   fold  num_train_gene  num_train_sgrna  num_test_gene  num_test_sgRNA  \\\n",
      "0     0             944             7976            315            2625   \n",
      "1     1             945             7899            314            2702   \n",
      "2     2             944             7955            315            2646   \n",
      "\n",
      "   num_overlap_gene  \n",
      "0                 0  \n",
      "1                 0  \n",
      "2                 0  \n",
      "Training until validation scores don't improve for 50 rounds\n",
      "Early stopping, best iteration is:\n",
      "[51]\tvalid_0's l2: 0.0123372\n",
      "   fold  num_train_gene  num_train_sgrna  num_test_gene  num_test_sgRNA  \\\n",
      "0     0             944             7976            315            2625   \n",
      "1     1             945             7899            314            2702   \n",
      "2     2             944             7955            315            2646   \n",
      "3     3             944             7973            315            2628   \n",
      "\n",
      "   num_overlap_gene  \n",
      "0                 0  \n",
      "1                 0  \n",
      "2                 0  \n",
      "3                 0  \n",
      "Training until validation scores don't improve for 50 rounds\n"
     ]
    },
    {
     "name": "stderr",
     "output_type": "stream",
     "text": [
      "\u001b[32m[I 2022-11-10 02:13:53,204]\u001b[0m Trial 22 finished with value: 0.7990693866470355 and parameters: {'n_estimators': 664, 'learning_rate': 0.05, 'num_leaves': 42, 'min_child_samples': 51}. Best is trial 0 with value: 0.7896322929902199.\u001b[0m\n"
     ]
    },
    {
     "name": "stdout",
     "output_type": "stream",
     "text": [
      "Early stopping, best iteration is:\n",
      "[53]\tvalid_0's l2: 0.0122624\n",
      "   fold  num_train_gene  num_train_sgrna  num_test_gene  num_test_sgRNA  \\\n",
      "0     0             944             7976            315            2625   \n",
      "\n",
      "   num_overlap_gene  \n",
      "0                 0  \n",
      "Training until validation scores don't improve for 50 rounds\n",
      "Early stopping, best iteration is:\n",
      "[38]\tvalid_0's l2: 0.0117045\n",
      "   fold  num_train_gene  num_train_sgrna  num_test_gene  num_test_sgRNA  \\\n",
      "0     0             944             7976            315            2625   \n",
      "1     1             945             7899            314            2702   \n",
      "\n",
      "   num_overlap_gene  \n",
      "0                 0  \n",
      "1                 0  \n",
      "Training until validation scores don't improve for 50 rounds\n",
      "Early stopping, best iteration is:\n",
      "[33]\tvalid_0's l2: 0.0120786\n",
      "   fold  num_train_gene  num_train_sgrna  num_test_gene  num_test_sgRNA  \\\n",
      "0     0             944             7976            315            2625   \n",
      "1     1             945             7899            314            2702   \n",
      "2     2             944             7955            315            2646   \n",
      "\n",
      "   num_overlap_gene  \n",
      "0                 0  \n",
      "1                 0  \n",
      "2                 0  \n",
      "Training until validation scores don't improve for 50 rounds\n",
      "Early stopping, best iteration is:\n",
      "[41]\tvalid_0's l2: 0.0123496\n"
     ]
    },
    {
     "name": "stderr",
     "output_type": "stream",
     "text": [
      "\u001b[32m[I 2022-11-10 02:13:54,370]\u001b[0m Trial 23 finished with value: 0.7956110778951696 and parameters: {'n_estimators': 332, 'learning_rate': 0.05, 'num_leaves': 82, 'min_child_samples': 68}. Best is trial 0 with value: 0.7896322929902199.\u001b[0m\n"
     ]
    },
    {
     "name": "stdout",
     "output_type": "stream",
     "text": [
      "   fold  num_train_gene  num_train_sgrna  num_test_gene  num_test_sgRNA  \\\n",
      "0     0             944             7976            315            2625   \n",
      "1     1             945             7899            314            2702   \n",
      "2     2             944             7955            315            2646   \n",
      "3     3             944             7973            315            2628   \n",
      "\n",
      "   num_overlap_gene  \n",
      "0                 0  \n",
      "1                 0  \n",
      "2                 0  \n",
      "3                 0  \n",
      "Training until validation scores don't improve for 50 rounds\n",
      "Early stopping, best iteration is:\n",
      "[43]\tvalid_0's l2: 0.0122945\n",
      "   fold  num_train_gene  num_train_sgrna  num_test_gene  num_test_sgRNA  \\\n",
      "0     0             944             7976            315            2625   \n",
      "\n",
      "   num_overlap_gene  \n",
      "0                 0  \n",
      "Training until validation scores don't improve for 50 rounds\n",
      "Early stopping, best iteration is:\n",
      "[45]\tvalid_0's l2: 0.0116741\n",
      "   fold  num_train_gene  num_train_sgrna  num_test_gene  num_test_sgRNA  \\\n",
      "0     0             944             7976            315            2625   \n",
      "1     1             945             7899            314            2702   \n",
      "\n",
      "   num_overlap_gene  \n",
      "0                 0  \n",
      "1                 0  \n",
      "Training until validation scores don't improve for 50 rounds\n",
      "Early stopping, best iteration is:\n",
      "[43]\tvalid_0's l2: 0.0120405\n",
      "   fold  num_train_gene  num_train_sgrna  num_test_gene  num_test_sgRNA  \\\n",
      "0     0             944             7976            315            2625   \n",
      "1     1             945             7899            314            2702   \n",
      "2     2             944             7955            315            2646   \n",
      "\n",
      "   num_overlap_gene  \n",
      "0                 0  \n",
      "1                 0  \n",
      "2                 0  \n",
      "Training until validation scores don't improve for 50 rounds\n",
      "Early stopping, best iteration is:\n",
      "[62]\tvalid_0's l2: 0.0122769\n"
     ]
    },
    {
     "name": "stderr",
     "output_type": "stream",
     "text": [
      "\u001b[32m[I 2022-11-10 02:13:55,576]\u001b[0m Trial 24 finished with value: 0.8063393730433934 and parameters: {'n_estimators': 956, 'learning_rate': 0.04, 'num_leaves': 109, 'min_child_samples': 92}. Best is trial 0 with value: 0.7896322929902199.\u001b[0m\n"
     ]
    },
    {
     "name": "stdout",
     "output_type": "stream",
     "text": [
      "   fold  num_train_gene  num_train_sgrna  num_test_gene  num_test_sgRNA  \\\n",
      "0     0             944             7976            315            2625   \n",
      "1     1             945             7899            314            2702   \n",
      "2     2             944             7955            315            2646   \n",
      "3     3             944             7973            315            2628   \n",
      "\n",
      "   num_overlap_gene  \n",
      "0                 0  \n",
      "1                 0  \n",
      "2                 0  \n",
      "3                 0  \n",
      "Training until validation scores don't improve for 50 rounds\n",
      "Early stopping, best iteration is:\n",
      "[56]\tvalid_0's l2: 0.0122209\n",
      "   fold  num_train_gene  num_train_sgrna  num_test_gene  num_test_sgRNA  \\\n",
      "0     0             944             7976            315            2625   \n",
      "\n",
      "   num_overlap_gene  \n",
      "0                 0  \n",
      "Training until validation scores don't improve for 50 rounds\n",
      "Early stopping, best iteration is:\n",
      "[102]\tvalid_0's l2: 0.0116505\n",
      "   fold  num_train_gene  num_train_sgrna  num_test_gene  num_test_sgRNA  \\\n",
      "0     0             944             7976            315            2625   \n",
      "1     1             945             7899            314            2702   \n",
      "\n",
      "   num_overlap_gene  \n",
      "0                 0  \n",
      "1                 0  \n",
      "Training until validation scores don't improve for 50 rounds\n",
      "Early stopping, best iteration is:\n",
      "[92]\tvalid_0's l2: 0.0120134\n",
      "   fold  num_train_gene  num_train_sgrna  num_test_gene  num_test_sgRNA  \\\n",
      "0     0             944             7976            315            2625   \n",
      "1     1             945             7899            314            2702   \n",
      "2     2             944             7955            315            2646   \n",
      "\n",
      "   num_overlap_gene  \n",
      "0                 0  \n",
      "1                 0  \n",
      "2                 0  \n",
      "Training until validation scores don't improve for 50 rounds\n",
      "Early stopping, best iteration is:\n",
      "[124]\tvalid_0's l2: 0.0122502\n",
      "   fold  num_train_gene  num_train_sgrna  num_test_gene  num_test_sgRNA  \\\n",
      "0     0             944             7976            315            2625   \n",
      "1     1             945             7899            314            2702   \n",
      "2     2             944             7955            315            2646   \n",
      "3     3             944             7973            315            2628   \n",
      "\n",
      "   num_overlap_gene  \n",
      "0                 0  \n",
      "1                 0  \n",
      "2                 0  \n",
      "3                 0  \n",
      "Training until validation scores don't improve for 50 rounds\n"
     ]
    },
    {
     "name": "stderr",
     "output_type": "stream",
     "text": [
      "\u001b[32m[I 2022-11-10 02:13:56,848]\u001b[0m Trial 25 finished with value: 0.8095889127349877 and parameters: {'n_estimators': 1141, 'learning_rate': 0.02, 'num_leaves': 31, 'min_child_samples': 70}. Best is trial 0 with value: 0.7896322929902199.\u001b[0m\n"
     ]
    },
    {
     "name": "stdout",
     "output_type": "stream",
     "text": [
      "Early stopping, best iteration is:\n",
      "[135]\tvalid_0's l2: 0.0122243\n",
      "   fold  num_train_gene  num_train_sgrna  num_test_gene  num_test_sgRNA  \\\n",
      "0     0             944             7976            315            2625   \n",
      "\n",
      "   num_overlap_gene  \n",
      "0                 0  \n",
      "Training until validation scores don't improve for 50 rounds\n",
      "Early stopping, best iteration is:\n",
      "[30]\tvalid_0's l2: 0.0116633\n",
      "   fold  num_train_gene  num_train_sgrna  num_test_gene  num_test_sgRNA  \\\n",
      "0     0             944             7976            315            2625   \n",
      "1     1             945             7899            314            2702   \n",
      "\n",
      "   num_overlap_gene  \n",
      "0                 0  \n",
      "1                 0  \n",
      "Training until validation scores don't improve for 50 rounds\n",
      "Early stopping, best iteration is:\n",
      "[32]\tvalid_0's l2: 0.0120338\n",
      "   fold  num_train_gene  num_train_sgrna  num_test_gene  num_test_sgRNA  \\\n",
      "0     0             944             7976            315            2625   \n",
      "1     1             945             7899            314            2702   \n",
      "2     2             944             7955            315            2646   \n",
      "\n",
      "   num_overlap_gene  \n",
      "0                 0  \n",
      "1                 0  \n",
      "2                 0  \n",
      "Training until validation scores don't improve for 50 rounds\n",
      "Early stopping, best iteration is:\n",
      "[52]\tvalid_0's l2: 0.0122734\n"
     ]
    },
    {
     "name": "stderr",
     "output_type": "stream",
     "text": [
      "\u001b[32m[I 2022-11-10 02:13:57,955]\u001b[0m Trial 26 finished with value: 0.8114356863975523 and parameters: {'n_estimators': 391, 'learning_rate': 0.05, 'num_leaves': 58, 'min_child_samples': 96}. Best is trial 0 with value: 0.7896322929902199.\u001b[0m\n"
     ]
    },
    {
     "name": "stdout",
     "output_type": "stream",
     "text": [
      "   fold  num_train_gene  num_train_sgrna  num_test_gene  num_test_sgRNA  \\\n",
      "0     0             944             7976            315            2625   \n",
      "1     1             945             7899            314            2702   \n",
      "2     2             944             7955            315            2646   \n",
      "3     3             944             7973            315            2628   \n",
      "\n",
      "   num_overlap_gene  \n",
      "0                 0  \n",
      "1                 0  \n",
      "2                 0  \n",
      "3                 0  \n",
      "Training until validation scores don't improve for 50 rounds\n",
      "Early stopping, best iteration is:\n",
      "[40]\tvalid_0's l2: 0.0122304\n",
      "   fold  num_train_gene  num_train_sgrna  num_test_gene  num_test_sgRNA  \\\n",
      "0     0             944             7976            315            2625   \n",
      "\n",
      "   num_overlap_gene  \n",
      "0                 0  \n",
      "Training until validation scores don't improve for 50 rounds\n",
      "Early stopping, best iteration is:\n",
      "[41]\tvalid_0's l2: 0.0116479\n",
      "   fold  num_train_gene  num_train_sgrna  num_test_gene  num_test_sgRNA  \\\n",
      "0     0             944             7976            315            2625   \n",
      "1     1             945             7899            314            2702   \n",
      "\n",
      "   num_overlap_gene  \n",
      "0                 0  \n",
      "1                 0  \n",
      "Training until validation scores don't improve for 50 rounds\n",
      "Early stopping, best iteration is:\n",
      "[36]\tvalid_0's l2: 0.0120267\n",
      "   fold  num_train_gene  num_train_sgrna  num_test_gene  num_test_sgRNA  \\\n",
      "0     0             944             7976            315            2625   \n",
      "1     1             945             7899            314            2702   \n",
      "2     2             944             7955            315            2646   \n",
      "\n",
      "   num_overlap_gene  \n",
      "0                 0  \n",
      "1                 0  \n",
      "2                 0  \n",
      "Training until validation scores don't improve for 50 rounds\n",
      "Early stopping, best iteration is:\n",
      "[49]\tvalid_0's l2: 0.0122312\n"
     ]
    },
    {
     "name": "stderr",
     "output_type": "stream",
     "text": [
      "\u001b[32m[I 2022-11-10 02:13:59,029]\u001b[0m Trial 27 finished with value: 0.8148959476859922 and parameters: {'n_estimators': 666, 'learning_rate': 0.05, 'num_leaves': 80, 'min_child_samples': 134}. Best is trial 0 with value: 0.7896322929902199.\u001b[0m\n"
     ]
    },
    {
     "name": "stdout",
     "output_type": "stream",
     "text": [
      "   fold  num_train_gene  num_train_sgrna  num_test_gene  num_test_sgRNA  \\\n",
      "0     0             944             7976            315            2625   \n",
      "1     1             945             7899            314            2702   \n",
      "2     2             944             7955            315            2646   \n",
      "3     3             944             7973            315            2628   \n",
      "\n",
      "   num_overlap_gene  \n",
      "0                 0  \n",
      "1                 0  \n",
      "2                 0  \n",
      "3                 0  \n",
      "Training until validation scores don't improve for 50 rounds\n",
      "Early stopping, best iteration is:\n",
      "[55]\tvalid_0's l2: 0.0122028\n",
      "   fold  num_train_gene  num_train_sgrna  num_test_gene  num_test_sgRNA  \\\n",
      "0     0             944             7976            315            2625   \n",
      "\n",
      "   num_overlap_gene  \n",
      "0                 0  \n",
      "Training until validation scores don't improve for 50 rounds\n",
      "Early stopping, best iteration is:\n",
      "[88]\tvalid_0's l2: 0.011694\n",
      "   fold  num_train_gene  num_train_sgrna  num_test_gene  num_test_sgRNA  \\\n",
      "0     0             944             7976            315            2625   \n",
      "1     1             945             7899            314            2702   \n",
      "\n",
      "   num_overlap_gene  \n",
      "0                 0  \n",
      "1                 0  \n",
      "Training until validation scores don't improve for 50 rounds\n",
      "Early stopping, best iteration is:\n",
      "[80]\tvalid_0's l2: 0.0121206\n",
      "   fold  num_train_gene  num_train_sgrna  num_test_gene  num_test_sgRNA  \\\n",
      "0     0             944             7976            315            2625   \n",
      "1     1             945             7899            314            2702   \n",
      "2     2             944             7955            315            2646   \n",
      "\n",
      "   num_overlap_gene  \n",
      "0                 0  \n",
      "1                 0  \n",
      "2                 0  \n",
      "Training until validation scores don't improve for 50 rounds\n",
      "Early stopping, best iteration is:\n",
      "[113]\tvalid_0's l2: 0.0124549\n",
      "   fold  num_train_gene  num_train_sgrna  num_test_gene  num_test_sgRNA  \\\n",
      "0     0             944             7976            315            2625   \n",
      "1     1             945             7899            314            2702   \n",
      "2     2             944             7955            315            2646   \n",
      "3     3             944             7973            315            2628   \n",
      "\n",
      "   num_overlap_gene  \n",
      "0                 0  \n",
      "1                 0  \n",
      "2                 0  \n",
      "3                 0  \n"
     ]
    },
    {
     "name": "stderr",
     "output_type": "stream",
     "text": [
      "\u001b[32m[I 2022-11-10 02:14:00,821]\u001b[0m Trial 28 finished with value: 0.7841748031296729 and parameters: {'n_estimators': 909, 'learning_rate': 0.02, 'num_leaves': 114, 'min_child_samples': 54}. Best is trial 28 with value: 0.7841748031296729.\u001b[0m\n"
     ]
    },
    {
     "name": "stdout",
     "output_type": "stream",
     "text": [
      "Training until validation scores don't improve for 50 rounds\n",
      "Early stopping, best iteration is:\n",
      "[100]\tvalid_0's l2: 0.0123447\n",
      "   fold  num_train_gene  num_train_sgrna  num_test_gene  num_test_sgRNA  \\\n",
      "0     0             944             7976            315            2625   \n",
      "\n",
      "   num_overlap_gene  \n",
      "0                 0  \n",
      "Training until validation scores don't improve for 50 rounds\n",
      "Early stopping, best iteration is:\n",
      "[91]\tvalid_0's l2: 0.0116532\n",
      "   fold  num_train_gene  num_train_sgrna  num_test_gene  num_test_sgRNA  \\\n",
      "0     0             944             7976            315            2625   \n",
      "1     1             945             7899            314            2702   \n",
      "\n",
      "   num_overlap_gene  \n",
      "0                 0  \n",
      "1                 0  \n",
      "Training until validation scores don't improve for 50 rounds\n",
      "Early stopping, best iteration is:\n",
      "[81]\tvalid_0's l2: 0.0120193\n",
      "   fold  num_train_gene  num_train_sgrna  num_test_gene  num_test_sgRNA  \\\n",
      "0     0             944             7976            315            2625   \n",
      "1     1             945             7899            314            2702   \n",
      "2     2             944             7955            315            2646   \n",
      "\n",
      "   num_overlap_gene  \n",
      "0                 0  \n",
      "1                 0  \n",
      "2                 0  \n",
      "Training until validation scores don't improve for 50 rounds\n",
      "Early stopping, best iteration is:\n",
      "[124]\tvalid_0's l2: 0.0122588\n",
      "   fold  num_train_gene  num_train_sgrna  num_test_gene  num_test_sgRNA  \\\n",
      "0     0             944             7976            315            2625   \n",
      "1     1             945             7899            314            2702   \n",
      "2     2             944             7955            315            2646   \n",
      "3     3             944             7973            315            2628   \n",
      "\n",
      "   num_overlap_gene  \n",
      "0                 0  \n",
      "1                 0  \n",
      "2                 0  \n",
      "3                 0  \n",
      "Training until validation scores don't improve for 50 rounds\n",
      "Early stopping, best iteration is:\n",
      "[131]\tvalid_0's l2: 0.0122146\n"
     ]
    },
    {
     "name": "stderr",
     "output_type": "stream",
     "text": [
      "\u001b[32m[I 2022-11-10 02:14:02,365]\u001b[0m Trial 29 finished with value: 0.8116002510238585 and parameters: {'n_estimators': 921, 'learning_rate': 0.02, 'num_leaves': 115, 'min_child_samples': 109}. Best is trial 28 with value: 0.7841748031296729.\u001b[0m\n"
     ]
    },
    {
     "name": "stdout",
     "output_type": "stream",
     "text": [
      "   fold  num_train_gene  num_train_sgrna  num_test_gene  num_test_sgRNA  \\\n",
      "0     0             944             7976            315            2625   \n",
      "\n",
      "   num_overlap_gene  \n",
      "0                 0  \n",
      "Training until validation scores don't improve for 50 rounds\n",
      "Early stopping, best iteration is:\n",
      "[88]\tvalid_0's l2: 0.0116839\n",
      "   fold  num_train_gene  num_train_sgrna  num_test_gene  num_test_sgRNA  \\\n",
      "0     0             944             7976            315            2625   \n",
      "1     1             945             7899            314            2702   \n",
      "\n",
      "   num_overlap_gene  \n",
      "0                 0  \n",
      "1                 0  \n",
      "Training until validation scores don't improve for 50 rounds\n",
      "Early stopping, best iteration is:\n",
      "[83]\tvalid_0's l2: 0.012062\n",
      "   fold  num_train_gene  num_train_sgrna  num_test_gene  num_test_sgRNA  \\\n",
      "0     0             944             7976            315            2625   \n",
      "1     1             945             7899            314            2702   \n",
      "2     2             944             7955            315            2646   \n",
      "\n",
      "   num_overlap_gene  \n",
      "0                 0  \n",
      "1                 0  \n",
      "2                 0  \n",
      "Training until validation scores don't improve for 50 rounds\n",
      "Early stopping, best iteration is:\n",
      "[110]\tvalid_0's l2: 0.0123572\n",
      "   fold  num_train_gene  num_train_sgrna  num_test_gene  num_test_sgRNA  \\\n",
      "0     0             944             7976            315            2625   \n",
      "1     1             945             7899            314            2702   \n",
      "2     2             944             7955            315            2646   \n",
      "3     3             944             7973            315            2628   \n",
      "\n",
      "   num_overlap_gene  \n",
      "0                 0  \n",
      "1                 0  \n",
      "2                 0  \n",
      "3                 0  \n",
      "Training until validation scores don't improve for 50 rounds\n",
      "Early stopping, best iteration is:\n",
      "[104]\tvalid_0's l2: 0.0122879\n"
     ]
    },
    {
     "name": "stderr",
     "output_type": "stream",
     "text": [
      "\u001b[32m[I 2022-11-10 02:14:03,946]\u001b[0m Trial 30 finished with value: 0.7992878213509022 and parameters: {'n_estimators': 696, 'learning_rate': 0.02, 'num_leaves': 120, 'min_child_samples': 73}. Best is trial 28 with value: 0.7841748031296729.\u001b[0m\n"
     ]
    },
    {
     "name": "stdout",
     "output_type": "stream",
     "text": [
      "   fold  num_train_gene  num_train_sgrna  num_test_gene  num_test_sgRNA  \\\n",
      "0     0             944             7976            315            2625   \n",
      "\n",
      "   num_overlap_gene  \n",
      "0                 0  \n",
      "Training until validation scores don't improve for 50 rounds\n",
      "Early stopping, best iteration is:\n",
      "[91]\tvalid_0's l2: 0.0116852\n",
      "   fold  num_train_gene  num_train_sgrna  num_test_gene  num_test_sgRNA  \\\n",
      "0     0             944             7976            315            2625   \n",
      "1     1             945             7899            314            2702   \n",
      "\n",
      "   num_overlap_gene  \n",
      "0                 0  \n",
      "1                 0  \n",
      "Training until validation scores don't improve for 50 rounds\n",
      "Early stopping, best iteration is:\n",
      "[76]\tvalid_0's l2: 0.0121249\n",
      "   fold  num_train_gene  num_train_sgrna  num_test_gene  num_test_sgRNA  \\\n",
      "0     0             944             7976            315            2625   \n",
      "1     1             945             7899            314            2702   \n",
      "2     2             944             7955            315            2646   \n",
      "\n",
      "   num_overlap_gene  \n",
      "0                 0  \n",
      "1                 0  \n",
      "2                 0  \n",
      "Training until validation scores don't improve for 50 rounds\n",
      "Early stopping, best iteration is:\n",
      "[104]\tvalid_0's l2: 0.0124828\n",
      "   fold  num_train_gene  num_train_sgrna  num_test_gene  num_test_sgRNA  \\\n",
      "0     0             944             7976            315            2625   \n",
      "1     1             945             7899            314            2702   \n",
      "2     2             944             7955            315            2646   \n",
      "3     3             944             7973            315            2628   \n",
      "\n",
      "   num_overlap_gene  \n",
      "0                 0  \n",
      "1                 0  \n",
      "2                 0  \n",
      "3                 0  \n",
      "Training until validation scores don't improve for 50 rounds\n",
      "Early stopping, best iteration is:\n",
      "[89]\tvalid_0's l2: 0.0123363\n"
     ]
    },
    {
     "name": "stderr",
     "output_type": "stream",
     "text": [
      "\u001b[32m[I 2022-11-10 02:14:05,487]\u001b[0m Trial 31 finished with value: 0.7882107413178088 and parameters: {'n_estimators': 1060, 'learning_rate': 0.02, 'num_leaves': 85, 'min_child_samples': 50}. Best is trial 28 with value: 0.7841748031296729.\u001b[0m\n"
     ]
    },
    {
     "name": "stdout",
     "output_type": "stream",
     "text": [
      "   fold  num_train_gene  num_train_sgrna  num_test_gene  num_test_sgRNA  \\\n",
      "0     0             944             7976            315            2625   \n",
      "\n",
      "   num_overlap_gene  \n",
      "0                 0  \n",
      "Training until validation scores don't improve for 50 rounds\n",
      "Early stopping, best iteration is:\n",
      "[89]\tvalid_0's l2: 0.0117036\n",
      "   fold  num_train_gene  num_train_sgrna  num_test_gene  num_test_sgRNA  \\\n",
      "0     0             944             7976            315            2625   \n",
      "1     1             945             7899            314            2702   \n",
      "\n",
      "   num_overlap_gene  \n",
      "0                 0  \n",
      "1                 0  \n",
      "Training until validation scores don't improve for 50 rounds\n",
      "Early stopping, best iteration is:\n",
      "[81]\tvalid_0's l2: 0.0121002\n",
      "   fold  num_train_gene  num_train_sgrna  num_test_gene  num_test_sgRNA  \\\n",
      "0     0             944             7976            315            2625   \n",
      "1     1             945             7899            314            2702   \n",
      "2     2             944             7955            315            2646   \n",
      "\n",
      "   num_overlap_gene  \n",
      "0                 0  \n",
      "1                 0  \n",
      "2                 0  \n",
      "Training until validation scores don't improve for 50 rounds\n",
      "Early stopping, best iteration is:\n",
      "[105]\tvalid_0's l2: 0.0123947\n",
      "   fold  num_train_gene  num_train_sgrna  num_test_gene  num_test_sgRNA  \\\n",
      "0     0             944             7976            315            2625   \n",
      "1     1             945             7899            314            2702   \n",
      "2     2             944             7955            315            2646   \n",
      "3     3             944             7973            315            2628   \n",
      "\n",
      "   num_overlap_gene  \n",
      "0                 0  \n",
      "1                 0  \n",
      "2                 0  \n",
      "3                 0  \n",
      "Training until validation scores don't improve for 50 rounds\n",
      "Early stopping, best iteration is:\n",
      "[97]\tvalid_0's l2: 0.0122978\n"
     ]
    },
    {
     "name": "stderr",
     "output_type": "stream",
     "text": [
      "\u001b[32m[I 2022-11-10 02:14:07,042]\u001b[0m Trial 32 finished with value: 0.7941331812804673 and parameters: {'n_estimators': 861, 'learning_rate': 0.02, 'num_leaves': 82, 'min_child_samples': 61}. Best is trial 28 with value: 0.7841748031296729.\u001b[0m\n"
     ]
    },
    {
     "name": "stdout",
     "output_type": "stream",
     "text": [
      "   fold  num_train_gene  num_train_sgrna  num_test_gene  num_test_sgRNA  \\\n",
      "0     0             944             7976            315            2625   \n",
      "\n",
      "   num_overlap_gene  \n",
      "0                 0  \n",
      "Training until validation scores don't improve for 50 rounds\n",
      "Early stopping, best iteration is:\n",
      "[95]\tvalid_0's l2: 0.0116812\n",
      "   fold  num_train_gene  num_train_sgrna  num_test_gene  num_test_sgRNA  \\\n",
      "0     0             944             7976            315            2625   \n",
      "1     1             945             7899            314            2702   \n",
      "\n",
      "   num_overlap_gene  \n",
      "0                 0  \n",
      "1                 0  \n",
      "Training until validation scores don't improve for 50 rounds\n",
      "Early stopping, best iteration is:\n",
      "[80]\tvalid_0's l2: 0.0120507\n",
      "   fold  num_train_gene  num_train_sgrna  num_test_gene  num_test_sgRNA  \\\n",
      "0     0             944             7976            315            2625   \n",
      "1     1             945             7899            314            2702   \n",
      "2     2             944             7955            315            2646   \n",
      "\n",
      "   num_overlap_gene  \n",
      "0                 0  \n",
      "1                 0  \n",
      "2                 0  \n",
      "Training until validation scores don't improve for 50 rounds\n",
      "Early stopping, best iteration is:\n",
      "[122]\tvalid_0's l2: 0.0122985\n",
      "   fold  num_train_gene  num_train_sgrna  num_test_gene  num_test_sgRNA  \\\n",
      "0     0             944             7976            315            2625   \n",
      "1     1             945             7899            314            2702   \n",
      "2     2             944             7955            315            2646   \n",
      "3     3             944             7973            315            2628   \n",
      "\n",
      "   num_overlap_gene  \n",
      "0                 0  \n",
      "1                 0  \n",
      "2                 0  \n",
      "3                 0  \n",
      "Training until validation scores don't improve for 50 rounds\n"
     ]
    },
    {
     "name": "stderr",
     "output_type": "stream",
     "text": [
      "\u001b[32m[I 2022-11-10 02:14:08,682]\u001b[0m Trial 33 finished with value: 0.8026336725621177 and parameters: {'n_estimators': 1045, 'learning_rate': 0.02, 'num_leaves': 136, 'min_child_samples': 84}. Best is trial 28 with value: 0.7841748031296729.\u001b[0m\n"
     ]
    },
    {
     "name": "stdout",
     "output_type": "stream",
     "text": [
      "Early stopping, best iteration is:\n",
      "[114]\tvalid_0's l2: 0.012251\n",
      "   fold  num_train_gene  num_train_sgrna  num_test_gene  num_test_sgRNA  \\\n",
      "0     0             944             7976            315            2625   \n",
      "\n",
      "   num_overlap_gene  \n",
      "0                 0  \n",
      "Training until validation scores don't improve for 50 rounds\n",
      "Early stopping, best iteration is:\n",
      "[87]\tvalid_0's l2: 0.0116837\n",
      "   fold  num_train_gene  num_train_sgrna  num_test_gene  num_test_sgRNA  \\\n",
      "0     0             944             7976            315            2625   \n",
      "1     1             945             7899            314            2702   \n",
      "\n",
      "   num_overlap_gene  \n",
      "0                 0  \n",
      "1                 0  \n",
      "Training until validation scores don't improve for 50 rounds\n",
      "Early stopping, best iteration is:\n",
      "[74]\tvalid_0's l2: 0.0121212\n",
      "   fold  num_train_gene  num_train_sgrna  num_test_gene  num_test_sgRNA  \\\n",
      "0     0             944             7976            315            2625   \n",
      "1     1             945             7899            314            2702   \n",
      "2     2             944             7955            315            2646   \n",
      "\n",
      "   num_overlap_gene  \n",
      "0                 0  \n",
      "1                 0  \n",
      "2                 0  \n",
      "Training until validation scores don't improve for 50 rounds\n",
      "Early stopping, best iteration is:\n",
      "[96]\tvalid_0's l2: 0.0124726\n",
      "   fold  num_train_gene  num_train_sgrna  num_test_gene  num_test_sgRNA  \\\n",
      "0     0             944             7976            315            2625   \n",
      "1     1             945             7899            314            2702   \n",
      "2     2             944             7955            315            2646   \n",
      "3     3             944             7973            315            2628   \n",
      "\n",
      "   num_overlap_gene  \n",
      "0                 0  \n",
      "1                 0  \n",
      "2                 0  \n",
      "3                 0  \n",
      "Training until validation scores don't improve for 50 rounds\n",
      "Early stopping, best iteration is:\n",
      "[98]\tvalid_0's l2: 0.0123313\n"
     ]
    },
    {
     "name": "stderr",
     "output_type": "stream",
     "text": [
      "\u001b[32m[I 2022-11-10 02:14:10,381]\u001b[0m Trial 34 finished with value: 0.787103179925233 and parameters: {'n_estimators': 865, 'learning_rate': 0.02, 'num_leaves': 173, 'min_child_samples': 53}. Best is trial 28 with value: 0.7841748031296729.\u001b[0m\n"
     ]
    },
    {
     "name": "stdout",
     "output_type": "stream",
     "text": [
      "   fold  num_train_gene  num_train_sgrna  num_test_gene  num_test_sgRNA  \\\n",
      "0     0             944             7976            315            2625   \n",
      "\n",
      "   num_overlap_gene  \n",
      "0                 0  \n",
      "Training until validation scores don't improve for 50 rounds\n",
      "Early stopping, best iteration is:\n",
      "[92]\tvalid_0's l2: 0.0116747\n",
      "   fold  num_train_gene  num_train_sgrna  num_test_gene  num_test_sgRNA  \\\n",
      "0     0             944             7976            315            2625   \n",
      "1     1             945             7899            314            2702   \n",
      "\n",
      "   num_overlap_gene  \n",
      "0                 0  \n",
      "1                 0  \n",
      "Training until validation scores don't improve for 50 rounds\n",
      "Early stopping, best iteration is:\n",
      "[83]\tvalid_0's l2: 0.0120434\n",
      "   fold  num_train_gene  num_train_sgrna  num_test_gene  num_test_sgRNA  \\\n",
      "0     0             944             7976            315            2625   \n",
      "1     1             945             7899            314            2702   \n",
      "2     2             944             7955            315            2646   \n",
      "\n",
      "   num_overlap_gene  \n",
      "0                 0  \n",
      "1                 0  \n",
      "2                 0  \n",
      "Training until validation scores don't improve for 50 rounds\n",
      "Early stopping, best iteration is:\n",
      "[109]\tvalid_0's l2: 0.0122845\n",
      "   fold  num_train_gene  num_train_sgrna  num_test_gene  num_test_sgRNA  \\\n",
      "0     0             944             7976            315            2625   \n",
      "1     1             945             7899            314            2702   \n",
      "2     2             944             7955            315            2646   \n",
      "3     3             944             7973            315            2628   \n",
      "\n",
      "   num_overlap_gene  \n",
      "0                 0  \n",
      "1                 0  \n",
      "2                 0  \n",
      "3                 0  \n",
      "Training until validation scores don't improve for 50 rounds\n",
      "Early stopping, best iteration is:\n",
      "[124]\tvalid_0's l2: 0.0122173\n"
     ]
    },
    {
     "name": "stderr",
     "output_type": "stream",
     "text": [
      "\u001b[32m[I 2022-11-10 02:14:11,875]\u001b[0m Trial 35 finished with value: 0.8106897323023956 and parameters: {'n_estimators': 851, 'learning_rate': 0.02, 'num_leaves': 162, 'min_child_samples': 102}. Best is trial 28 with value: 0.7841748031296729.\u001b[0m\n"
     ]
    },
    {
     "name": "stdout",
     "output_type": "stream",
     "text": [
      "   fold  num_train_gene  num_train_sgrna  num_test_gene  num_test_sgRNA  \\\n",
      "0     0             944             7976            315            2625   \n",
      "\n",
      "   num_overlap_gene  \n",
      "0                 0  \n",
      "Training until validation scores don't improve for 50 rounds\n",
      "Early stopping, best iteration is:\n",
      "[134]\tvalid_0's l2: 0.0116676\n",
      "   fold  num_train_gene  num_train_sgrna  num_test_gene  num_test_sgRNA  \\\n",
      "0     0             944             7976            315            2625   \n",
      "1     1             945             7899            314            2702   \n",
      "\n",
      "   num_overlap_gene  \n",
      "0                 0  \n",
      "1                 0  \n",
      "Training until validation scores don't improve for 50 rounds\n",
      "Early stopping, best iteration is:\n",
      "[151]\tvalid_0's l2: 0.0120054\n",
      "   fold  num_train_gene  num_train_sgrna  num_test_gene  num_test_sgRNA  \\\n",
      "0     0             944             7976            315            2625   \n",
      "1     1             945             7899            314            2702   \n",
      "2     2             944             7955            315            2646   \n",
      "\n",
      "   num_overlap_gene  \n",
      "0                 0  \n",
      "1                 0  \n",
      "2                 0  \n",
      "Training until validation scores don't improve for 50 rounds\n",
      "Early stopping, best iteration is:\n",
      "[174]\tvalid_0's l2: 0.0121601\n",
      "   fold  num_train_gene  num_train_sgrna  num_test_gene  num_test_sgRNA  \\\n",
      "0     0             944             7976            315            2625   \n",
      "1     1             945             7899            314            2702   \n",
      "2     2             944             7955            315            2646   \n",
      "3     3             944             7973            315            2628   \n",
      "\n",
      "   num_overlap_gene  \n",
      "0                 0  \n",
      "1                 0  \n",
      "2                 0  \n",
      "3                 0  \n",
      "Training until validation scores don't improve for 50 rounds\n",
      "Early stopping, best iteration is:\n",
      "[172]\tvalid_0's l2: 0.0122287\n"
     ]
    },
    {
     "name": "stderr",
     "output_type": "stream",
     "text": [
      "\u001b[32m[I 2022-11-10 02:14:13,341]\u001b[0m Trial 36 finished with value: 0.8245351992176975 and parameters: {'n_estimators': 1221, 'learning_rate': 0.02, 'num_leaves': 181, 'min_child_samples': 255}. Best is trial 28 with value: 0.7841748031296729.\u001b[0m\n"
     ]
    },
    {
     "name": "stdout",
     "output_type": "stream",
     "text": [
      "   fold  num_train_gene  num_train_sgrna  num_test_gene  num_test_sgRNA  \\\n",
      "0     0             944             7976            315            2625   \n",
      "\n",
      "   num_overlap_gene  \n",
      "0                 0  \n",
      "Training until validation scores don't improve for 50 rounds\n",
      "Early stopping, best iteration is:\n",
      "[100]\tvalid_0's l2: 0.0116364\n",
      "   fold  num_train_gene  num_train_sgrna  num_test_gene  num_test_sgRNA  \\\n",
      "0     0             944             7976            315            2625   \n",
      "1     1             945             7899            314            2702   \n",
      "\n",
      "   num_overlap_gene  \n",
      "0                 0  \n",
      "1                 0  \n",
      "Training until validation scores don't improve for 50 rounds\n",
      "Early stopping, best iteration is:\n",
      "[84]\tvalid_0's l2: 0.0120294\n",
      "   fold  num_train_gene  num_train_sgrna  num_test_gene  num_test_sgRNA  \\\n",
      "0     0             944             7976            315            2625   \n",
      "1     1             945             7899            314            2702   \n",
      "2     2             944             7955            315            2646   \n",
      "\n",
      "   num_overlap_gene  \n",
      "0                 0  \n",
      "1                 0  \n",
      "2                 0  \n",
      "Training until validation scores don't improve for 50 rounds\n",
      "Early stopping, best iteration is:\n",
      "[123]\tvalid_0's l2: 0.0122312\n",
      "   fold  num_train_gene  num_train_sgrna  num_test_gene  num_test_sgRNA  \\\n",
      "0     0             944             7976            315            2625   \n",
      "1     1             945             7899            314            2702   \n",
      "2     2             944             7955            315            2646   \n",
      "3     3             944             7973            315            2628   \n",
      "\n",
      "   num_overlap_gene  \n",
      "0                 0  \n",
      "1                 0  \n",
      "2                 0  \n",
      "3                 0  \n",
      "Training until validation scores don't improve for 50 rounds\n",
      "Early stopping, best iteration is:\n",
      "[128]\tvalid_0's l2: 0.0121924\n"
     ]
    },
    {
     "name": "stderr",
     "output_type": "stream",
     "text": [
      "\u001b[32m[I 2022-11-10 02:14:14,897]\u001b[0m Trial 37 finished with value: 0.814157943404428 and parameters: {'n_estimators': 770, 'learning_rate': 0.02, 'num_leaves': 197, 'min_child_samples': 123}. Best is trial 28 with value: 0.7841748031296729.\u001b[0m\n"
     ]
    },
    {
     "name": "stdout",
     "output_type": "stream",
     "text": [
      "   fold  num_train_gene  num_train_sgrna  num_test_gene  num_test_sgRNA  \\\n",
      "0     0             944             7976            315            2625   \n",
      "\n",
      "   num_overlap_gene  \n",
      "0                 0  \n",
      "Training until validation scores don't improve for 50 rounds\n",
      "Early stopping, best iteration is:\n",
      "[90]\tvalid_0's l2: 0.0117222\n",
      "   fold  num_train_gene  num_train_sgrna  num_test_gene  num_test_sgRNA  \\\n",
      "0     0             944             7976            315            2625   \n",
      "1     1             945             7899            314            2702   \n",
      "\n",
      "   num_overlap_gene  \n",
      "0                 0  \n",
      "1                 0  \n",
      "Training until validation scores don't improve for 50 rounds\n",
      "Early stopping, best iteration is:\n",
      "[88]\tvalid_0's l2: 0.0120794\n",
      "   fold  num_train_gene  num_train_sgrna  num_test_gene  num_test_sgRNA  \\\n",
      "0     0             944             7976            315            2625   \n",
      "1     1             945             7899            314            2702   \n",
      "2     2             944             7955            315            2646   \n",
      "\n",
      "   num_overlap_gene  \n",
      "0                 0  \n",
      "1                 0  \n",
      "2                 0  \n",
      "Training until validation scores don't improve for 50 rounds\n",
      "Early stopping, best iteration is:\n",
      "[109]\tvalid_0's l2: 0.012334\n",
      "   fold  num_train_gene  num_train_sgrna  num_test_gene  num_test_sgRNA  \\\n",
      "0     0             944             7976            315            2625   \n",
      "1     1             945             7899            314            2702   \n",
      "2     2             944             7955            315            2646   \n",
      "3     3             944             7973            315            2628   \n",
      "\n",
      "   num_overlap_gene  \n",
      "0                 0  \n",
      "1                 0  \n",
      "2                 0  \n",
      "3                 0  \n",
      "Training until validation scores don't improve for 50 rounds\n",
      "Early stopping, best iteration is:\n",
      "[101]\tvalid_0's l2: 0.0123033\n"
     ]
    },
    {
     "name": "stderr",
     "output_type": "stream",
     "text": [
      "\u001b[32m[I 2022-11-10 02:14:16,602]\u001b[0m Trial 38 finished with value: 0.795220615193116 and parameters: {'n_estimators': 902, 'learning_rate': 0.02, 'num_leaves': 245, 'min_child_samples': 68}. Best is trial 28 with value: 0.7841748031296729.\u001b[0m\n"
     ]
    },
    {
     "name": "stdout",
     "output_type": "stream",
     "text": [
      "   fold  num_train_gene  num_train_sgrna  num_test_gene  num_test_sgRNA  \\\n",
      "0     0             944             7976            315            2625   \n",
      "\n",
      "   num_overlap_gene  \n",
      "0                 0  \n",
      "Training until validation scores don't improve for 50 rounds\n",
      "Early stopping, best iteration is:\n",
      "[95]\tvalid_0's l2: 0.0116812\n",
      "   fold  num_train_gene  num_train_sgrna  num_test_gene  num_test_sgRNA  \\\n",
      "0     0             944             7976            315            2625   \n",
      "1     1             945             7899            314            2702   \n",
      "\n",
      "   num_overlap_gene  \n",
      "0                 0  \n",
      "1                 0  \n",
      "Training until validation scores don't improve for 50 rounds\n",
      "Early stopping, best iteration is:\n",
      "[80]\tvalid_0's l2: 0.0120507\n",
      "   fold  num_train_gene  num_train_sgrna  num_test_gene  num_test_sgRNA  \\\n",
      "0     0             944             7976            315            2625   \n",
      "1     1             945             7899            314            2702   \n",
      "2     2             944             7955            315            2646   \n",
      "\n",
      "   num_overlap_gene  \n",
      "0                 0  \n",
      "1                 0  \n",
      "2                 0  \n",
      "Training until validation scores don't improve for 50 rounds\n",
      "Early stopping, best iteration is:\n",
      "[122]\tvalid_0's l2: 0.0122985\n",
      "   fold  num_train_gene  num_train_sgrna  num_test_gene  num_test_sgRNA  \\\n",
      "0     0             944             7976            315            2625   \n",
      "1     1             945             7899            314            2702   \n",
      "2     2             944             7955            315            2646   \n",
      "3     3             944             7973            315            2628   \n",
      "\n",
      "   num_overlap_gene  \n",
      "0                 0  \n",
      "1                 0  \n",
      "2                 0  \n",
      "3                 0  \n",
      "Training until validation scores don't improve for 50 rounds\n",
      "Early stopping, best iteration is:\n",
      "[114]\tvalid_0's l2: 0.012251\n"
     ]
    },
    {
     "name": "stderr",
     "output_type": "stream",
     "text": [
      "\u001b[32m[I 2022-11-10 02:14:18,249]\u001b[0m Trial 39 finished with value: 0.8026336725621177 and parameters: {'n_estimators': 1021, 'learning_rate': 0.02, 'num_leaves': 154, 'min_child_samples': 84}. Best is trial 28 with value: 0.7841748031296729.\u001b[0m\n"
     ]
    },
    {
     "name": "stdout",
     "output_type": "stream",
     "text": [
      "   fold  num_train_gene  num_train_sgrna  num_test_gene  num_test_sgRNA  \\\n",
      "0     0             944             7976            315            2625   \n",
      "\n",
      "   num_overlap_gene  \n",
      "0                 0  \n",
      "Training until validation scores don't improve for 50 rounds\n",
      "Early stopping, best iteration is:\n",
      "[47]\tvalid_0's l2: 0.0117317\n",
      "   fold  num_train_gene  num_train_sgrna  num_test_gene  num_test_sgRNA  \\\n",
      "0     0             944             7976            315            2625   \n",
      "1     1             945             7899            314            2702   \n",
      "\n",
      "   num_overlap_gene  \n",
      "0                 0  \n",
      "1                 0  \n",
      "Training until validation scores don't improve for 50 rounds\n",
      "Early stopping, best iteration is:\n",
      "[56]\tvalid_0's l2: 0.0121037\n",
      "   fold  num_train_gene  num_train_sgrna  num_test_gene  num_test_sgRNA  \\\n",
      "0     0             944             7976            315            2625   \n",
      "1     1             945             7899            314            2702   \n",
      "2     2             944             7955            315            2646   \n",
      "\n",
      "   num_overlap_gene  \n",
      "0                 0  \n",
      "1                 0  \n",
      "2                 0  \n",
      "Training until validation scores don't improve for 50 rounds\n",
      "Early stopping, best iteration is:\n",
      "[65]\tvalid_0's l2: 0.0124001\n",
      "   fold  num_train_gene  num_train_sgrna  num_test_gene  num_test_sgRNA  \\\n",
      "0     0             944             7976            315            2625   \n",
      "1     1             945             7899            314            2702   \n",
      "2     2             944             7955            315            2646   \n",
      "3     3             944             7973            315            2628   \n",
      "\n",
      "   num_overlap_gene  \n",
      "0                 0  \n",
      "1                 0  \n",
      "2                 0  \n",
      "3                 0  \n",
      "Training until validation scores don't improve for 50 rounds\n",
      "Early stopping, best iteration is:\n",
      "[62]\tvalid_0's l2: 0.0123208\n"
     ]
    },
    {
     "name": "stderr",
     "output_type": "stream",
     "text": [
      "\u001b[32m[I 2022-11-10 02:14:19,781]\u001b[0m Trial 40 finished with value: 0.7973313576412907 and parameters: {'n_estimators': 1169, 'learning_rate': 0.03, 'num_leaves': 135, 'min_child_samples': 62}. Best is trial 28 with value: 0.7841748031296729.\u001b[0m\n"
     ]
    },
    {
     "name": "stdout",
     "output_type": "stream",
     "text": [
      "   fold  num_train_gene  num_train_sgrna  num_test_gene  num_test_sgRNA  \\\n",
      "0     0             944             7976            315            2625   \n",
      "\n",
      "   num_overlap_gene  \n",
      "0                 0  \n",
      "Training until validation scores don't improve for 50 rounds\n",
      "Early stopping, best iteration is:\n",
      "[43]\tvalid_0's l2: 0.0117115\n",
      "   fold  num_train_gene  num_train_sgrna  num_test_gene  num_test_sgRNA  \\\n",
      "0     0             944             7976            315            2625   \n",
      "1     1             945             7899            314            2702   \n",
      "\n",
      "   num_overlap_gene  \n",
      "0                 0  \n",
      "1                 0  \n",
      "Training until validation scores don't improve for 50 rounds\n",
      "Early stopping, best iteration is:\n",
      "[35]\tvalid_0's l2: 0.0121203\n",
      "   fold  num_train_gene  num_train_sgrna  num_test_gene  num_test_sgRNA  \\\n",
      "0     0             944             7976            315            2625   \n",
      "1     1             945             7899            314            2702   \n",
      "2     2             944             7955            315            2646   \n",
      "\n",
      "   num_overlap_gene  \n",
      "0                 0  \n",
      "1                 0  \n",
      "2                 0  \n",
      "Training until validation scores don't improve for 50 rounds\n",
      "Early stopping, best iteration is:\n",
      "[51]\tvalid_0's l2: 0.0124998\n",
      "   fold  num_train_gene  num_train_sgrna  num_test_gene  num_test_sgRNA  \\\n",
      "0     0             944             7976            315            2625   \n",
      "1     1             945             7899            314            2702   \n",
      "2     2             944             7955            315            2646   \n",
      "3     3             944             7973            315            2628   \n",
      "\n",
      "   num_overlap_gene  \n",
      "0                 0  \n",
      "1                 0  \n",
      "2                 0  \n",
      "3                 0  \n",
      "Training until validation scores don't improve for 50 rounds\n",
      "Early stopping, best iteration is:\n",
      "[44]\tvalid_0's l2: 0.0123416\n"
     ]
    },
    {
     "name": "stderr",
     "output_type": "stream",
     "text": [
      "\u001b[32m[I 2022-11-10 02:14:21,244]\u001b[0m Trial 41 finished with value: 0.7863328977828395 and parameters: {'n_estimators': 576, 'learning_rate': 0.04, 'num_leaves': 106, 'min_child_samples': 50}. Best is trial 28 with value: 0.7841748031296729.\u001b[0m\n"
     ]
    },
    {
     "name": "stdout",
     "output_type": "stream",
     "text": [
      "   fold  num_train_gene  num_train_sgrna  num_test_gene  num_test_sgRNA  \\\n",
      "0     0             944             7976            315            2625   \n",
      "\n",
      "   num_overlap_gene  \n",
      "0                 0  \n",
      "Training until validation scores don't improve for 50 rounds\n",
      "Early stopping, best iteration is:\n",
      "[45]\tvalid_0's l2: 0.0117047\n",
      "   fold  num_train_gene  num_train_sgrna  num_test_gene  num_test_sgRNA  \\\n",
      "0     0             944             7976            315            2625   \n",
      "1     1             945             7899            314            2702   \n",
      "\n",
      "   num_overlap_gene  \n",
      "0                 0  \n",
      "1                 0  \n",
      "Training until validation scores don't improve for 50 rounds\n",
      "Early stopping, best iteration is:\n",
      "[35]\tvalid_0's l2: 0.0121179\n",
      "   fold  num_train_gene  num_train_sgrna  num_test_gene  num_test_sgRNA  \\\n",
      "0     0             944             7976            315            2625   \n",
      "1     1             945             7899            314            2702   \n",
      "2     2             944             7955            315            2646   \n",
      "\n",
      "   num_overlap_gene  \n",
      "0                 0  \n",
      "1                 0  \n",
      "2                 0  \n",
      "Training until validation scores don't improve for 50 rounds\n",
      "Early stopping, best iteration is:\n",
      "[52]\tvalid_0's l2: 0.0125071\n",
      "   fold  num_train_gene  num_train_sgrna  num_test_gene  num_test_sgRNA  \\\n",
      "0     0             944             7976            315            2625   \n",
      "1     1             945             7899            314            2702   \n",
      "2     2             944             7955            315            2646   \n",
      "3     3             944             7973            315            2628   \n",
      "\n",
      "   num_overlap_gene  \n",
      "0                 0  \n",
      "1                 0  \n",
      "2                 0  \n",
      "3                 0  \n",
      "Training until validation scores don't improve for 50 rounds\n"
     ]
    },
    {
     "name": "stderr",
     "output_type": "stream",
     "text": [
      "\u001b[32m[I 2022-11-10 02:14:22,650]\u001b[0m Trial 42 finished with value: 0.7838792482857969 and parameters: {'n_estimators': 510, 'learning_rate': 0.04, 'num_leaves': 110, 'min_child_samples': 50}. Best is trial 42 with value: 0.7838792482857969.\u001b[0m\n"
     ]
    },
    {
     "name": "stdout",
     "output_type": "stream",
     "text": [
      "Early stopping, best iteration is:\n",
      "[47]\tvalid_0's l2: 0.012347\n",
      "   fold  num_train_gene  num_train_sgrna  num_test_gene  num_test_sgRNA  \\\n",
      "0     0             944             7976            315            2625   \n",
      "\n",
      "   num_overlap_gene  \n",
      "0                 0  \n",
      "Training until validation scores don't improve for 50 rounds\n",
      "Early stopping, best iteration is:\n",
      "[46]\tvalid_0's l2: 0.0116988\n",
      "   fold  num_train_gene  num_train_sgrna  num_test_gene  num_test_sgRNA  \\\n",
      "0     0             944             7976            315            2625   \n",
      "1     1             945             7899            314            2702   \n",
      "\n",
      "   num_overlap_gene  \n",
      "0                 0  \n",
      "1                 0  \n",
      "Training until validation scores don't improve for 50 rounds\n",
      "Early stopping, best iteration is:\n",
      "[35]\tvalid_0's l2: 0.012125\n",
      "   fold  num_train_gene  num_train_sgrna  num_test_gene  num_test_sgRNA  \\\n",
      "0     0             944             7976            315            2625   \n",
      "1     1             945             7899            314            2702   \n",
      "2     2             944             7955            315            2646   \n",
      "\n",
      "   num_overlap_gene  \n",
      "0                 0  \n",
      "1                 0  \n",
      "2                 0  \n",
      "Training until validation scores don't improve for 50 rounds\n",
      "Early stopping, best iteration is:\n",
      "[54]\tvalid_0's l2: 0.0124736\n",
      "   fold  num_train_gene  num_train_sgrna  num_test_gene  num_test_sgRNA  \\\n",
      "0     0             944             7976            315            2625   \n",
      "1     1             945             7899            314            2702   \n",
      "2     2             944             7955            315            2646   \n",
      "3     3             944             7973            315            2628   \n",
      "\n",
      "   num_overlap_gene  \n",
      "0                 0  \n",
      "1                 0  \n",
      "2                 0  \n",
      "3                 0  \n",
      "Training until validation scores don't improve for 50 rounds\n",
      "Early stopping, best iteration is:\n",
      "[47]\tvalid_0's l2: 0.0123316\n"
     ]
    },
    {
     "name": "stderr",
     "output_type": "stream",
     "text": [
      "\u001b[32m[I 2022-11-10 02:14:24,168]\u001b[0m Trial 43 finished with value: 0.7858512683720068 and parameters: {'n_estimators': 531, 'learning_rate': 0.04, 'num_leaves': 105, 'min_child_samples': 53}. Best is trial 42 with value: 0.7838792482857969.\u001b[0m\n"
     ]
    },
    {
     "name": "stdout",
     "output_type": "stream",
     "text": [
      "   fold  num_train_gene  num_train_sgrna  num_test_gene  num_test_sgRNA  \\\n",
      "0     0             944             7976            315            2625   \n",
      "\n",
      "   num_overlap_gene  \n",
      "0                 0  \n",
      "Training until validation scores don't improve for 50 rounds\n",
      "Early stopping, best iteration is:\n",
      "[45]\tvalid_0's l2: 0.011678\n",
      "   fold  num_train_gene  num_train_sgrna  num_test_gene  num_test_sgRNA  \\\n",
      "0     0             944             7976            315            2625   \n",
      "1     1             945             7899            314            2702   \n",
      "\n",
      "   num_overlap_gene  \n",
      "0                 0  \n",
      "1                 0  \n",
      "Training until validation scores don't improve for 50 rounds\n",
      "Early stopping, best iteration is:\n",
      "[38]\tvalid_0's l2: 0.0120548\n",
      "   fold  num_train_gene  num_train_sgrna  num_test_gene  num_test_sgRNA  \\\n",
      "0     0             944             7976            315            2625   \n",
      "1     1             945             7899            314            2702   \n",
      "2     2             944             7955            315            2646   \n",
      "\n",
      "   num_overlap_gene  \n",
      "0                 0  \n",
      "1                 0  \n",
      "2                 0  \n",
      "Training until validation scores don't improve for 50 rounds\n",
      "Early stopping, best iteration is:\n",
      "[57]\tvalid_0's l2: 0.0123439\n",
      "   fold  num_train_gene  num_train_sgrna  num_test_gene  num_test_sgRNA  \\\n",
      "0     0             944             7976            315            2625   \n",
      "1     1             945             7899            314            2702   \n",
      "2     2             944             7955            315            2646   \n",
      "3     3             944             7973            315            2628   \n",
      "\n",
      "   num_overlap_gene  \n",
      "0                 0  \n",
      "1                 0  \n",
      "2                 0  \n",
      "3                 0  \n",
      "Training until validation scores don't improve for 50 rounds\n"
     ]
    },
    {
     "name": "stderr",
     "output_type": "stream",
     "text": [
      "\u001b[32m[I 2022-11-10 02:14:25,813]\u001b[0m Trial 44 finished with value: 0.8002572565670587 and parameters: {'n_estimators': 526, 'learning_rate': 0.04, 'num_leaves': 108, 'min_child_samples': 75}. Best is trial 42 with value: 0.7838792482857969.\u001b[0m\n"
     ]
    },
    {
     "name": "stdout",
     "output_type": "stream",
     "text": [
      "Early stopping, best iteration is:\n",
      "[54]\tvalid_0's l2: 0.0122877\n",
      "   fold  num_train_gene  num_train_sgrna  num_test_gene  num_test_sgRNA  \\\n",
      "0     0             944             7976            315            2625   \n",
      "\n",
      "   num_overlap_gene  \n",
      "0                 0  \n",
      "Training until validation scores don't improve for 50 rounds\n",
      "Early stopping, best iteration is:\n",
      "[47]\tvalid_0's l2: 0.0116981\n",
      "   fold  num_train_gene  num_train_sgrna  num_test_gene  num_test_sgRNA  \\\n",
      "0     0             944             7976            315            2625   \n",
      "1     1             945             7899            314            2702   \n",
      "\n",
      "   num_overlap_gene  \n",
      "0                 0  \n",
      "1                 0  \n",
      "Training until validation scores don't improve for 50 rounds\n",
      "Early stopping, best iteration is:\n",
      "[40]\tvalid_0's l2: 0.012097\n",
      "   fold  num_train_gene  num_train_sgrna  num_test_gene  num_test_sgRNA  \\\n",
      "0     0             944             7976            315            2625   \n",
      "1     1             945             7899            314            2702   \n",
      "2     2             944             7955            315            2646   \n",
      "\n",
      "   num_overlap_gene  \n",
      "0                 0  \n",
      "1                 0  \n",
      "2                 0  \n",
      "Training until validation scores don't improve for 50 rounds\n",
      "Early stopping, best iteration is:\n",
      "[55]\tvalid_0's l2: 0.0123983\n",
      "   fold  num_train_gene  num_train_sgrna  num_test_gene  num_test_sgRNA  \\\n",
      "0     0             944             7976            315            2625   \n",
      "1     1             945             7899            314            2702   \n",
      "2     2             944             7955            315            2646   \n",
      "3     3             944             7973            315            2628   \n",
      "\n",
      "   num_overlap_gene  \n",
      "0                 0  \n",
      "1                 0  \n",
      "2                 0  \n",
      "3                 0  \n",
      "Training until validation scores don't improve for 50 rounds\n",
      "Early stopping, best iteration is:\n",
      "[52]\tvalid_0's l2: 0.0123131\n"
     ]
    },
    {
     "name": "stderr",
     "output_type": "stream",
     "text": [
      "\u001b[32m[I 2022-11-10 02:14:27,433]\u001b[0m Trial 45 finished with value: 0.7895690306375076 and parameters: {'n_estimators': 424, 'learning_rate': 0.04, 'num_leaves': 129, 'min_child_samples': 61}. Best is trial 42 with value: 0.7838792482857969.\u001b[0m\n"
     ]
    },
    {
     "name": "stdout",
     "output_type": "stream",
     "text": [
      "   fold  num_train_gene  num_train_sgrna  num_test_gene  num_test_sgRNA  \\\n",
      "0     0             944             7976            315            2625   \n",
      "\n",
      "   num_overlap_gene  \n",
      "0                 0  \n",
      "Training until validation scores don't improve for 50 rounds\n",
      "Early stopping, best iteration is:\n",
      "[47]\tvalid_0's l2: 0.0117055\n",
      "   fold  num_train_gene  num_train_sgrna  num_test_gene  num_test_sgRNA  \\\n",
      "0     0             944             7976            315            2625   \n",
      "1     1             945             7899            314            2702   \n",
      "\n",
      "   num_overlap_gene  \n",
      "0                 0  \n",
      "1                 0  \n",
      "Training until validation scores don't improve for 50 rounds\n",
      "Early stopping, best iteration is:\n",
      "[40]\tvalid_0's l2: 0.0120823\n",
      "   fold  num_train_gene  num_train_sgrna  num_test_gene  num_test_sgRNA  \\\n",
      "0     0             944             7976            315            2625   \n",
      "1     1             945             7899            314            2702   \n",
      "2     2             944             7955            315            2646   \n",
      "\n",
      "   num_overlap_gene  \n",
      "0                 0  \n",
      "1                 0  \n",
      "2                 0  \n",
      "Training until validation scores don't improve for 50 rounds\n",
      "Early stopping, best iteration is:\n",
      "[57]\tvalid_0's l2: 0.0123574\n",
      "   fold  num_train_gene  num_train_sgrna  num_test_gene  num_test_sgRNA  \\\n",
      "0     0             944             7976            315            2625   \n",
      "1     1             945             7899            314            2702   \n",
      "2     2             944             7955            315            2646   \n",
      "3     3             944             7973            315            2628   \n",
      "\n",
      "   num_overlap_gene  \n",
      "0                 0  \n",
      "1                 0  \n",
      "2                 0  \n",
      "3                 0  \n",
      "Training until validation scores don't improve for 50 rounds\n",
      "Early stopping, best iteration is:\n",
      "[52]\tvalid_0's l2: 0.0123079\n"
     ]
    },
    {
     "name": "stderr",
     "output_type": "stream",
     "text": [
      "\u001b[32m[I 2022-11-10 02:14:28,940]\u001b[0m Trial 46 finished with value: 0.7947784873320158 and parameters: {'n_estimators': 264, 'learning_rate': 0.04, 'num_leaves': 170, 'min_child_samples': 68}. Best is trial 42 with value: 0.7838792482857969.\u001b[0m\n"
     ]
    },
    {
     "name": "stdout",
     "output_type": "stream",
     "text": [
      "   fold  num_train_gene  num_train_sgrna  num_test_gene  num_test_sgRNA  \\\n",
      "0     0             944             7976            315            2625   \n",
      "\n",
      "   num_overlap_gene  \n",
      "0                 0  \n",
      "Training until validation scores don't improve for 50 rounds\n",
      "Early stopping, best iteration is:\n",
      "[43]\tvalid_0's l2: 0.0117052\n",
      "   fold  num_train_gene  num_train_sgrna  num_test_gene  num_test_sgRNA  \\\n",
      "0     0             944             7976            315            2625   \n",
      "1     1             945             7899            314            2702   \n",
      "\n",
      "   num_overlap_gene  \n",
      "0                 0  \n",
      "1                 0  \n",
      "Training until validation scores don't improve for 50 rounds\n",
      "Early stopping, best iteration is:\n",
      "[38]\tvalid_0's l2: 0.0121268\n",
      "   fold  num_train_gene  num_train_sgrna  num_test_gene  num_test_sgRNA  \\\n",
      "0     0             944             7976            315            2625   \n",
      "1     1             945             7899            314            2702   \n",
      "2     2             944             7955            315            2646   \n",
      "\n",
      "   num_overlap_gene  \n",
      "0                 0  \n",
      "1                 0  \n",
      "2                 0  \n",
      "Training until validation scores don't improve for 50 rounds\n",
      "Early stopping, best iteration is:\n",
      "[55]\tvalid_0's l2: 0.0124851\n",
      "   fold  num_train_gene  num_train_sgrna  num_test_gene  num_test_sgRNA  \\\n",
      "0     0             944             7976            315            2625   \n",
      "1     1             945             7899            314            2702   \n",
      "2     2             944             7955            315            2646   \n",
      "3     3             944             7973            315            2628   \n",
      "\n",
      "   num_overlap_gene  \n",
      "0                 0  \n",
      "1                 0  \n",
      "2                 0  \n",
      "3                 0  \n",
      "Training until validation scores don't improve for 50 rounds\n",
      "Early stopping, best iteration is:\n",
      "[49]\tvalid_0's l2: 0.0123402\n"
     ]
    },
    {
     "name": "stderr",
     "output_type": "stream",
     "text": [
      "\u001b[32m[I 2022-11-10 02:14:30,647]\u001b[0m Trial 47 finished with value: 0.7809564930777495 and parameters: {'n_estimators': 470, 'learning_rate': 0.04, 'num_leaves': 223, 'min_child_samples': 50}. Best is trial 47 with value: 0.7809564930777495.\u001b[0m\n"
     ]
    },
    {
     "name": "stdout",
     "output_type": "stream",
     "text": [
      "   fold  num_train_gene  num_train_sgrna  num_test_gene  num_test_sgRNA  \\\n",
      "0     0             944             7976            315            2625   \n",
      "\n",
      "   num_overlap_gene  \n",
      "0                 0  \n",
      "Training until validation scores don't improve for 50 rounds\n",
      "Early stopping, best iteration is:\n",
      "[51]\tvalid_0's l2: 0.0116643\n",
      "   fold  num_train_gene  num_train_sgrna  num_test_gene  num_test_sgRNA  \\\n",
      "0     0             944             7976            315            2625   \n",
      "1     1             945             7899            314            2702   \n",
      "\n",
      "   num_overlap_gene  \n",
      "0                 0  \n",
      "1                 0  \n",
      "Training until validation scores don't improve for 50 rounds\n",
      "Early stopping, best iteration is:\n",
      "[40]\tvalid_0's l2: 0.0120498\n",
      "   fold  num_train_gene  num_train_sgrna  num_test_gene  num_test_sgRNA  \\\n",
      "0     0             944             7976            315            2625   \n",
      "1     1             945             7899            314            2702   \n",
      "2     2             944             7955            315            2646   \n",
      "\n",
      "   num_overlap_gene  \n",
      "0                 0  \n",
      "1                 0  \n",
      "2                 0  \n",
      "Training until validation scores don't improve for 50 rounds\n",
      "Early stopping, best iteration is:\n",
      "[60]\tvalid_0's l2: 0.012309\n",
      "   fold  num_train_gene  num_train_sgrna  num_test_gene  num_test_sgRNA  \\\n",
      "0     0             944             7976            315            2625   \n",
      "1     1             945             7899            314            2702   \n",
      "2     2             944             7955            315            2646   \n",
      "3     3             944             7973            315            2628   \n",
      "\n",
      "   num_overlap_gene  \n",
      "0                 0  \n",
      "1                 0  \n",
      "2                 0  \n",
      "3                 0  \n",
      "Training until validation scores don't improve for 50 rounds\n"
     ]
    },
    {
     "name": "stderr",
     "output_type": "stream",
     "text": [
      "\u001b[32m[I 2022-11-10 02:14:32,048]\u001b[0m Trial 48 finished with value: 0.8026170801841588 and parameters: {'n_estimators': 549, 'learning_rate': 0.04, 'num_leaves': 220, 'min_child_samples': 83}. Best is trial 47 with value: 0.7809564930777495.\u001b[0m\n"
     ]
    },
    {
     "name": "stdout",
     "output_type": "stream",
     "text": [
      "Early stopping, best iteration is:\n",
      "[51]\tvalid_0's l2: 0.0122692\n",
      "   fold  num_train_gene  num_train_sgrna  num_test_gene  num_test_sgRNA  \\\n",
      "0     0             944             7976            315            2625   \n",
      "\n",
      "   num_overlap_gene  \n",
      "0                 0  \n",
      "Training until validation scores don't improve for 50 rounds\n",
      "Early stopping, best iteration is:\n",
      "[61]\tvalid_0's l2: 0.0116586\n",
      "   fold  num_train_gene  num_train_sgrna  num_test_gene  num_test_sgRNA  \\\n",
      "0     0             944             7976            315            2625   \n",
      "1     1             945             7899            314            2702   \n",
      "\n",
      "   num_overlap_gene  \n",
      "0                 0  \n",
      "1                 0  \n",
      "Training until validation scores don't improve for 50 rounds\n",
      "Early stopping, best iteration is:\n",
      "[60]\tvalid_0's l2: 0.0119961\n",
      "   fold  num_train_gene  num_train_sgrna  num_test_gene  num_test_sgRNA  \\\n",
      "0     0             944             7976            315            2625   \n",
      "1     1             945             7899            314            2702   \n",
      "2     2             944             7955            315            2646   \n",
      "\n",
      "   num_overlap_gene  \n",
      "0                 0  \n",
      "1                 0  \n",
      "2                 0  \n",
      "Training until validation scores don't improve for 50 rounds\n",
      "Early stopping, best iteration is:\n",
      "[86]\tvalid_0's l2: 0.0121577\n"
     ]
    },
    {
     "name": "stderr",
     "output_type": "stream",
     "text": [
      "\u001b[32m[I 2022-11-10 02:14:33,339]\u001b[0m Trial 49 finished with value: 0.8217819959201704 and parameters: {'n_estimators': 448, 'learning_rate': 0.04, 'num_leaves': 101, 'min_child_samples': 214}. Best is trial 47 with value: 0.7809564930777495.\u001b[0m\n"
     ]
    },
    {
     "name": "stdout",
     "output_type": "stream",
     "text": [
      "   fold  num_train_gene  num_train_sgrna  num_test_gene  num_test_sgRNA  \\\n",
      "0     0             944             7976            315            2625   \n",
      "1     1             945             7899            314            2702   \n",
      "2     2             944             7955            315            2646   \n",
      "3     3             944             7973            315            2628   \n",
      "\n",
      "   num_overlap_gene  \n",
      "0                 0  \n",
      "1                 0  \n",
      "2                 0  \n",
      "3                 0  \n",
      "Training until validation scores don't improve for 50 rounds\n",
      "Early stopping, best iteration is:\n",
      "[83]\tvalid_0's l2: 0.0122227\n"
     ]
    }
   ],
   "source": [
    "study = optuna.create_study(direction=\"minimize\", study_name=\"LGBM Regressor\")\n",
    "\n",
    "def func(trial):\n",
    "    return objective(trial, X, y, grps)\n",
    "\n",
    "study.optimize(func, n_trials=50);"
   ]
  },
  {
   "cell_type": "code",
   "execution_count": 26,
   "id": "10756b2f",
   "metadata": {},
   "outputs": [
    {
     "name": "stdout",
     "output_type": "stream",
     "text": [
      "\tBest value: 0.78096\n",
      "\tBest params:\n",
      "\t\tn_estimators: 470\n",
      "\t\tlearning_rate: 0.04\n",
      "\t\tnum_leaves: 223\n",
      "\t\tmin_child_samples: 50\n"
     ]
    }
   ],
   "source": [
    "print(f\"\\tBest value: {study.best_value:.5f}\")\n",
    "print(f\"\\tBest params:\")\n",
    "\n",
    "for key, value in study.best_params.items():\n",
    "    print(f\"\\t\\t{key}: {value}\")"
   ]
  },
  {
   "cell_type": "code",
   "execution_count": 6,
   "id": "ffe04b35",
   "metadata": {},
   "outputs": [
    {
     "data": {
      "text/plain": [
       "LGBMRegressor(learning_rate=0.04, min_child_samples=8, n_estimators=636,\n",
       "              num_leaves=169)"
      ]
     },
     "execution_count": 6,
     "metadata": {},
     "output_type": "execute_result"
    }
   ],
   "source": [
    "            \n",
    "model = LGBMRegressor(n_estimators = 636, learning_rate = 0.04, num_leaves = 169, min_child_samples = 8)\n",
    "model.fit(X, y)"
   ]
  },
  {
   "cell_type": "code",
   "execution_count": 27,
   "id": "a3875b20",
   "metadata": {},
   "outputs": [
    {
     "data": {
      "text/plain": [
       "LGBMRegressor(learning_rate=0.04, min_child_samples=50, n_estimators=470,\n",
       "              num_leaves=223)"
      ]
     },
     "execution_count": 27,
     "metadata": {},
     "output_type": "execute_result"
    }
   ],
   "source": [
    "model = LGBMRegressor( **study.best_params)\n",
    "model.fit(X, y)"
   ]
  },
  {
   "cell_type": "code",
   "execution_count": 68,
   "id": "c18d6f9f",
   "metadata": {},
   "outputs": [],
   "source": [
    "explainer = shap.TreeExplainer(model)\n",
    "# shap_values = explainer.shap_values(X)\n",
    "# explainer_model = shap.Explainer(model)\n",
    "shap_values_model = explainer(X)\n",
    "#gpp.savefig('../figure/shapval_model_seq_tss_v2.pdf', dpi=300)"
   ]
  },
  {
   "cell_type": "code",
   "execution_count": 8,
   "id": "6646adee",
   "metadata": {},
   "outputs": [
    {
     "data": {
      "text/plain": [
       ".values =\n",
       "array([[ 3.78514513e-02,  4.41760139e-02,  9.58528869e-06, ...,\n",
       "        -2.14247331e-03,  9.89486642e-06, -6.14121199e-06],\n",
       "       [ 2.25942499e-02,  1.56997074e-02,  1.66921691e-02, ...,\n",
       "        -7.73944609e-03,  8.76273831e-06,  3.27166793e-06],\n",
       "       [ 7.80068163e-02,  7.15511593e-03, -1.87432615e-04, ...,\n",
       "        -3.85961172e-04,  6.94503807e-06,  2.94688059e-06],\n",
       "       ...,\n",
       "       [-1.79339326e-02, -2.12241874e-02,  5.63703265e-04, ...,\n",
       "        -1.89959935e-03,  1.57660790e-05,  3.27483047e-06],\n",
       "       [-4.19523738e-03, -6.22001956e-02, -3.07122857e-05, ...,\n",
       "        -4.18018781e-04,  1.44164707e-05,  3.15383584e-06],\n",
       "       [-9.43520104e-03, -4.54145903e-02,  4.56328031e-05, ...,\n",
       "        -1.69901887e-03,  1.44113667e-05,  3.15383584e-06]])\n",
       "\n",
       ".base_values =\n",
       "array([0.06966026, 0.06966026, 0.06966026, ..., 0.06966026, 0.06966026,\n",
       "       0.06966026])\n",
       "\n",
       ".data =\n",
       "array([[ 2.810e+02,  2.254e-01,  0.000e+00, ...,  0.000e+00,  0.000e+00,\n",
       "         1.000e+00],\n",
       "       [ 1.210e+02, -1.233e-01,  1.000e+00, ...,  0.000e+00,  0.000e+00,\n",
       "         0.000e+00],\n",
       "       [ 3.600e+01,  3.283e-02,  0.000e+00, ...,  0.000e+00,  0.000e+00,\n",
       "         0.000e+00],\n",
       "       ...,\n",
       "       [ 1.380e+02, -8.535e-01,  0.000e+00, ...,  0.000e+00,  0.000e+00,\n",
       "         0.000e+00],\n",
       "       [-1.500e+01, -1.549e+00,  0.000e+00, ...,  0.000e+00,  0.000e+00,\n",
       "         0.000e+00],\n",
       "       [ 1.590e+02, -1.103e+00,  0.000e+00, ...,  0.000e+00,  0.000e+00,\n",
       "         0.000e+00]])"
      ]
     },
     "execution_count": 8,
     "metadata": {},
     "output_type": "execute_result"
    }
   ],
   "source": [
    "shap_values_model"
   ]
  },
  {
   "cell_type": "code",
   "execution_count": null,
   "id": "fe4a440a",
   "metadata": {},
   "outputs": [],
   "source": [
    "shap.plots.beeswarm(shap_values_model)\n"
   ]
  },
  {
   "cell_type": "code",
   "execution_count": 69,
   "id": "65ea4738",
   "metadata": {},
   "outputs": [
    {
     "data": {
      "image/png": "[encoded data removed]",
      "text/plain": [
       "<Figure size 158.4x252 with 2 Axes>"
      ]
     },
     "metadata": {
      "needs_background": "light"
     },
     "output_type": "display_data"
    }
   ],
   "source": [
    "summary_legacy(shap_values_model, X, show=False, plot_size=(2.2, 3.5),\n",
    "               point_size=5, text_size=None, color_bar_shrink=1,\n",
    "               legend_aspect=50)\n",
    "gpp.savefig('../figure/shapval_rs2_tss.pdf', dpi=300)"
   ]
  },
  {
   "cell_type": "markdown",
   "id": "5216d3c7",
   "metadata": {},
   "source": [
    "# Check the most optimal prediction using Gilbert"
   ]
  },
  {
   "cell_type": "code",
   "execution_count": 28,
   "id": "28b2a770",
   "metadata": {},
   "outputs": [],
   "source": [
    "X_gilbert = X\n",
    "y_gilbert = y"
   ]
  },
  {
   "cell_type": "code",
   "execution_count": 29,
   "id": "b95c998e",
   "metadata": {},
   "outputs": [],
   "source": [
    "X_gilbert['Crispri Seq + Target Score'] = model.predict(X_gilbert)\n",
    "X_gilbert.reset_index(inplace=True)"
   ]
  },
  {
   "cell_type": "code",
   "execution_count": 30,
   "id": "5d6598fe",
   "metadata": {},
   "outputs": [],
   "source": [
    "X_val_pre_y_gilbert = pd.merge(gilbert2014_rs3, X_gilbert, \n",
    "                               on = list(set(gilbert2014_rs3.columns) & set(X_gilbert.columns)))"
   ]
  },
  {
   "cell_type": "code",
   "execution_count": 31,
   "id": "c7d1ecb1",
   "metadata": {},
   "outputs": [],
   "source": [
    "#X_val_pre_y_gilbert['reverse gamma'] = X_val_pre_y_gilbert['avg_gamma']*-1"
   ]
  },
  {
   "cell_type": "code",
   "execution_count": 32,
   "id": "a1c32408",
   "metadata": {},
   "outputs": [
    {
     "data": {
      "image/png": "[encoded data removed]",
      "text/plain": [
       "<Figure size 288x288 with 1 Axes>"
      ]
     },
     "metadata": {
      "needs_background": "light"
     },
     "output_type": "display_data"
    },
    {
     "data": {
      "image/png": "[encoded data removed]",
      "text/plain": [
       "<Figure size 288x288 with 1 Axes>"
      ]
     },
     "metadata": {
      "needs_background": "light"
     },
     "output_type": "display_data"
    }
   ],
   "source": [
    "#obs_vals = [ 'avg_gamma', 'reverse gamma']\n",
    "obs_vals = [ 'avg_gamma', 'avg_gamma']\n",
    "scores = ['Chen On-Target Efficacy Score','Crispri Seq + Target Score']\n",
    "obs_vals_vs_scores(X_val_pre_y_gilbert, obs_vals, scores, author='Gilbert', obs_meteric = 'Gamma')"
   ]
  },
  {
   "cell_type": "code",
   "execution_count": 17,
   "id": "fa47c1c5",
   "metadata": {},
   "outputs": [
    {
     "data": {
      "image/png": "[encoded data removed]",
      "text/plain": [
       "<Figure size 504x432 with 2 Axes>"
      ]
     },
     "metadata": {
      "needs_background": "light"
     },
     "output_type": "display_data"
    }
   ],
   "source": [
    "y_axis_gilbert = [\"Crispri Seq + Target Score\", 'avg_gamma']\n",
    "tss_plot(X_val_pre_y_gilbert,y_axis_gilbert)"
   ]
  },
  {
   "cell_type": "code",
   "execution_count": 33,
   "id": "4bcaa8f7",
   "metadata": {},
   "outputs": [],
   "source": [
    "gilbert_performance = corr_pval_table(X_val_pre_y_gilbert, metric = 'gamma')"
   ]
  },
  {
   "cell_type": "code",
   "execution_count": 34,
   "id": "4d3c9629",
   "metadata": {},
   "outputs": [
    {
     "data": {
      "text/html": [
       "<div>\n",
       "<style scoped>\n",
       "    .dataframe tbody tr th:only-of-type {\n",
       "        vertical-align: middle;\n",
       "    }\n",
       "\n",
       "    .dataframe tbody tr th {\n",
       "        vertical-align: top;\n",
       "    }\n",
       "\n",
       "    .dataframe thead th {\n",
       "        text-align: right;\n",
       "    }\n",
       "</style>\n",
       "<table border=\"1\" class=\"dataframe\">\n",
       "  <thead>\n",
       "    <tr style=\"text-align: right;\">\n",
       "      <th></th>\n",
       "      <th>bin</th>\n",
       "      <th>corr_rs3</th>\n",
       "      <th>p_val_corr_rs3</th>\n",
       "      <th>corr_seq_target</th>\n",
       "      <th>p_val_corr_seq_target</th>\n",
       "    </tr>\n",
       "  </thead>\n",
       "  <tbody>\n",
       "    <tr>\n",
       "      <th>0</th>\n",
       "      <td>&lt;-50</td>\n",
       "      <td>-0.356719</td>\n",
       "      <td>9.475101e-02</td>\n",
       "      <td>-0.176877</td>\n",
       "      <td>4.194563e-01</td>\n",
       "    </tr>\n",
       "    <tr>\n",
       "      <th>1</th>\n",
       "      <td>-50 to -25</td>\n",
       "      <td>-0.223628</td>\n",
       "      <td>8.775065e-10</td>\n",
       "      <td>-0.407371</td>\n",
       "      <td>9.395985e-31</td>\n",
       "    </tr>\n",
       "    <tr>\n",
       "      <th>2</th>\n",
       "      <td>-25 to 0</td>\n",
       "      <td>-0.236031</td>\n",
       "      <td>3.668072e-12</td>\n",
       "      <td>-0.463198</td>\n",
       "      <td>3.656959e-46</td>\n",
       "    </tr>\n",
       "    <tr>\n",
       "      <th>3</th>\n",
       "      <td>0 to +25</td>\n",
       "      <td>-0.268912</td>\n",
       "      <td>9.070488e-19</td>\n",
       "      <td>-0.577497</td>\n",
       "      <td>5.509777e-94</td>\n",
       "    </tr>\n",
       "    <tr>\n",
       "      <th>4</th>\n",
       "      <td>+25 to +50</td>\n",
       "      <td>-0.380375</td>\n",
       "      <td>4.365975e-32</td>\n",
       "      <td>-0.630770</td>\n",
       "      <td>3.877330e-100</td>\n",
       "    </tr>\n",
       "    <tr>\n",
       "      <th>5</th>\n",
       "      <td>+50 to +75</td>\n",
       "      <td>-0.377657</td>\n",
       "      <td>2.879616e-33</td>\n",
       "      <td>-0.598084</td>\n",
       "      <td>2.340673e-92</td>\n",
       "    </tr>\n",
       "    <tr>\n",
       "      <th>6</th>\n",
       "      <td>+75 to +100</td>\n",
       "      <td>-0.282004</td>\n",
       "      <td>1.275281e-16</td>\n",
       "      <td>-0.530636</td>\n",
       "      <td>2.141120e-61</td>\n",
       "    </tr>\n",
       "    <tr>\n",
       "      <th>7</th>\n",
       "      <td>+100 to +125</td>\n",
       "      <td>-0.252137</td>\n",
       "      <td>1.325435e-13</td>\n",
       "      <td>-0.482728</td>\n",
       "      <td>4.480577e-50</td>\n",
       "    </tr>\n",
       "    <tr>\n",
       "      <th>8</th>\n",
       "      <td>+125 to +150</td>\n",
       "      <td>-0.184255</td>\n",
       "      <td>6.874567e-08</td>\n",
       "      <td>-0.425238</td>\n",
       "      <td>1.975668e-38</td>\n",
       "    </tr>\n",
       "    <tr>\n",
       "      <th>9</th>\n",
       "      <td>+150 to +175</td>\n",
       "      <td>-0.255465</td>\n",
       "      <td>7.064837e-14</td>\n",
       "      <td>-0.483502</td>\n",
       "      <td>5.082496e-50</td>\n",
       "    </tr>\n",
       "    <tr>\n",
       "      <th>10</th>\n",
       "      <td>+175 to +200</td>\n",
       "      <td>-0.313181</td>\n",
       "      <td>4.274510e-20</td>\n",
       "      <td>-0.538661</td>\n",
       "      <td>8.186579e-63</td>\n",
       "    </tr>\n",
       "    <tr>\n",
       "      <th>11</th>\n",
       "      <td>+200 to +225</td>\n",
       "      <td>-0.333032</td>\n",
       "      <td>5.263847e-20</td>\n",
       "      <td>-0.552571</td>\n",
       "      <td>1.757744e-58</td>\n",
       "    </tr>\n",
       "    <tr>\n",
       "      <th>12</th>\n",
       "      <td>+225 to +250</td>\n",
       "      <td>-0.282941</td>\n",
       "      <td>1.081020e-12</td>\n",
       "      <td>-0.566623</td>\n",
       "      <td>4.279129e-53</td>\n",
       "    </tr>\n",
       "    <tr>\n",
       "      <th>13</th>\n",
       "      <td>&gt;+250</td>\n",
       "      <td>-0.177756</td>\n",
       "      <td>7.050755e-06</td>\n",
       "      <td>-0.492884</td>\n",
       "      <td>6.237835e-40</td>\n",
       "    </tr>\n",
       "  </tbody>\n",
       "</table>\n",
       "</div>"
      ],
      "text/plain": [
       "             bin  corr_rs3  p_val_corr_rs3  corr_seq_target  \\\n",
       "0           <-50 -0.356719    9.475101e-02        -0.176877   \n",
       "1     -50 to -25 -0.223628    8.775065e-10        -0.407371   \n",
       "2       -25 to 0 -0.236031    3.668072e-12        -0.463198   \n",
       "3       0 to +25 -0.268912    9.070488e-19        -0.577497   \n",
       "4     +25 to +50 -0.380375    4.365975e-32        -0.630770   \n",
       "5     +50 to +75 -0.377657    2.879616e-33        -0.598084   \n",
       "6    +75 to +100 -0.282004    1.275281e-16        -0.530636   \n",
       "7   +100 to +125 -0.252137    1.325435e-13        -0.482728   \n",
       "8   +125 to +150 -0.184255    6.874567e-08        -0.425238   \n",
       "9   +150 to +175 -0.255465    7.064837e-14        -0.483502   \n",
       "10  +175 to +200 -0.313181    4.274510e-20        -0.538661   \n",
       "11  +200 to +225 -0.333032    5.263847e-20        -0.552571   \n",
       "12  +225 to +250 -0.282941    1.081020e-12        -0.566623   \n",
       "13         >+250 -0.177756    7.050755e-06        -0.492884   \n",
       "\n",
       "    p_val_corr_seq_target  \n",
       "0            4.194563e-01  \n",
       "1            9.395985e-31  \n",
       "2            3.656959e-46  \n",
       "3            5.509777e-94  \n",
       "4           3.877330e-100  \n",
       "5            2.340673e-92  \n",
       "6            2.141120e-61  \n",
       "7            4.480577e-50  \n",
       "8            1.975668e-38  \n",
       "9            5.082496e-50  \n",
       "10           8.186579e-63  \n",
       "11           1.757744e-58  \n",
       "12           4.279129e-53  \n",
       "13           6.237835e-40  "
      ]
     },
     "execution_count": 34,
     "metadata": {},
     "output_type": "execute_result"
    }
   ],
   "source": [
    "gilbert_performance"
   ]
  },
  {
   "cell_type": "code",
   "execution_count": 35,
   "id": "6856d06f",
   "metadata": {},
   "outputs": [],
   "source": [
    "corr_gilbert = pd.melt(gilbert_performance, id_vars =['bin'], value_vars =['corr_rs3', 'corr_seq_target'])"
   ]
  },
  {
   "cell_type": "code",
   "execution_count": 36,
   "id": "d5c49015",
   "metadata": {},
   "outputs": [
    {
     "data": {
      "image/png": "[encoded data removed]",
      "text/plain": [
       "<Figure size 432x288 with 1 Axes>"
      ]
     },
     "metadata": {
      "needs_background": "light"
     },
     "output_type": "display_data"
    }
   ],
   "source": [
    "sns.scatterplot(data=corr_gilbert, x=\"bin\", y=\"value\", hue=\"variable\")\n",
    "sns.despine()\n",
    "plt.legend(bbox_to_anchor=(1.02, 0.15), loc='upper left', borderaxespad=0)\n",
    "plt.xticks(rotation=90)\n",
    "plt.xlabel('TSS Bins')\n",
    "plt.ylabel('Spearman Correlation')\n",
    "gpp.savefig('../figure/gilbert_spearman_tss_box_plot.pdf', dpi=300)\n"
   ]
  },
  {
   "cell_type": "markdown",
   "id": "e520ef47",
   "metadata": {},
   "source": [
    "# Test on Horlbeck 2016_sept"
   ]
  },
  {
   "cell_type": "code",
   "execution_count": 37,
   "id": "50cab105",
   "metadata": {},
   "outputs": [],
   "source": [
    "test_dataset_horlbeck = pd.read_csv('../data/horlbeck_2016_sept/horlbeck2016_sept_activity.csv')\n"
   ]
  },
  {
   "cell_type": "markdown",
   "id": "957d9714",
   "metadata": {},
   "source": [
    "#### Add TSS bins binary"
   ]
  },
  {
   "cell_type": "code",
   "execution_count": 38,
   "id": "df657c40",
   "metadata": {},
   "outputs": [],
   "source": [
    "test_dataset_horlbeck = test_dataset_horlbeck.rename({'On-Target Efficacy Score': 'Chen On-Target Efficacy Score'},axis = 1)\n",
    "test_dataset_horlbeck = tssbin_binary(test_dataset_horlbeck)"
   ]
  },
  {
   "cell_type": "markdown",
   "id": "c4b59b5f",
   "metadata": {},
   "source": [
    "#### Define X and Y "
   ]
  },
  {
   "cell_type": "code",
   "execution_count": 39,
   "id": "ffe858ac",
   "metadata": {},
   "outputs": [],
   "source": [
    "test_dataset_horlbeck_X = test_dataset_horlbeck[x_variable]\n",
    "test_dataset_horlbeck_X = test_dataset_horlbeck_X.set_index('sgRNA Context Sequence')    \n",
    "y = test_dataset_horlbeck['avg_lfc'] *-1"
   ]
  },
  {
   "cell_type": "markdown",
   "id": "a016076b",
   "metadata": {},
   "source": [
    "#### Predicted"
   ]
  },
  {
   "cell_type": "code",
   "execution_count": 40,
   "id": "1ac76478",
   "metadata": {},
   "outputs": [],
   "source": [
    "test_dataset_horlbeck_X['Crispri Seq + Target Score'] = model.predict(test_dataset_horlbeck_X)\n",
    "test_dataset_horlbeck_X.reset_index(inplace=True)"
   ]
  },
  {
   "cell_type": "code",
   "execution_count": 41,
   "id": "408bedc3",
   "metadata": {},
   "outputs": [],
   "source": [
    "X_val_pre_y_horlbeck = pd.merge(test_dataset_horlbeck, test_dataset_horlbeck_X, \n",
    "                       on = list(set(test_dataset_horlbeck.columns) & set(test_dataset_horlbeck_X.columns)))"
   ]
  },
  {
   "cell_type": "code",
   "execution_count": 42,
   "id": "5dc6ac59",
   "metadata": {},
   "outputs": [],
   "source": [
    "#X_val_pre_y_horlbeck['reverse lfc'] = X_val_pre_y_horlbeck['avg_lfc']*-1"
   ]
  },
  {
   "cell_type": "code",
   "execution_count": 43,
   "id": "2ac24b7e",
   "metadata": {},
   "outputs": [
    {
     "data": {
      "image/png": "[encoded data removed]",
      "text/plain": [
       "<Figure size 288x288 with 1 Axes>"
      ]
     },
     "metadata": {
      "needs_background": "light"
     },
     "output_type": "display_data"
    },
    {
     "data": {
      "image/png": "[encoded data removed]",
      "text/plain": [
       "<Figure size 288x288 with 1 Axes>"
      ]
     },
     "metadata": {
      "needs_background": "light"
     },
     "output_type": "display_data"
    }
   ],
   "source": [
    "#obs_vals_h = [ 'avg_lfc', 'reverse lfc']\n",
    "obs_vals_h = [ 'avg_lfc', 'avg_lfc']\n",
    "\n",
    "scores = ['Chen On-Target Efficacy Score','Crispri Seq + Target Score']\n",
    "obs_vals_vs_scores(X_val_pre_y_horlbeck, obs_vals_h, scores, author='Horlbeck', obs_meteric = 'LFC')"
   ]
  },
  {
   "cell_type": "code",
   "execution_count": 44,
   "id": "16e8e193",
   "metadata": {},
   "outputs": [
    {
     "data": {
      "image/png": "[encoded data removed]",
      "text/plain": [
       "<Figure size 504x432 with 2 Axes>"
      ]
     },
     "metadata": {
      "needs_background": "light"
     },
     "output_type": "display_data"
    }
   ],
   "source": [
    "y_axis_horlbeck = [\"Crispri Seq + Target Score\", 'avg_lfc']\n",
    "tss_plot(X_val_pre_y_horlbeck,y_axis_horlbeck, dataname='horlbeck')"
   ]
  },
  {
   "cell_type": "code",
   "execution_count": 45,
   "id": "0a5440b6",
   "metadata": {},
   "outputs": [],
   "source": [
    "horlbeck_performance = corr_pval_table(X_val_pre_y_horlbeck, metric = 'lfc')\n",
    "corr_horlbeck = pd.melt(horlbeck_performance, id_vars =['bin'], value_vars =['corr_rs3', 'corr_seq_target'])"
   ]
  },
  {
   "cell_type": "code",
   "execution_count": 46,
   "id": "881f9f03",
   "metadata": {},
   "outputs": [
    {
     "data": {
      "image/png": "[encoded data removed]",
      "text/plain": [
       "<Figure size 432x288 with 1 Axes>"
      ]
     },
     "metadata": {
      "needs_background": "light"
     },
     "output_type": "display_data"
    }
   ],
   "source": [
    "sns.scatterplot(data=corr_horlbeck, x=\"bin\", y=\"value\", hue=\"variable\")\n",
    "sns.despine()\n",
    "plt.legend(bbox_to_anchor=(1.02, 0.15), loc='upper left', borderaxespad=0)\n",
    "plt.xticks(rotation=90)\n",
    "plt.xlabel('TSS Bins')\n",
    "plt.ylabel('Spearman Correlation')\n",
    "gpp.savefig('../figure/horlbeck_spearman_tss_box_plot.pdf', dpi=300)\n"
   ]
  },
  {
   "cell_type": "markdown",
   "id": "f0acda3f",
   "metadata": {},
   "source": [
    "# Sanson et al"
   ]
  },
  {
   "cell_type": "code",
   "execution_count": 47,
   "id": "4dadb101",
   "metadata": {},
   "outputs": [],
   "source": [
    "test_dataset_sanson = pd.read_csv('../data/sanson_2018/sanson2018_activity.csv')\n"
   ]
  },
  {
   "cell_type": "code",
   "execution_count": 48,
   "id": "ce35468b",
   "metadata": {},
   "outputs": [],
   "source": [
    "test_dataset_sanson = test_dataset_sanson.rename({'On-Target Efficacy Score': 'Chen On-Target Efficacy Score'},axis = 1)\n",
    "test_dataset_sanson= tssbin_binary(test_dataset_sanson)"
   ]
  },
  {
   "cell_type": "code",
   "execution_count": 49,
   "id": "5681efdd",
   "metadata": {},
   "outputs": [
    {
     "data": {
      "text/plain": [
       "0"
      ]
     },
     "execution_count": 49,
     "metadata": {},
     "output_type": "execute_result"
    }
   ],
   "source": [
    "sum(test_dataset_sanson['sgRNA \\'Cut\\' Site TSS Offset'] <= -50)"
   ]
  },
  {
   "cell_type": "code",
   "execution_count": 50,
   "id": "b721cf8f",
   "metadata": {},
   "outputs": [],
   "source": [
    "test_dataset_sanson['tss_bins_<-50'] = 0"
   ]
  },
  {
   "cell_type": "code",
   "execution_count": 51,
   "id": "a7ca3f3b",
   "metadata": {},
   "outputs": [],
   "source": [
    "test_dataset_sanson_X = test_dataset_sanson[x_variable]\n",
    "test_dataset_sanson_X = test_dataset_sanson_X.set_index('sgRNA Context Sequence')    \n",
    "y = test_dataset_sanson['avg_lfc']*-1"
   ]
  },
  {
   "cell_type": "code",
   "execution_count": 52,
   "id": "8a940f44",
   "metadata": {},
   "outputs": [],
   "source": [
    "test_dataset_sanson_X['Crispri Seq + Target Score'] = model.predict(test_dataset_sanson_X)\n",
    "test_dataset_sanson_X.reset_index(inplace=True)"
   ]
  },
  {
   "cell_type": "code",
   "execution_count": 53,
   "id": "b3143e49",
   "metadata": {},
   "outputs": [],
   "source": [
    "X_val_pre_y_sanson = pd.merge(test_dataset_sanson, test_dataset_sanson_X, \n",
    "                              on = list(set(test_dataset_sanson.columns) & set(test_dataset_sanson_X.columns)))"
   ]
  },
  {
   "cell_type": "code",
   "execution_count": 54,
   "id": "aeb4ba58",
   "metadata": {},
   "outputs": [],
   "source": [
    "#X_val_pre_y_sanson['reverse lfc'] = X_val_pre_y_sanson['avg_lfc']*-1"
   ]
  },
  {
   "cell_type": "code",
   "execution_count": 55,
   "id": "02aa3dd9",
   "metadata": {},
   "outputs": [
    {
     "data": {
      "text/plain": [
       "Target Gene Symbol\n",
       "AAMP        0.425196\n",
       "AARS1       0.602423\n",
       "AARS2      -0.711449\n",
       "AASDHPPT    0.997268\n",
       "AATF       -0.901133\n",
       "              ...   \n",
       "ZNRD2      -0.921489\n",
       "ZPR1       -0.695650\n",
       "ZRANB1     -0.487843\n",
       "ZWILCH      0.811734\n",
       "ZZZ3        0.999992\n",
       "Name: (avg_lfc, Crispri Seq + Target Score), Length: 1461, dtype: float64"
      ]
     },
     "execution_count": 55,
     "metadata": {},
     "output_type": "execute_result"
    }
   ],
   "source": [
    "X_val_pre_y_sanson.groupby('Target Gene Symbol')[['avg_lfc','Crispri Seq + Target Score']].corr().unstack().iloc[:,1]\n"
   ]
  },
  {
   "cell_type": "code",
   "execution_count": 57,
   "id": "d734956e",
   "metadata": {},
   "outputs": [
    {
     "data": {
      "image/png": "[encoded data removed]",
      "text/plain": [
       "<Figure size 288x288 with 1 Axes>"
      ]
     },
     "metadata": {
      "needs_background": "light"
     },
     "output_type": "display_data"
    },
    {
     "data": {
      "image/png": "[encoded data removed]",
      "text/plain": [
       "<Figure size 288x288 with 1 Axes>"
      ]
     },
     "metadata": {
      "needs_background": "light"
     },
     "output_type": "display_data"
    }
   ],
   "source": [
    "#obs_vals_h = [ 'avg_lfc', 'reverse lfc']\n",
    "obs_vals_h = [ 'avg_lfc', 'avg_lfc']\n",
    "\n",
    "scores = ['Chen On-Target Efficacy Score','Crispri Seq + Target Score']\n",
    "obs_vals_vs_scores(X_val_pre_y_sanson, obs_vals_h, scores, author='Sanson', obs_meteric = 'LFC')"
   ]
  },
  {
   "cell_type": "code",
   "execution_count": 40,
   "id": "449fe011",
   "metadata": {},
   "outputs": [
    {
     "data": {
      "image/png": "[encoded data removed]",
      "text/plain": [
       "<Figure size 504x432 with 2 Axes>"
      ]
     },
     "metadata": {
      "needs_background": "light"
     },
     "output_type": "display_data"
    }
   ],
   "source": [
    "y_axis_sanson = [\"Crispri Seq + Target Score\", 'avg_lfc']\n",
    "tss_plot(X_val_pre_y_sanson,y_axis_sanson, dataname = 'sanson')"
   ]
  },
  {
   "cell_type": "code",
   "execution_count": 58,
   "id": "ba851d7f",
   "metadata": {},
   "outputs": [],
   "source": [
    "sanson_performance = corr_pval_table(X_val_pre_y_sanson, metric = 'lfc')\n",
    "corr_sanson = pd.melt(sanson_performance, id_vars =['bin'], value_vars =['corr_rs3', 'corr_seq_target'])"
   ]
  },
  {
   "cell_type": "code",
   "execution_count": 62,
   "id": "87ac27c1",
   "metadata": {},
   "outputs": [
    {
     "data": {
      "text/plain": [
       "+50 to +75      1968\n",
       "+25 to +50      1951\n",
       "0 to +25         256\n",
       "+75 to +100       47\n",
       "+200 to +225      35\n",
       "+225 to +250      33\n",
       "+175 to +200      14\n",
       ">+250              8\n",
       "-25 to 0           7\n",
       "+150 to +175       6\n",
       "+100 to +125       5\n",
       "+125 to +150       4\n",
       "-50 to -25         3\n",
       "Name: tss_bins, dtype: int64"
      ]
     },
     "execution_count": 62,
     "metadata": {},
     "output_type": "execute_result"
    }
   ],
   "source": [
    "X_val_pre_y_sanson['tss_bins'].value_counts()"
   ]
  },
  {
   "cell_type": "code",
   "execution_count": 59,
   "id": "25bfb846",
   "metadata": {},
   "outputs": [
    {
     "data": {
      "image/png": "[encoded data removed]",
      "text/plain": [
       "<Figure size 432x288 with 1 Axes>"
      ]
     },
     "metadata": {
      "needs_background": "light"
     },
     "output_type": "display_data"
    }
   ],
   "source": [
    "sns.scatterplot(data=corr_sanson, x=\"bin\", y=\"value\", hue=\"variable\")\n",
    "sns.despine()\n",
    "plt.legend(bbox_to_anchor=(1.02, 0.15), loc='upper left', borderaxespad=0)\n",
    "plt.xticks(rotation=90)\n",
    "plt.xlabel('TSS Bins')\n",
    "plt.ylabel('Spearman Correlation')\n",
    "gpp.savefig('../figure/sanson_spearman_tss_box_plot.pdf', dpi=300)\n"
   ]
  },
  {
   "cell_type": "code",
   "execution_count": 64,
   "id": "33e53662",
   "metadata": {},
   "outputs": [],
   "source": [
    "# anaysis"
   ]
  },
  {
   "cell_type": "code",
   "execution_count": 116,
   "id": "22bed9a9",
   "metadata": {},
   "outputs": [],
   "source": [
    "gene_symbol = pd.DataFrame(X_val_pre_y_sanson['Target Gene Symbol'].value_counts()).reset_index()\n",
    "gene_symbol = gene_symbol[gene_symbol['Target Gene Symbol'] >= 3]\n",
    "gene_3 = X_val_pre_y_sanson[X_val_pre_y_sanson['Target Gene Symbol'].isin(gene_symbol['index'])]"
   ]
  },
  {
   "cell_type": "code",
   "execution_count": 117,
   "id": "92bb9c35",
   "metadata": {},
   "outputs": [],
   "source": [
    "gene_corr_rs3 = gene_3.groupby('Target Gene Symbol')[['avg_lfc','Chen On-Target Efficacy Score']].corr(method = 'spearman').unstack()\n",
    "gene_corr_rs3.columns = ['Correlation_Val1_Val1', 'Correlation_LFC_RS3', 'Correlation_Val2_Val1', 'Correlation_Val2_Val2']\n",
    "gene_corr_rs3 = pd.DataFrame(gene_corr_rs3.iloc[:,1]).reset_index()"
   ]
  },
  {
   "cell_type": "code",
   "execution_count": 118,
   "id": "19a88921",
   "metadata": {},
   "outputs": [],
   "source": [
    "gene_corr_rs3_target = gene_3.groupby('Target Gene Symbol')[['avg_lfc','Crispri Seq + Target Score']].corr(method = 'spearman').unstack()\n",
    "gene_corr_rs3_target.columns = ['Correlation_Val1_Val1', 'Correlation_LFC_RS3_target', 'Correlation_Val2_Val1', 'Correlation_Val2_Val2']\n",
    "gene_corr_rs3_target = pd.DataFrame(gene_corr_rs3_target.iloc[:,1]).reset_index()"
   ]
  },
  {
   "cell_type": "code",
   "execution_count": 119,
   "id": "58e11620",
   "metadata": {},
   "outputs": [],
   "source": [
    "gene_corr_scores = gene_3.groupby('Target Gene Symbol')[['Chen On-Target Efficacy Score','Crispri Seq + Target Score']].corr(method = 'spearman').unstack()\n",
    "gene_corr_scores.columns = ['Correlation_Val1_Val1', 'Correlation_RS3_target', 'Correlation_Val2_Val1', 'Correlation_Val2_Val2']\n",
    "gene_corr_scores = pd.DataFrame(gene_corr_scores.iloc[:,1]).reset_index()\n"
   ]
  },
  {
   "cell_type": "code",
   "execution_count": 120,
   "id": "385f2165",
   "metadata": {},
   "outputs": [],
   "source": [
    "gene_corr = pd.merge(pd.merge(gene_corr_rs3, gene_corr_rs3_target, on = 'Target Gene Symbol'), gene_corr_scores, on = 'Target Gene Symbol')"
   ]
  },
  {
   "cell_type": "code",
   "execution_count": 127,
   "id": "43b8e126",
   "metadata": {},
   "outputs": [
    {
     "data": {
      "text/plain": [
       "<matplotlib.lines.Line2D at 0x7f8a2e46d700>"
      ]
     },
     "execution_count": 127,
     "metadata": {},
     "output_type": "execute_result"
    },
    {
     "data": {
      "image/png": "[encoded data removed]",
      "text/plain": [
       "<Figure size 432x288 with 1 Axes>"
      ]
     },
     "metadata": {
      "needs_background": "light"
     },
     "output_type": "display_data"
    }
   ],
   "source": [
    "sns.scatterplot(data=gene_corr, x=\"Correlation_LFC_RS3\", y=\"Correlation_LFC_RS3_target\")\n",
    "plt.axvline(0, 0,2)\n",
    "plt.axhline(0, 0,2)"
   ]
  },
  {
   "cell_type": "code",
   "execution_count": 122,
   "id": "75f7fa4f",
   "metadata": {},
   "outputs": [
    {
     "data": {
      "text/plain": [
       "<AxesSubplot:xlabel='Correlation_RS3_target'>"
      ]
     },
     "execution_count": 122,
     "metadata": {},
     "output_type": "execute_result"
    },
    {
     "data": {
      "image/png": "[encoded data removed]",
      "text/plain": [
       "<Figure size 432x288 with 1 Axes>"
      ]
     },
     "metadata": {
      "needs_background": "light"
     },
     "output_type": "display_data"
    }
   ],
   "source": [
    "sns.boxplot(x=gene_corr[\"Correlation_RS3_target\"] )"
   ]
  },
  {
   "cell_type": "code",
   "execution_count": 136,
   "id": "941d81d7",
   "metadata": {},
   "outputs": [
    {
     "data": {
      "text/html": [
       "<div>\n",
       "<style scoped>\n",
       "    .dataframe tbody tr th:only-of-type {\n",
       "        vertical-align: middle;\n",
       "    }\n",
       "\n",
       "    .dataframe tbody tr th {\n",
       "        vertical-align: top;\n",
       "    }\n",
       "\n",
       "    .dataframe thead th {\n",
       "        text-align: right;\n",
       "    }\n",
       "</style>\n",
       "<table border=\"1\" class=\"dataframe\">\n",
       "  <thead>\n",
       "    <tr style=\"text-align: right;\">\n",
       "      <th></th>\n",
       "      <th>Target Gene Symbol</th>\n",
       "      <th>Correlation_LFC_RS3</th>\n",
       "      <th>Correlation_LFC_RS3_target</th>\n",
       "      <th>Correlation_RS3_target</th>\n",
       "    </tr>\n",
       "  </thead>\n",
       "  <tbody>\n",
       "    <tr>\n",
       "      <th>1</th>\n",
       "      <td>AARS1</td>\n",
       "      <td>-0.5</td>\n",
       "      <td>0.5</td>\n",
       "      <td>0.5</td>\n",
       "    </tr>\n",
       "    <tr>\n",
       "      <th>5</th>\n",
       "      <td>ABCB7</td>\n",
       "      <td>-0.5</td>\n",
       "      <td>0.5</td>\n",
       "      <td>0.5</td>\n",
       "    </tr>\n",
       "    <tr>\n",
       "      <th>13</th>\n",
       "      <td>ACTR10</td>\n",
       "      <td>-0.5</td>\n",
       "      <td>0.5</td>\n",
       "      <td>-1.0</td>\n",
       "    </tr>\n",
       "    <tr>\n",
       "      <th>14</th>\n",
       "      <td>ACTR1A</td>\n",
       "      <td>-0.5</td>\n",
       "      <td>0.5</td>\n",
       "      <td>-1.0</td>\n",
       "    </tr>\n",
       "    <tr>\n",
       "      <th>23</th>\n",
       "      <td>ALDOA</td>\n",
       "      <td>-0.5</td>\n",
       "      <td>0.5</td>\n",
       "      <td>0.5</td>\n",
       "    </tr>\n",
       "    <tr>\n",
       "      <th>...</th>\n",
       "      <td>...</td>\n",
       "      <td>...</td>\n",
       "      <td>...</td>\n",
       "      <td>...</td>\n",
       "    </tr>\n",
       "    <tr>\n",
       "      <th>1391</th>\n",
       "      <td>ZBTB11</td>\n",
       "      <td>-1.0</td>\n",
       "      <td>0.5</td>\n",
       "      <td>-0.5</td>\n",
       "    </tr>\n",
       "    <tr>\n",
       "      <th>1392</th>\n",
       "      <td>ZBTB17</td>\n",
       "      <td>-0.5</td>\n",
       "      <td>0.5</td>\n",
       "      <td>0.5</td>\n",
       "    </tr>\n",
       "    <tr>\n",
       "      <th>1393</th>\n",
       "      <td>ZC3H18</td>\n",
       "      <td>-0.5</td>\n",
       "      <td>0.5</td>\n",
       "      <td>0.5</td>\n",
       "    </tr>\n",
       "    <tr>\n",
       "      <th>1403</th>\n",
       "      <td>ZNF408</td>\n",
       "      <td>-1.0</td>\n",
       "      <td>0.5</td>\n",
       "      <td>-0.5</td>\n",
       "    </tr>\n",
       "    <tr>\n",
       "      <th>1405</th>\n",
       "      <td>ZNF622</td>\n",
       "      <td>-0.5</td>\n",
       "      <td>1.0</td>\n",
       "      <td>-0.5</td>\n",
       "    </tr>\n",
       "  </tbody>\n",
       "</table>\n",
       "<p>267 rows × 4 columns</p>\n",
       "</div>"
      ],
      "text/plain": [
       "     Target Gene Symbol  Correlation_LFC_RS3  Correlation_LFC_RS3_target  \\\n",
       "1                 AARS1                 -0.5                         0.5   \n",
       "5                 ABCB7                 -0.5                         0.5   \n",
       "13               ACTR10                 -0.5                         0.5   \n",
       "14               ACTR1A                 -0.5                         0.5   \n",
       "23                ALDOA                 -0.5                         0.5   \n",
       "...                 ...                  ...                         ...   \n",
       "1391             ZBTB11                 -1.0                         0.5   \n",
       "1392             ZBTB17                 -0.5                         0.5   \n",
       "1393             ZC3H18                 -0.5                         0.5   \n",
       "1403             ZNF408                 -1.0                         0.5   \n",
       "1405             ZNF622                 -0.5                         1.0   \n",
       "\n",
       "      Correlation_RS3_target  \n",
       "1                        0.5  \n",
       "5                        0.5  \n",
       "13                      -1.0  \n",
       "14                      -1.0  \n",
       "23                       0.5  \n",
       "...                      ...  \n",
       "1391                    -0.5  \n",
       "1392                     0.5  \n",
       "1393                     0.5  \n",
       "1403                    -0.5  \n",
       "1405                    -0.5  \n",
       "\n",
       "[267 rows x 4 columns]"
      ]
     },
     "execution_count": 136,
     "metadata": {},
     "output_type": "execute_result"
    }
   ],
   "source": [
    "gene_corr[(gene_corr['Correlation_LFC_RS3'] < 0) & (gene_corr['Correlation_LFC_RS3_target']>0)]"
   ]
  },
  {
   "cell_type": "code",
   "execution_count": null,
   "id": "c9d40702",
   "metadata": {},
   "outputs": [],
   "source": []
  }
 ],
 "metadata": {
  "kernelspec": {
   "display_name": "Python 3 (ipykernel)",
   "language": "python",
   "name": "python3"
  },
  "language_info": {
   "codemirror_mode": {
    "name": "ipython",
    "version": 3
   },
   "file_extension": ".py",
   "mimetype": "text/x-python",
   "name": "python",
   "nbconvert_exporter": "python",
   "pygments_lexer": "ipython3",
   "version": "3.8.13"
  }
 },
 "nbformat": 4,
 "nbformat_minor": 5
}
