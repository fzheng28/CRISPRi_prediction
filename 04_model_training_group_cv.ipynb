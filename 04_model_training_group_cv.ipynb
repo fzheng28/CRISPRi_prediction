{
 "cells": [
  {
   "cell_type": "code",
   "execution_count": 8,
   "id": "2f04fc3f",
   "metadata": {},
   "outputs": [],
   "source": [
    "import numpy as np\n",
    "import pandas as pd\n",
    "from lightgbm import LGBMRegressor\n",
    "from sklearn.model_selection import cross_val_score, GroupKFold, StratifiedGroupKFold\n",
    "import shap\n",
    "import gpplot\n",
    "import seaborn as sns\n",
    "from scipy import stats\n",
    "import matplotlib.pyplot as plt\n",
    "import seaborn as sns\n",
    "import gpplot\n",
    "from rs3.seq import predict_seq\n",
    "import optuna\n",
    "from optuna.integration import LightGBMPruningCallback\n",
    "from sklearn.metrics import log_loss\n",
    "from sklearn.model_selection import StratifiedKFold\n",
    "import warnings\n",
    "\n",
    "warnings.filterwarnings(\"ignore\", category=UserWarning)\n",
    "#optuna.logging.set_verbosity(optuna.logging.WARNING)\n"
   ]
  },
  {
   "cell_type": "code",
   "execution_count": 69,
   "id": "2bb7a7fa",
   "metadata": {},
   "outputs": [],
   "source": [
    "gilbert2014_rs3 = pd.read_csv('../data/gilbert_2014/gilbert2014_activity.csv')\n",
    "gilbert2014_rs3 = gilbert2014_rs3.rename({'On-Target Efficacy Score': 'Chen On-Target Efficacy Score'},axis = 1)\n",
    "gilbert2014_rs3 = gilbert2014_rs3[['sgRNA Context Sequence', 'sgRNA Sequence', \n",
    "                 'Target Gene Symbol', 'Chen On-Target Efficacy Score',\n",
    "                'sgRNA \\'Cut\\' Site TSS Offset', 'avg_gamma', 'avg_mean_centered_neg_gamma']]"
   ]
  },
  {
   "cell_type": "code",
   "execution_count": 70,
   "id": "0ee5a10a",
   "metadata": {},
   "outputs": [
    {
     "data": {
      "text/plain": [
       "0        ACAGAAAAACCGTCAGTAACACCGAGGACA\n",
       "1        GAGGAAAAAGGAGGTGTCCGGGTAGGGCAA\n",
       "2        GCAGAAAAATGGCAGCCGCCGCTCCGGACT\n",
       "3        CTCGAAAAGCCGCAGGTAGGAGCAAGGATC\n",
       "4        CTGGAAAAGGGGCGCGGTGAGCTAGGGCGG\n",
       "                      ...              \n",
       "10596    GGCGTTTGGGGAGCGCTGGGGTTGTGGTGG\n",
       "10597    GCGGTTTGGTCCTTTCCGGGCGCGCGGGGG\n",
       "10598    GACGTTTGGTGTTCCTGTGAACGTGGGGCG\n",
       "10599    TGCGTTTGTTTCCGGCGTGGGTCCGGGCAA\n",
       "10600    CACGTTTGTTTGGATTTAATCTTCAGGTTG\n",
       "Name: sgRNA Context Sequence, Length: 10601, dtype: object"
      ]
     },
     "execution_count": 70,
     "metadata": {},
     "output_type": "execute_result"
    }
   ],
   "source": [
    "gilbert2014_rs3['sgRNA Context Sequence']"
   ]
  },
  {
   "cell_type": "code",
   "execution_count": 71,
   "id": "52836fc0",
   "metadata": {},
   "outputs": [],
   "source": [
    "method = 'avg_mean_centered_neg_gamma'\n",
    "gilbert2014_rs3['Residual'] = (gilbert2014_rs3[method])-gilbert2014_rs3['Chen On-Target Efficacy Score']"
   ]
  },
  {
   "cell_type": "code",
   "execution_count": 72,
   "id": "28d155ec",
   "metadata": {},
   "outputs": [],
   "source": [
    "\n",
    "conditions = [\n",
    "    (gilbert2014_rs3['sgRNA \\'Cut\\' Site TSS Offset'] <= 250) & (gilbert2014_rs3['sgRNA \\'Cut\\' Site TSS Offset'] > 225),\n",
    "    (gilbert2014_rs3['sgRNA \\'Cut\\' Site TSS Offset'] <= 225) & (gilbert2014_rs3['sgRNA \\'Cut\\' Site TSS Offset'] > 200),\n",
    "    (gilbert2014_rs3['sgRNA \\'Cut\\' Site TSS Offset'] <= 200) & (gilbert2014_rs3['sgRNA \\'Cut\\' Site TSS Offset'] > 175),\n",
    "    (gilbert2014_rs3['sgRNA \\'Cut\\' Site TSS Offset'] <= 175) & (gilbert2014_rs3['sgRNA \\'Cut\\' Site TSS Offset'] > 150),\n",
    "    (gilbert2014_rs3['sgRNA \\'Cut\\' Site TSS Offset'] <= 150) & (gilbert2014_rs3['sgRNA \\'Cut\\' Site TSS Offset'] > 125),\n",
    "    (gilbert2014_rs3['sgRNA \\'Cut\\' Site TSS Offset'] <= 125) & (gilbert2014_rs3['sgRNA \\'Cut\\' Site TSS Offset'] > 100),\n",
    "    (gilbert2014_rs3['sgRNA \\'Cut\\' Site TSS Offset'] <= 100) & (gilbert2014_rs3['sgRNA \\'Cut\\' Site TSS Offset'] > 75),\n",
    "    (gilbert2014_rs3['sgRNA \\'Cut\\' Site TSS Offset'] <= 75) & (gilbert2014_rs3['sgRNA \\'Cut\\' Site TSS Offset'] > 50),\n",
    "    (gilbert2014_rs3['sgRNA \\'Cut\\' Site TSS Offset'] <= 50) & (gilbert2014_rs3['sgRNA \\'Cut\\' Site TSS Offset'] > 25),\n",
    "    (gilbert2014_rs3['sgRNA \\'Cut\\' Site TSS Offset'] <= 25) & (gilbert2014_rs3['sgRNA \\'Cut\\' Site TSS Offset'] > 0),\n",
    "    (gilbert2014_rs3['sgRNA \\'Cut\\' Site TSS Offset'] <= 0) & (gilbert2014_rs3['sgRNA \\'Cut\\' Site TSS Offset'] > -25),\n",
    "    (gilbert2014_rs3['sgRNA \\'Cut\\' Site TSS Offset'] <= -25) & (gilbert2014_rs3['sgRNA \\'Cut\\' Site TSS Offset'] > -50),\n",
    "    (gilbert2014_rs3['sgRNA \\'Cut\\' Site TSS Offset'] <= -50),\n",
    "    (gilbert2014_rs3['sgRNA \\'Cut\\' Site TSS Offset'] > 250)\n",
    "]\n",
    "\n",
    "values_tss = ['+225 to +250', '+200 to +225', '+175 to +200', '+150 to +175', '+125 to +150', '+100 to +125',\n",
    "         '+75 to +100', '+50 to +75', '+25 to +50', '0 to +25', '-25 to 0', '-50 to -25', '<-50', '>+250' ]\n",
    "gilbert2014_rs3['tss_bins'] = np.select(conditions, values_tss)\n"
   ]
  },
  {
   "cell_type": "code",
   "execution_count": 73,
   "id": "c7a133bc",
   "metadata": {},
   "outputs": [],
   "source": [
    "one_hot_encoding_tss = pd.get_dummies(gilbert2014_rs3.tss_bins, prefix='tss_bins')"
   ]
  },
  {
   "cell_type": "code",
   "execution_count": 74,
   "id": "9740b019",
   "metadata": {},
   "outputs": [],
   "source": [
    "gilbert2014_rs3 = pd.concat([gilbert2014_rs3, one_hot_encoding_tss], axis = 1)"
   ]
  },
  {
   "cell_type": "code",
   "execution_count": 75,
   "id": "e1ebc9e6",
   "metadata": {},
   "outputs": [],
   "source": [
    "X = gilbert2014_rs3[['sgRNA \\'Cut\\' Site TSS Offset', 'sgRNA Context Sequence','tss_bins_+100 to +125',\n",
    " 'tss_bins_+125 to +150',\n",
    " 'tss_bins_+150 to +175',\n",
    " 'tss_bins_+175 to +200',\n",
    " 'tss_bins_+200 to +225',\n",
    " 'tss_bins_+225 to +250',\n",
    " 'tss_bins_+25 to +50',\n",
    " 'tss_bins_+50 to +75',\n",
    " 'tss_bins_+75 to +100',\n",
    " 'tss_bins_-25 to 0',\n",
    " 'tss_bins_-50 to -25',\n",
    " 'tss_bins_0 to +25',\n",
    " 'tss_bins_<-50',\n",
    " 'tss_bins_>+250']]\n",
    "X = X.set_index('sgRNA Context Sequence')    \n",
    "y = gilbert2014_rs3['Residual']\n",
    "grps = gilbert2014_rs3['Target Gene Symbol']"
   ]
  },
  {
   "cell_type": "code",
   "execution_count": 48,
   "id": "379234c4",
   "metadata": {},
   "outputs": [],
   "source": [
    "\n",
    "\n",
    "def objective(trial, X, y, groups, cv=4 ):\n",
    "    param_grid = {\n",
    "        \"n_estimators\": trial.suggest_int(\"n_estimators\", 100, 1500),\n",
    "        \"learning_rate\": trial.suggest_categorical(\"learning_rate\", [0.01,0.02,0.03,0.04, 0.05]),\n",
    "        \"num_leaves\": trial.suggest_int('num_leaves', 8, 256),\n",
    "        \"min_child_samples\": trial.suggest_int('min_child_samples', 8, 256)\n",
    "\n",
    "    }\n",
    "\n",
    "    cv_scores = np.zeros(cv)\n",
    "    \n",
    "    #gkf_cv = GroupKFold(n_splits=3)\n",
    "    gkf_cv = StratifiedGroupKFold(n_splits=cv, shuffle=True, random_state=1)\n",
    "    df_group = pd.DataFrame()\n",
    "\n",
    "\n",
    "    for split, (ix_train, ix_test) in enumerate(gkf_cv.split(X,[1]*grps, groups=groups)):\n",
    "        X_train, X_test, y_train, y_test = X.iloc[ix_train], X.iloc[ix_test], y.iloc[ix_train], y.iloc[ix_test]\n",
    "\n",
    "        model = LGBMRegressor(random_state=7, n_jobs=1, **param_grid)\n",
    "        df_group = df_group.append({'fold': split, 'num_train_gene': len(set(grps[ix_train].tolist())),\n",
    "                    'num_train_sgrna': len(grps[ix_train].tolist()), \n",
    "                    'num_test_gene': len(set(grps[ix_test].tolist())),\n",
    "                   'num_test_sgRNA': len(grps[ix_test].tolist()),\n",
    "                   'num_overlap_gene': len(list(set(grps[ix_train]) & set(grps[ix_test])))}, ignore_index=True)\n",
    "        print(df_group)\n",
    "        model.fit(\n",
    "            X_train,\n",
    "            y_train,\n",
    "            eval_set=[(X_test, y_test)],\n",
    "            eval_metric=\"l2\",\n",
    "            verbose=-1,\n",
    "             early_stopping_rounds=50,)\n",
    "        preds = model.score(X_train, y_train)\n",
    "        \n",
    "        cv_scores[split] = preds\n",
    "\n",
    "\n",
    "    return 1-np.mean(cv_scores)"
   ]
  },
  {
   "cell_type": "code",
   "execution_count": 49,
   "id": "e23d0779",
   "metadata": {},
   "outputs": [
    {
     "name": "stderr",
     "output_type": "stream",
     "text": [
      "\u001b[32m[I 2022-11-10 01:27:45,799]\u001b[0m A new study created in memory with name: LGBM Regressor\u001b[0m\n",
      "The frame.append method is deprecated and will be removed from pandas in a future version. Use pandas.concat instead.\n",
      "The frame.append method is deprecated and will be removed from pandas in a future version. Use pandas.concat instead.\n",
      "The frame.append method is deprecated and will be removed from pandas in a future version. Use pandas.concat instead.\n"
     ]
    },
    {
     "name": "stdout",
     "output_type": "stream",
     "text": [
      "   fold  num_train_gene  num_train_sgrna  num_test_gene  num_test_sgRNA  \\\n",
      "0     0             944             7976            315            2625   \n",
      "\n",
      "   num_overlap_gene  \n",
      "0                 0  \n",
      "Training until validation scores don't improve for 50 rounds\n",
      "Early stopping, best iteration is:\n",
      "[1]\tvalid_0's l2: 0.266698\n",
      "   fold  num_train_gene  num_train_sgrna  num_test_gene  num_test_sgRNA  \\\n",
      "0     0             944             7976            315            2625   \n",
      "1     1             945             7899            314            2702   \n",
      "\n",
      "   num_overlap_gene  \n",
      "0                 0  \n",
      "1                 0  \n",
      "Training until validation scores don't improve for 50 rounds\n",
      "Early stopping, best iteration is:\n",
      "[32]\tvalid_0's l2: 0.253927\n",
      "   fold  num_train_gene  num_train_sgrna  num_test_gene  num_test_sgRNA  \\\n",
      "0     0             944             7976            315            2625   \n",
      "1     1             945             7899            314            2702   \n",
      "2     2             944             7955            315            2646   \n",
      "\n",
      "   num_overlap_gene  \n",
      "0                 0  \n",
      "1                 0  \n",
      "2                 0  \n",
      "Training until validation scores don't improve for 50 rounds\n"
     ]
    },
    {
     "name": "stderr",
     "output_type": "stream",
     "text": [
      "The frame.append method is deprecated and will be removed from pandas in a future version. Use pandas.concat instead.\n",
      "\u001b[32m[I 2022-11-10 01:27:46,611]\u001b[0m Trial 0 finished with value: 0.9970805163053166 and parameters: {'n_estimators': 467, 'learning_rate': 0.01, 'num_leaves': 194, 'min_child_samples': 186}. Best is trial 0 with value: 0.9970805163053166.\u001b[0m\n"
     ]
    },
    {
     "name": "stdout",
     "output_type": "stream",
     "text": [
      "Early stopping, best iteration is:\n",
      "[20]\tvalid_0's l2: 0.250419\n",
      "   fold  num_train_gene  num_train_sgrna  num_test_gene  num_test_sgRNA  \\\n",
      "0     0             944             7976            315            2625   \n",
      "1     1             945             7899            314            2702   \n",
      "2     2             944             7955            315            2646   \n",
      "3     3             944             7973            315            2628   \n",
      "\n",
      "   num_overlap_gene  \n",
      "0                 0  \n",
      "1                 0  \n",
      "2                 0  \n",
      "3                 0  \n",
      "Training until validation scores don't improve for 50 rounds\n",
      "Early stopping, best iteration is:\n",
      "[37]\tvalid_0's l2: 0.259001\n"
     ]
    },
    {
     "name": "stderr",
     "output_type": "stream",
     "text": [
      "The frame.append method is deprecated and will be removed from pandas in a future version. Use pandas.concat instead.\n",
      "The frame.append method is deprecated and will be removed from pandas in a future version. Use pandas.concat instead.\n",
      "The frame.append method is deprecated and will be removed from pandas in a future version. Use pandas.concat instead.\n",
      "The frame.append method is deprecated and will be removed from pandas in a future version. Use pandas.concat instead.\n"
     ]
    },
    {
     "name": "stdout",
     "output_type": "stream",
     "text": [
      "   fold  num_train_gene  num_train_sgrna  num_test_gene  num_test_sgRNA  \\\n",
      "0     0             944             7976            315            2625   \n",
      "\n",
      "   num_overlap_gene  \n",
      "0                 0  \n",
      "Training until validation scores don't improve for 50 rounds\n",
      "Early stopping, best iteration is:\n",
      "[1]\tvalid_0's l2: 0.266696\n",
      "   fold  num_train_gene  num_train_sgrna  num_test_gene  num_test_sgRNA  \\\n",
      "0     0             944             7976            315            2625   \n",
      "1     1             945             7899            314            2702   \n",
      "\n",
      "   num_overlap_gene  \n",
      "0                 0  \n",
      "1                 0  \n",
      "Training until validation scores don't improve for 50 rounds\n",
      "Early stopping, best iteration is:\n",
      "[13]\tvalid_0's l2: 0.253913\n",
      "   fold  num_train_gene  num_train_sgrna  num_test_gene  num_test_sgRNA  \\\n",
      "0     0             944             7976            315            2625   \n",
      "1     1             945             7899            314            2702   \n",
      "2     2             944             7955            315            2646   \n",
      "\n",
      "   num_overlap_gene  \n",
      "0                 0  \n",
      "1                 0  \n",
      "2                 0  \n",
      "Training until validation scores don't improve for 50 rounds\n",
      "Early stopping, best iteration is:\n",
      "[7]\tvalid_0's l2: 0.250406\n",
      "   fold  num_train_gene  num_train_sgrna  num_test_gene  num_test_sgRNA  \\\n",
      "0     0             944             7976            315            2625   \n",
      "1     1             945             7899            314            2702   \n",
      "2     2             944             7955            315            2646   \n",
      "3     3             944             7973            315            2628   \n",
      "\n",
      "   num_overlap_gene  \n",
      "0                 0  \n",
      "1                 0  \n",
      "2                 0  \n",
      "3                 0  "
     ]
    },
    {
     "name": "stderr",
     "output_type": "stream",
     "text": [
      "\u001b[32m[I 2022-11-10 01:27:47,348]\u001b[0m Trial 1 finished with value: 0.9964393878547393 and parameters: {'n_estimators': 1152, 'learning_rate': 0.04, 'num_leaves': 98, 'min_child_samples': 223}. Best is trial 1 with value: 0.9964393878547393.\u001b[0m\n"
     ]
    },
    {
     "name": "stdout",
     "output_type": "stream",
     "text": [
      "\n",
      "Training until validation scores don't improve for 50 rounds\n",
      "Early stopping, best iteration is:\n",
      "[15]\tvalid_0's l2: 0.2588\n"
     ]
    },
    {
     "name": "stderr",
     "output_type": "stream",
     "text": [
      "The frame.append method is deprecated and will be removed from pandas in a future version. Use pandas.concat instead.\n",
      "The frame.append method is deprecated and will be removed from pandas in a future version. Use pandas.concat instead.\n"
     ]
    },
    {
     "name": "stdout",
     "output_type": "stream",
     "text": [
      "   fold  num_train_gene  num_train_sgrna  num_test_gene  num_test_sgRNA  \\\n",
      "0     0             944             7976            315            2625   \n",
      "\n",
      "   num_overlap_gene  \n",
      "0                 0  \n",
      "Training until validation scores don't improve for 50 rounds\n",
      "Early stopping, best iteration is:\n",
      "[1]\tvalid_0's l2: 0.2667\n",
      "   fold  num_train_gene  num_train_sgrna  num_test_gene  num_test_sgRNA  \\\n",
      "0     0             944             7976            315            2625   \n",
      "1     1             945             7899            314            2702   \n",
      "\n",
      "   num_overlap_gene  \n",
      "0                 0  \n",
      "1                 0  \n",
      "Training until validation scores don't improve for 50 rounds\n",
      "Early stopping, best iteration is:\n",
      "[26]\tvalid_0's l2: 0.253895\n"
     ]
    },
    {
     "name": "stderr",
     "output_type": "stream",
     "text": [
      "The frame.append method is deprecated and will be removed from pandas in a future version. Use pandas.concat instead.\n",
      "The frame.append method is deprecated and will be removed from pandas in a future version. Use pandas.concat instead.\n",
      "\u001b[32m[I 2022-11-10 01:27:48,279]\u001b[0m Trial 2 finished with value: 0.9961358707313436 and parameters: {'n_estimators': 622, 'learning_rate': 0.01, 'num_leaves': 120, 'min_child_samples': 79}. Best is trial 2 with value: 0.9961358707313436.\u001b[0m\n"
     ]
    },
    {
     "name": "stdout",
     "output_type": "stream",
     "text": [
      "   fold  num_train_gene  num_train_sgrna  num_test_gene  num_test_sgRNA  \\\n",
      "0     0             944             7976            315            2625   \n",
      "1     1             945             7899            314            2702   \n",
      "2     2             944             7955            315            2646   \n",
      "\n",
      "   num_overlap_gene  \n",
      "0                 0  \n",
      "1                 0  \n",
      "2                 0  \n",
      "Training until validation scores don't improve for 50 rounds\n",
      "Early stopping, best iteration is:\n",
      "[17]\tvalid_0's l2: 0.250393\n",
      "   fold  num_train_gene  num_train_sgrna  num_test_gene  num_test_sgRNA  \\\n",
      "0     0             944             7976            315            2625   \n",
      "1     1             945             7899            314            2702   \n",
      "2     2             944             7955            315            2646   \n",
      "3     3             944             7973            315            2628   \n",
      "\n",
      "   num_overlap_gene  \n",
      "0                 0  \n",
      "1                 0  \n",
      "2                 0  \n",
      "3                 0  \n",
      "Training until validation scores don't improve for 50 rounds\n",
      "Early stopping, best iteration is:\n",
      "[18]\tvalid_0's l2: 0.259095\n"
     ]
    },
    {
     "name": "stderr",
     "output_type": "stream",
     "text": [
      "The frame.append method is deprecated and will be removed from pandas in a future version. Use pandas.concat instead.\n",
      "The frame.append method is deprecated and will be removed from pandas in a future version. Use pandas.concat instead.\n",
      "The frame.append method is deprecated and will be removed from pandas in a future version. Use pandas.concat instead.\n"
     ]
    },
    {
     "name": "stdout",
     "output_type": "stream",
     "text": [
      "   fold  num_train_gene  num_train_sgrna  num_test_gene  num_test_sgRNA  \\\n",
      "0     0             944             7976            315            2625   \n",
      "\n",
      "   num_overlap_gene  \n",
      "0                 0  \n",
      "Training until validation scores don't improve for 50 rounds\n",
      "Early stopping, best iteration is:\n",
      "[2]\tvalid_0's l2: 0.266674\n",
      "   fold  num_train_gene  num_train_sgrna  num_test_gene  num_test_sgRNA  \\\n",
      "0     0             944             7976            315            2625   \n",
      "1     1             945             7899            314            2702   \n",
      "\n",
      "   num_overlap_gene  \n",
      "0                 0  \n",
      "1                 0  \n",
      "Training until validation scores don't improve for 50 rounds\n",
      "Early stopping, best iteration is:\n",
      "[8]\tvalid_0's l2: 0.253915\n",
      "   fold  num_train_gene  num_train_sgrna  num_test_gene  num_test_sgRNA  \\\n",
      "0     0             944             7976            315            2625   \n",
      "1     1             945             7899            314            2702   \n",
      "2     2             944             7955            315            2646   \n",
      "\n",
      "   num_overlap_gene  \n",
      "0                 0  \n",
      "1                 0  \n",
      "2                 0  \n",
      "Training until validation scores don't improve for 50 rounds\n"
     ]
    },
    {
     "name": "stderr",
     "output_type": "stream",
     "text": [
      "The frame.append method is deprecated and will be removed from pandas in a future version. Use pandas.concat instead.\n",
      "\u001b[32m[I 2022-11-10 01:27:49,119]\u001b[0m Trial 3 finished with value: 0.9959813880955583 and parameters: {'n_estimators': 284, 'learning_rate': 0.03, 'num_leaves': 202, 'min_child_samples': 133}. Best is trial 3 with value: 0.9959813880955583.\u001b[0m\n"
     ]
    },
    {
     "name": "stdout",
     "output_type": "stream",
     "text": [
      "Early stopping, best iteration is:\n",
      "[13]\tvalid_0's l2: 0.250202\n",
      "   fold  num_train_gene  num_train_sgrna  num_test_gene  num_test_sgRNA  \\\n",
      "0     0             944             7976            315            2625   \n",
      "1     1             945             7899            314            2702   \n",
      "2     2             944             7955            315            2646   \n",
      "3     3             944             7973            315            2628   \n",
      "\n",
      "   num_overlap_gene  \n",
      "0                 0  \n",
      "1                 0  \n",
      "2                 0  \n",
      "3                 0  \n",
      "Training until validation scores don't improve for 50 rounds\n",
      "Early stopping, best iteration is:\n",
      "[7]\tvalid_0's l2: 0.25908\n"
     ]
    },
    {
     "name": "stderr",
     "output_type": "stream",
     "text": [
      "The frame.append method is deprecated and will be removed from pandas in a future version. Use pandas.concat instead.\n",
      "The frame.append method is deprecated and will be removed from pandas in a future version. Use pandas.concat instead.\n",
      "The frame.append method is deprecated and will be removed from pandas in a future version. Use pandas.concat instead.\n"
     ]
    },
    {
     "name": "stdout",
     "output_type": "stream",
     "text": [
      "   fold  num_train_gene  num_train_sgrna  num_test_gene  num_test_sgRNA  \\\n",
      "0     0             944             7976            315            2625   \n",
      "\n",
      "   num_overlap_gene  \n",
      "0                 0  \n",
      "Training until validation scores don't improve for 50 rounds\n",
      "Early stopping, best iteration is:\n",
      "[3]\tvalid_0's l2: 0.266662\n",
      "   fold  num_train_gene  num_train_sgrna  num_test_gene  num_test_sgRNA  \\\n",
      "0     0             944             7976            315            2625   \n",
      "1     1             945             7899            314            2702   \n",
      "\n",
      "   num_overlap_gene  \n",
      "0                 0  \n",
      "1                 0  \n",
      "Training until validation scores don't improve for 50 rounds\n",
      "Early stopping, best iteration is:\n",
      "[11]\tvalid_0's l2: 0.253831\n",
      "   fold  num_train_gene  num_train_sgrna  num_test_gene  num_test_sgRNA  \\\n",
      "0     0             944             7976            315            2625   \n",
      "1     1             945             7899            314            2702   \n",
      "2     2             944             7955            315            2646   \n",
      "\n",
      "   num_overlap_gene  \n",
      "0                 0  \n",
      "1                 0  \n",
      "2                 0  \n",
      "Training until validation scores don't improve for 50 rounds\n"
     ]
    },
    {
     "name": "stderr",
     "output_type": "stream",
     "text": [
      "The frame.append method is deprecated and will be removed from pandas in a future version. Use pandas.concat instead.\n",
      "\u001b[32m[I 2022-11-10 01:27:49,889]\u001b[0m Trial 4 finished with value: 0.9951578082465309 and parameters: {'n_estimators': 1438, 'learning_rate': 0.03, 'num_leaves': 160, 'min_child_samples': 112}. Best is trial 4 with value: 0.9951578082465309.\u001b[0m\n"
     ]
    },
    {
     "name": "stdout",
     "output_type": "stream",
     "text": [
      "Early stopping, best iteration is:\n",
      "[11]\tvalid_0's l2: 0.250226\n",
      "   fold  num_train_gene  num_train_sgrna  num_test_gene  num_test_sgRNA  \\\n",
      "0     0             944             7976            315            2625   \n",
      "1     1             945             7899            314            2702   \n",
      "2     2             944             7955            315            2646   \n",
      "3     3             944             7973            315            2628   \n",
      "\n",
      "   num_overlap_gene  \n",
      "0                 0  \n",
      "1                 0  \n",
      "2                 0  \n",
      "3                 0  \n",
      "Training until validation scores don't improve for 50 rounds\n",
      "Early stopping, best iteration is:\n",
      "[7]\tvalid_0's l2: 0.259064\n"
     ]
    },
    {
     "name": "stderr",
     "output_type": "stream",
     "text": [
      "The frame.append method is deprecated and will be removed from pandas in a future version. Use pandas.concat instead.\n",
      "The frame.append method is deprecated and will be removed from pandas in a future version. Use pandas.concat instead.\n"
     ]
    },
    {
     "name": "stdout",
     "output_type": "stream",
     "text": [
      "   fold  num_train_gene  num_train_sgrna  num_test_gene  num_test_sgRNA  \\\n",
      "0     0             944             7976            315            2625   \n",
      "\n",
      "   num_overlap_gene  \n",
      "0                 0  \n",
      "Training until validation scores don't improve for 50 rounds\n",
      "Early stopping, best iteration is:\n",
      "[1]\tvalid_0's l2: 0.266698\n",
      "   fold  num_train_gene  num_train_sgrna  num_test_gene  num_test_sgRNA  \\\n",
      "0     0             944             7976            315            2625   \n",
      "1     1             945             7899            314            2702   \n",
      "\n",
      "   num_overlap_gene  \n",
      "0                 0  \n",
      "1                 0  \n",
      "Training until validation scores don't improve for 50 rounds\n",
      "Early stopping, best iteration is:\n",
      "[19]\tvalid_0's l2: 0.253965\n"
     ]
    },
    {
     "name": "stderr",
     "output_type": "stream",
     "text": [
      "The frame.append method is deprecated and will be removed from pandas in a future version. Use pandas.concat instead.\n",
      "The frame.append method is deprecated and will be removed from pandas in a future version. Use pandas.concat instead.\n",
      "\u001b[32m[I 2022-11-10 01:27:50,738]\u001b[0m Trial 5 finished with value: 0.9964060545266906 and parameters: {'n_estimators': 569, 'learning_rate': 0.01, 'num_leaves': 102, 'min_child_samples': 15}. Best is trial 4 with value: 0.9951578082465309.\u001b[0m\n"
     ]
    },
    {
     "name": "stdout",
     "output_type": "stream",
     "text": [
      "   fold  num_train_gene  num_train_sgrna  num_test_gene  num_test_sgRNA  \\\n",
      "0     0             944             7976            315            2625   \n",
      "1     1             945             7899            314            2702   \n",
      "2     2             944             7955            315            2646   \n",
      "\n",
      "   num_overlap_gene  \n",
      "0                 0  \n",
      "1                 0  \n",
      "2                 0  \n",
      "Training until validation scores don't improve for 50 rounds\n",
      "Early stopping, best iteration is:\n",
      "[12]\tvalid_0's l2: 0.250389\n",
      "   fold  num_train_gene  num_train_sgrna  num_test_gene  num_test_sgRNA  \\\n",
      "0     0             944             7976            315            2625   \n",
      "1     1             945             7899            314            2702   \n",
      "2     2             944             7955            315            2646   \n",
      "3     3             944             7973            315            2628   \n",
      "\n",
      "   num_overlap_gene  \n",
      "0                 0  \n",
      "1                 0  \n",
      "2                 0  \n",
      "3                 0  \n",
      "Training until validation scores don't improve for 50 rounds\n",
      "Early stopping, best iteration is:\n",
      "[1]\tvalid_0's l2: 0.259243\n"
     ]
    },
    {
     "name": "stderr",
     "output_type": "stream",
     "text": [
      "The frame.append method is deprecated and will be removed from pandas in a future version. Use pandas.concat instead.\n",
      "The frame.append method is deprecated and will be removed from pandas in a future version. Use pandas.concat instead.\n",
      "The frame.append method is deprecated and will be removed from pandas in a future version. Use pandas.concat instead.\n"
     ]
    },
    {
     "name": "stdout",
     "output_type": "stream",
     "text": [
      "   fold  num_train_gene  num_train_sgrna  num_test_gene  num_test_sgRNA  \\\n",
      "0     0             944             7976            315            2625   \n",
      "\n",
      "   num_overlap_gene  \n",
      "0                 0  \n",
      "Training until validation scores don't improve for 50 rounds\n",
      "Early stopping, best iteration is:\n",
      "[1]\tvalid_0's l2: 0.266683\n",
      "   fold  num_train_gene  num_train_sgrna  num_test_gene  num_test_sgRNA  \\\n",
      "0     0             944             7976            315            2625   \n",
      "1     1             945             7899            314            2702   \n",
      "\n",
      "   num_overlap_gene  \n",
      "0                 0  \n",
      "1                 0  \n",
      "Training until validation scores don't improve for 50 rounds\n",
      "Early stopping, best iteration is:\n",
      "[7]\tvalid_0's l2: 0.253877\n",
      "   fold  num_train_gene  num_train_sgrna  num_test_gene  num_test_sgRNA  \\\n",
      "0     0             944             7976            315            2625   \n",
      "1     1             945             7899            314            2702   \n",
      "2     2             944             7955            315            2646   \n",
      "\n",
      "   num_overlap_gene  \n",
      "0                 0  \n",
      "1                 0  \n",
      "2                 0  \n",
      "Training until validation scores don't improve for 50 rounds\n",
      "Early stopping, best iteration is:\n",
      "[12]\tvalid_0's l2: 0.250192\n"
     ]
    },
    {
     "name": "stderr",
     "output_type": "stream",
     "text": [
      "The frame.append method is deprecated and will be removed from pandas in a future version. Use pandas.concat instead.\n",
      "\u001b[32m[I 2022-11-10 01:27:51,459]\u001b[0m Trial 6 finished with value: 0.9955990850023633 and parameters: {'n_estimators': 223, 'learning_rate': 0.04, 'num_leaves': 34, 'min_child_samples': 118}. Best is trial 4 with value: 0.9951578082465309.\u001b[0m\n"
     ]
    },
    {
     "name": "stdout",
     "output_type": "stream",
     "text": [
      "   fold  num_train_gene  num_train_sgrna  num_test_gene  num_test_sgRNA  \\\n",
      "0     0             944             7976            315            2625   \n",
      "1     1             945             7899            314            2702   \n",
      "2     2             944             7955            315            2646   \n",
      "3     3             944             7973            315            2628   \n",
      "\n",
      "   num_overlap_gene  \n",
      "0                 0  \n",
      "1                 0  \n",
      "2                 0  \n",
      "3                 0  \n",
      "Training until validation scores don't improve for 50 rounds\n",
      "Early stopping, best iteration is:\n",
      "[6]\tvalid_0's l2: 0.25906\n"
     ]
    },
    {
     "name": "stderr",
     "output_type": "stream",
     "text": [
      "The frame.append method is deprecated and will be removed from pandas in a future version. Use pandas.concat instead.\n",
      "The frame.append method is deprecated and will be removed from pandas in a future version. Use pandas.concat instead.\n",
      "The frame.append method is deprecated and will be removed from pandas in a future version. Use pandas.concat instead.\n"
     ]
    },
    {
     "name": "stdout",
     "output_type": "stream",
     "text": [
      "   fold  num_train_gene  num_train_sgrna  num_test_gene  num_test_sgRNA  \\\n",
      "0     0             944             7976            315            2625   \n",
      "\n",
      "   num_overlap_gene  \n",
      "0                 0  \n",
      "Training until validation scores don't improve for 50 rounds\n",
      "Early stopping, best iteration is:\n",
      "[1]\tvalid_0's l2: 0.266714\n",
      "   fold  num_train_gene  num_train_sgrna  num_test_gene  num_test_sgRNA  \\\n",
      "0     0             944             7976            315            2625   \n",
      "1     1             945             7899            314            2702   \n",
      "\n",
      "   num_overlap_gene  \n",
      "0                 0  \n",
      "1                 0  \n",
      "Training until validation scores don't improve for 50 rounds\n",
      "Early stopping, best iteration is:\n",
      "[7]\tvalid_0's l2: 0.253909\n",
      "   fold  num_train_gene  num_train_sgrna  num_test_gene  num_test_sgRNA  \\\n",
      "0     0             944             7976            315            2625   \n",
      "1     1             945             7899            314            2702   \n",
      "2     2             944             7955            315            2646   \n",
      "\n",
      "   num_overlap_gene  \n",
      "0                 0  \n",
      "1                 0  \n",
      "2                 0  \n",
      "Training until validation scores don't improve for 50 rounds\n",
      "Early stopping, best iteration is:\n",
      "[6]\tvalid_0's l2: 0.2504\n"
     ]
    },
    {
     "name": "stderr",
     "output_type": "stream",
     "text": [
      "The frame.append method is deprecated and will be removed from pandas in a future version. Use pandas.concat instead.\n",
      "\u001b[32m[I 2022-11-10 01:27:52,186]\u001b[0m Trial 7 finished with value: 0.9970376442057506 and parameters: {'n_estimators': 1184, 'learning_rate': 0.04, 'num_leaves': 94, 'min_child_samples': 188}. Best is trial 4 with value: 0.9951578082465309.\u001b[0m\n"
     ]
    },
    {
     "name": "stdout",
     "output_type": "stream",
     "text": [
      "   fold  num_train_gene  num_train_sgrna  num_test_gene  num_test_sgRNA  \\\n",
      "0     0             944             7976            315            2625   \n",
      "1     1             945             7899            314            2702   \n",
      "2     2             944             7955            315            2646   \n",
      "3     3             944             7973            315            2628   \n",
      "\n",
      "   num_overlap_gene  \n",
      "0                 0  \n",
      "1                 0  \n",
      "2                 0  \n",
      "3                 0  \n",
      "Training until validation scores don't improve for 50 rounds\n",
      "Early stopping, best iteration is:\n",
      "[8]\tvalid_0's l2: 0.25905\n"
     ]
    },
    {
     "name": "stderr",
     "output_type": "stream",
     "text": [
      "The frame.append method is deprecated and will be removed from pandas in a future version. Use pandas.concat instead.\n",
      "The frame.append method is deprecated and will be removed from pandas in a future version. Use pandas.concat instead.\n"
     ]
    },
    {
     "name": "stdout",
     "output_type": "stream",
     "text": [
      "   fold  num_train_gene  num_train_sgrna  num_test_gene  num_test_sgRNA  \\\n",
      "0     0             944             7976            315            2625   \n",
      "\n",
      "   num_overlap_gene  \n",
      "0                 0  \n",
      "Training until validation scores don't improve for 50 rounds\n",
      "Early stopping, best iteration is:\n",
      "[10]\tvalid_0's l2: 0.266663\n",
      "   fold  num_train_gene  num_train_sgrna  num_test_gene  num_test_sgRNA  \\\n",
      "0     0             944             7976            315            2625   \n",
      "1     1             945             7899            314            2702   \n",
      "\n",
      "   num_overlap_gene  \n",
      "0                 0  \n",
      "1                 0  \n",
      "Training until validation scores don't improve for 50 rounds\n",
      "Early stopping, best iteration is:\n",
      "[34]\tvalid_0's l2: 0.253817\n"
     ]
    },
    {
     "name": "stderr",
     "output_type": "stream",
     "text": [
      "The frame.append method is deprecated and will be removed from pandas in a future version. Use pandas.concat instead.\n",
      "The frame.append method is deprecated and will be removed from pandas in a future version. Use pandas.concat instead.\n",
      "\u001b[32m[I 2022-11-10 01:27:53,063]\u001b[0m Trial 8 finished with value: 0.9951111044212558 and parameters: {'n_estimators': 561, 'learning_rate': 0.01, 'num_leaves': 173, 'min_child_samples': 116}. Best is trial 8 with value: 0.9951111044212558.\u001b[0m\n"
     ]
    },
    {
     "name": "stdout",
     "output_type": "stream",
     "text": [
      "   fold  num_train_gene  num_train_sgrna  num_test_gene  num_test_sgRNA  \\\n",
      "0     0             944             7976            315            2625   \n",
      "1     1             945             7899            314            2702   \n",
      "2     2             944             7955            315            2646   \n",
      "\n",
      "   num_overlap_gene  \n",
      "0                 0  \n",
      "1                 0  \n",
      "2                 0  \n",
      "Training until validation scores don't improve for 50 rounds\n",
      "Early stopping, best iteration is:\n",
      "[33]\tvalid_0's l2: 0.25025\n",
      "   fold  num_train_gene  num_train_sgrna  num_test_gene  num_test_sgRNA  \\\n",
      "0     0             944             7976            315            2625   \n",
      "1     1             945             7899            314            2702   \n",
      "2     2             944             7955            315            2646   \n",
      "3     3             944             7973            315            2628   \n",
      "\n",
      "   num_overlap_gene  \n",
      "0                 0  \n",
      "1                 0  \n",
      "2                 0  \n",
      "3                 0  \n",
      "Training until validation scores don't improve for 50 rounds\n",
      "Early stopping, best iteration is:\n",
      "[23]\tvalid_0's l2: 0.25906\n"
     ]
    },
    {
     "name": "stderr",
     "output_type": "stream",
     "text": [
      "The frame.append method is deprecated and will be removed from pandas in a future version. Use pandas.concat instead.\n",
      "The frame.append method is deprecated and will be removed from pandas in a future version. Use pandas.concat instead.\n",
      "The frame.append method is deprecated and will be removed from pandas in a future version. Use pandas.concat instead.\n"
     ]
    },
    {
     "name": "stdout",
     "output_type": "stream",
     "text": [
      "   fold  num_train_gene  num_train_sgrna  num_test_gene  num_test_sgRNA  \\\n",
      "0     0             944             7976            315            2625   \n",
      "\n",
      "   num_overlap_gene  \n",
      "0                 0  \n",
      "Training until validation scores don't improve for 50 rounds\n",
      "Early stopping, best iteration is:\n",
      "[1]\tvalid_0's l2: 0.266713\n",
      "   fold  num_train_gene  num_train_sgrna  num_test_gene  num_test_sgRNA  \\\n",
      "0     0             944             7976            315            2625   \n",
      "1     1             945             7899            314            2702   \n",
      "\n",
      "   num_overlap_gene  \n",
      "0                 0  \n",
      "1                 0  \n",
      "Training until validation scores don't improve for 50 rounds\n",
      "Early stopping, best iteration is:\n",
      "[10]\tvalid_0's l2: 0.253898\n",
      "   fold  num_train_gene  num_train_sgrna  num_test_gene  num_test_sgRNA  \\\n",
      "0     0             944             7976            315            2625   \n",
      "1     1             945             7899            314            2702   \n",
      "2     2             944             7955            315            2646   \n",
      "\n",
      "   num_overlap_gene  \n",
      "0                 0  \n",
      "1                 0  \n",
      "2                 0  \n",
      "Training until validation scores don't improve for 50 rounds\n",
      "Early stopping, best iteration is:\n",
      "[6]\tvalid_0's l2: 0.250428\n"
     ]
    },
    {
     "name": "stderr",
     "output_type": "stream",
     "text": [
      "The frame.append method is deprecated and will be removed from pandas in a future version. Use pandas.concat instead.\n",
      "\u001b[32m[I 2022-11-10 01:27:53,824]\u001b[0m Trial 9 finished with value: 0.9965940577599247 and parameters: {'n_estimators': 126, 'learning_rate': 0.04, 'num_leaves': 108, 'min_child_samples': 184}. Best is trial 8 with value: 0.9951111044212558.\u001b[0m\n"
     ]
    },
    {
     "name": "stdout",
     "output_type": "stream",
     "text": [
      "   fold  num_train_gene  num_train_sgrna  num_test_gene  num_test_sgRNA  \\\n",
      "0     0             944             7976            315            2625   \n",
      "1     1             945             7899            314            2702   \n",
      "2     2             944             7955            315            2646   \n",
      "3     3             944             7973            315            2628   \n",
      "\n",
      "   num_overlap_gene  \n",
      "0                 0  \n",
      "1                 0  \n",
      "2                 0  \n",
      "3                 0  \n",
      "Training until validation scores don't improve for 50 rounds\n",
      "Early stopping, best iteration is:\n",
      "[9]\tvalid_0's l2: 0.259043\n"
     ]
    },
    {
     "name": "stderr",
     "output_type": "stream",
     "text": [
      "The frame.append method is deprecated and will be removed from pandas in a future version. Use pandas.concat instead.\n",
      "The frame.append method is deprecated and will be removed from pandas in a future version. Use pandas.concat instead.\n"
     ]
    },
    {
     "name": "stdout",
     "output_type": "stream",
     "text": [
      "   fold  num_train_gene  num_train_sgrna  num_test_gene  num_test_sgRNA  \\\n",
      "0     0             944             7976            315            2625   \n",
      "\n",
      "   num_overlap_gene  \n",
      "0                 0  \n",
      "Training until validation scores don't improve for 50 rounds\n",
      "Early stopping, best iteration is:\n",
      "[1]\tvalid_0's l2: 0.266698\n",
      "   fold  num_train_gene  num_train_sgrna  num_test_gene  num_test_sgRNA  \\\n",
      "0     0             944             7976            315            2625   \n",
      "1     1             945             7899            314            2702   \n",
      "\n",
      "   num_overlap_gene  \n",
      "0                 0  \n",
      "1                 0  \n",
      "Training until validation scores don't improve for 50 rounds\n",
      "Early stopping, best iteration is:\n",
      "[13]\tvalid_0's l2: 0.25374\n",
      "   fold  num_train_gene  num_train_sgrna  num_test_gene  num_test_sgRNA  \\\n",
      "0     0             944             7976            315            2625   \n",
      "1     1             945             7899            314            2702   \n",
      "2     2             944             7955            315            2646   \n",
      "\n",
      "   num_overlap_gene  \n",
      "0                 0  \n",
      "1                 0  \n",
      "2                 0  \n",
      "Training until validation scores don't improve for 50 rounds\n",
      "Early stopping, best iteration is:\n",
      "[10]\tvalid_0's l2: 0.25032\n",
      "   fold  num_train_gene  num_train_sgrna  num_test_gene  num_test_sgRNA  \\\n",
      "0     0             944             7976            315            2625   \n",
      "1     1             945             7899            314            2702   \n",
      "2     2             944             7955            315            2646   \n",
      "3     3             944             7973            315            2628   \n",
      "\n",
      "   num_overlap_gene  \n",
      "0                 0  \n",
      "1                 0  \n",
      "2                 0  \n",
      "3                 0  \n"
     ]
    },
    {
     "name": "stderr",
     "output_type": "stream",
     "text": [
      "The frame.append method is deprecated and will be removed from pandas in a future version. Use pandas.concat instead.\n",
      "The frame.append method is deprecated and will be removed from pandas in a future version. Use pandas.concat instead.\n",
      "\u001b[32m[I 2022-11-10 01:27:54,814]\u001b[0m Trial 10 finished with value: 0.9944491558481349 and parameters: {'n_estimators': 852, 'learning_rate': 0.02, 'num_leaves': 247, 'min_child_samples': 26}. Best is trial 10 with value: 0.9944491558481349.\u001b[0m\n"
     ]
    },
    {
     "name": "stdout",
     "output_type": "stream",
     "text": [
      "Training until validation scores don't improve for 50 rounds\n",
      "Early stopping, best iteration is:\n",
      "[1]\tvalid_0's l2: 0.259234\n"
     ]
    },
    {
     "name": "stderr",
     "output_type": "stream",
     "text": [
      "The frame.append method is deprecated and will be removed from pandas in a future version. Use pandas.concat instead.\n",
      "The frame.append method is deprecated and will be removed from pandas in a future version. Use pandas.concat instead.\n"
     ]
    },
    {
     "name": "stdout",
     "output_type": "stream",
     "text": [
      "   fold  num_train_gene  num_train_sgrna  num_test_gene  num_test_sgRNA  \\\n",
      "0     0             944             7976            315            2625   \n",
      "\n",
      "   num_overlap_gene  \n",
      "0                 0  \n",
      "Training until validation scores don't improve for 50 rounds\n",
      "Early stopping, best iteration is:\n",
      "[1]\tvalid_0's l2: 0.266696\n",
      "   fold  num_train_gene  num_train_sgrna  num_test_gene  num_test_sgRNA  \\\n",
      "0     0             944             7976            315            2625   \n",
      "1     1             945             7899            314            2702   \n",
      "\n",
      "   num_overlap_gene  \n",
      "0                 0  \n",
      "1                 0  \n",
      "Training until validation scores don't improve for 50 rounds\n",
      "Early stopping, best iteration is:\n",
      "[9]\tvalid_0's l2: 0.253869\n",
      "   fold  num_train_gene  num_train_sgrna  num_test_gene  num_test_sgRNA  \\\n",
      "0     0             944             7976            315            2625   \n",
      "1     1             945             7899            314            2702   \n",
      "2     2             944             7955            315            2646   \n",
      "\n",
      "   num_overlap_gene  \n",
      "0                 0  \n",
      "1                 0  \n",
      "2                 0  \n",
      "Training until validation scores don't improve for 50 rounds\n",
      "Early stopping, best iteration is:\n",
      "[6]\tvalid_0's l2: 0.250417\n",
      "   fold  num_train_gene  num_train_sgrna  num_test_gene  num_test_sgRNA  \\\n",
      "0     0             944             7976            315            2625   \n",
      "1     1             945             7899            314            2702   \n",
      "2     2             944             7955            315            2646   \n",
      "3     3             944             7973            315            2628   \n",
      "\n",
      "   num_overlap_gene  \n",
      "0                 0  \n",
      "1                 0  \n",
      "2                 0  \n",
      "3                 0  \n",
      "Training until validation scores don't improve for 50 rounds\n"
     ]
    },
    {
     "name": "stderr",
     "output_type": "stream",
     "text": [
      "The frame.append method is deprecated and will be removed from pandas in a future version. Use pandas.concat instead.\n",
      "The frame.append method is deprecated and will be removed from pandas in a future version. Use pandas.concat instead.\n",
      "\u001b[32m[I 2022-11-10 01:27:55,879]\u001b[0m Trial 11 finished with value: 0.995254006517057 and parameters: {'n_estimators': 856, 'learning_rate': 0.02, 'num_leaves': 256, 'min_child_samples': 10}. Best is trial 10 with value: 0.9944491558481349.\u001b[0m\n"
     ]
    },
    {
     "name": "stdout",
     "output_type": "stream",
     "text": [
      "Early stopping, best iteration is:\n",
      "[1]\tvalid_0's l2: 0.259257\n"
     ]
    },
    {
     "name": "stderr",
     "output_type": "stream",
     "text": [
      "The frame.append method is deprecated and will be removed from pandas in a future version. Use pandas.concat instead.\n",
      "The frame.append method is deprecated and will be removed from pandas in a future version. Use pandas.concat instead.\n",
      "The frame.append method is deprecated and will be removed from pandas in a future version. Use pandas.concat instead.\n"
     ]
    },
    {
     "name": "stdout",
     "output_type": "stream",
     "text": [
      "   fold  num_train_gene  num_train_sgrna  num_test_gene  num_test_sgRNA  \\\n",
      "0     0             944             7976            315            2625   \n",
      "\n",
      "   num_overlap_gene  \n",
      "0                 0  \n",
      "Training until validation scores don't improve for 50 rounds\n",
      "Early stopping, best iteration is:\n",
      "[1]\tvalid_0's l2: 0.266717\n",
      "   fold  num_train_gene  num_train_sgrna  num_test_gene  num_test_sgRNA  \\\n",
      "0     0             944             7976            315            2625   \n",
      "1     1             945             7899            314            2702   \n",
      "\n",
      "   num_overlap_gene  \n",
      "0                 0  \n",
      "1                 0  \n",
      "Training until validation scores don't improve for 50 rounds\n",
      "Early stopping, best iteration is:\n",
      "[3]\tvalid_0's l2: 0.254002\n",
      "   fold  num_train_gene  num_train_sgrna  num_test_gene  num_test_sgRNA  \\\n",
      "0     0             944             7976            315            2625   \n",
      "1     1             945             7899            314            2702   \n",
      "2     2             944             7955            315            2646   \n",
      "\n",
      "   num_overlap_gene  \n",
      "0                 0  \n",
      "1                 0  \n",
      "2                 0  \n",
      "Training until validation scores don't improve for 50 rounds\n"
     ]
    },
    {
     "name": "stderr",
     "output_type": "stream",
     "text": [
      "The frame.append method is deprecated and will be removed from pandas in a future version. Use pandas.concat instead.\n",
      "\u001b[32m[I 2022-11-10 01:27:56,697]\u001b[0m Trial 12 finished with value: 0.9959674769772031 and parameters: {'n_estimators': 853, 'learning_rate': 0.05, 'num_leaves': 253, 'min_child_samples': 64}. Best is trial 10 with value: 0.9944491558481349.\u001b[0m\n"
     ]
    },
    {
     "name": "stdout",
     "output_type": "stream",
     "text": [
      "Early stopping, best iteration is:\n",
      "[5]\tvalid_0's l2: 0.25024\n",
      "   fold  num_train_gene  num_train_sgrna  num_test_gene  num_test_sgRNA  \\\n",
      "0     0             944             7976            315            2625   \n",
      "1     1             945             7899            314            2702   \n",
      "2     2             944             7955            315            2646   \n",
      "3     3             944             7973            315            2628   \n",
      "\n",
      "   num_overlap_gene  \n",
      "0                 0  \n",
      "1                 0  \n",
      "2                 0  \n",
      "3                 0  \n",
      "Training until validation scores don't improve for 50 rounds\n",
      "Early stopping, best iteration is:\n",
      "[2]\tvalid_0's l2: 0.259169\n"
     ]
    },
    {
     "name": "stderr",
     "output_type": "stream",
     "text": [
      "The frame.append method is deprecated and will be removed from pandas in a future version. Use pandas.concat instead.\n",
      "The frame.append method is deprecated and will be removed from pandas in a future version. Use pandas.concat instead.\n",
      "The frame.append method is deprecated and will be removed from pandas in a future version. Use pandas.concat instead.\n"
     ]
    },
    {
     "name": "stdout",
     "output_type": "stream",
     "text": [
      "   fold  num_train_gene  num_train_sgrna  num_test_gene  num_test_sgRNA  \\\n",
      "0     0             944             7976            315            2625   \n",
      "\n",
      "   num_overlap_gene  \n",
      "0                 0  \n",
      "Training until validation scores don't improve for 50 rounds\n",
      "Early stopping, best iteration is:\n",
      "[1]\tvalid_0's l2: 0.266689\n",
      "   fold  num_train_gene  num_train_sgrna  num_test_gene  num_test_sgRNA  \\\n",
      "0     0             944             7976            315            2625   \n",
      "1     1             945             7899            314            2702   \n",
      "\n",
      "   num_overlap_gene  \n",
      "0                 0  \n",
      "1                 0  \n",
      "Training until validation scores don't improve for 50 rounds\n",
      "Early stopping, best iteration is:\n",
      "[10]\tvalid_0's l2: 0.253994\n",
      "   fold  num_train_gene  num_train_sgrna  num_test_gene  num_test_sgRNA  \\\n",
      "0     0             944             7976            315            2625   \n",
      "1     1             945             7899            314            2702   \n",
      "2     2             944             7955            315            2646   \n",
      "\n",
      "   num_overlap_gene  \n",
      "0                 0  \n",
      "1                 0  \n",
      "2                 0  \n",
      "Training until validation scores don't improve for 50 rounds\n"
     ]
    },
    {
     "name": "stderr",
     "output_type": "stream",
     "text": [
      "The frame.append method is deprecated and will be removed from pandas in a future version. Use pandas.concat instead.\n",
      "\u001b[32m[I 2022-11-10 01:27:57,523]\u001b[0m Trial 13 finished with value: 0.9956853757418898 and parameters: {'n_estimators': 1062, 'learning_rate': 0.02, 'num_leaves': 211, 'min_child_samples': 56}. Best is trial 10 with value: 0.9944491558481349.\u001b[0m\n"
     ]
    },
    {
     "name": "stdout",
     "output_type": "stream",
     "text": [
      "Early stopping, best iteration is:\n",
      "[8]\tvalid_0's l2: 0.250271\n",
      "   fold  num_train_gene  num_train_sgrna  num_test_gene  num_test_sgRNA  \\\n",
      "0     0             944             7976            315            2625   \n",
      "1     1             945             7899            314            2702   \n",
      "2     2             944             7955            315            2646   \n",
      "3     3             944             7973            315            2628   \n",
      "\n",
      "   num_overlap_gene  \n",
      "0                 0  \n",
      "1                 0  \n",
      "2                 0  \n",
      "3                 0  \n",
      "Training until validation scores don't improve for 50 rounds\n",
      "Early stopping, best iteration is:\n",
      "[8]\tvalid_0's l2: 0.259159\n"
     ]
    },
    {
     "name": "stderr",
     "output_type": "stream",
     "text": [
      "The frame.append method is deprecated and will be removed from pandas in a future version. Use pandas.concat instead.\n",
      "The frame.append method is deprecated and will be removed from pandas in a future version. Use pandas.concat instead.\n",
      "The frame.append method is deprecated and will be removed from pandas in a future version. Use pandas.concat instead.\n"
     ]
    },
    {
     "name": "stdout",
     "output_type": "stream",
     "text": [
      "   fold  num_train_gene  num_train_sgrna  num_test_gene  num_test_sgRNA  \\\n",
      "0     0             944             7976            315            2625   \n",
      "\n",
      "   num_overlap_gene  \n",
      "0                 0  \n",
      "Training until validation scores don't improve for 50 rounds\n",
      "Early stopping, best iteration is:\n",
      "[2]\tvalid_0's l2: 0.266687\n",
      "   fold  num_train_gene  num_train_sgrna  num_test_gene  num_test_sgRNA  \\\n",
      "0     0             944             7976            315            2625   \n",
      "1     1             945             7899            314            2702   \n",
      "\n",
      "   num_overlap_gene  \n",
      "0                 0  \n",
      "1                 0  \n",
      "Training until validation scores don't improve for 50 rounds\n",
      "Early stopping, best iteration is:\n",
      "[14]\tvalid_0's l2: 0.25389\n",
      "   fold  num_train_gene  num_train_sgrna  num_test_gene  num_test_sgRNA  \\\n",
      "0     0             944             7976            315            2625   \n",
      "1     1             945             7899            314            2702   \n",
      "2     2             944             7955            315            2646   \n",
      "\n",
      "   num_overlap_gene  \n",
      "0                 0  \n",
      "1                 0  \n",
      "2                 0  \n",
      "Training until validation scores don't improve for 50 rounds\n"
     ]
    },
    {
     "name": "stderr",
     "output_type": "stream",
     "text": [
      "The frame.append method is deprecated and will be removed from pandas in a future version. Use pandas.concat instead.\n",
      "\u001b[32m[I 2022-11-10 01:27:58,299]\u001b[0m Trial 14 finished with value: 0.9961679269330581 and parameters: {'n_estimators': 737, 'learning_rate': 0.02, 'num_leaves': 158, 'min_child_samples': 142}. Best is trial 10 with value: 0.9944491558481349.\u001b[0m\n"
     ]
    },
    {
     "name": "stdout",
     "output_type": "stream",
     "text": [
      "Early stopping, best iteration is:\n",
      "[17]\tvalid_0's l2: 0.25023\n",
      "   fold  num_train_gene  num_train_sgrna  num_test_gene  num_test_sgRNA  \\\n",
      "0     0             944             7976            315            2625   \n",
      "1     1             945             7899            314            2702   \n",
      "2     2             944             7955            315            2646   \n",
      "3     3             944             7973            315            2628   \n",
      "\n",
      "   num_overlap_gene  \n",
      "0                 0  \n",
      "1                 0  \n",
      "2                 0  \n",
      "3                 0  \n",
      "Training until validation scores don't improve for 50 rounds\n",
      "Early stopping, best iteration is:\n",
      "[12]\tvalid_0's l2: 0.25909\n"
     ]
    },
    {
     "name": "stderr",
     "output_type": "stream",
     "text": [
      "The frame.append method is deprecated and will be removed from pandas in a future version. Use pandas.concat instead.\n",
      "The frame.append method is deprecated and will be removed from pandas in a future version. Use pandas.concat instead.\n"
     ]
    },
    {
     "name": "stdout",
     "output_type": "stream",
     "text": [
      "   fold  num_train_gene  num_train_sgrna  num_test_gene  num_test_sgRNA  \\\n",
      "0     0             944             7976            315            2625   \n",
      "\n",
      "   num_overlap_gene  \n",
      "0                 0  \n",
      "Training until validation scores don't improve for 50 rounds\n",
      "Early stopping, best iteration is:\n",
      "[1]\tvalid_0's l2: 0.266687\n",
      "   fold  num_train_gene  num_train_sgrna  num_test_gene  num_test_sgRNA  \\\n",
      "0     0             944             7976            315            2625   \n",
      "1     1             945             7899            314            2702   \n",
      "\n",
      "   num_overlap_gene  \n",
      "0                 0  \n",
      "1                 0  \n",
      "Training until validation scores don't improve for 50 rounds\n",
      "Early stopping, best iteration is:\n",
      "[5]\tvalid_0's l2: 0.253796\n"
     ]
    },
    {
     "name": "stderr",
     "output_type": "stream",
     "text": [
      "The frame.append method is deprecated and will be removed from pandas in a future version. Use pandas.concat instead.\n",
      "The frame.append method is deprecated and will be removed from pandas in a future version. Use pandas.concat instead.\n",
      "\u001b[32m[I 2022-11-10 01:27:59,162]\u001b[0m Trial 15 finished with value: 0.9947190124339578 and parameters: {'n_estimators': 437, 'learning_rate': 0.05, 'num_leaves': 229, 'min_child_samples': 40}. Best is trial 10 with value: 0.9944491558481349.\u001b[0m\n"
     ]
    },
    {
     "name": "stdout",
     "output_type": "stream",
     "text": [
      "   fold  num_train_gene  num_train_sgrna  num_test_gene  num_test_sgRNA  \\\n",
      "0     0             944             7976            315            2625   \n",
      "1     1             945             7899            314            2702   \n",
      "2     2             944             7955            315            2646   \n",
      "\n",
      "   num_overlap_gene  \n",
      "0                 0  \n",
      "1                 0  \n",
      "2                 0  \n",
      "Training until validation scores don't improve for 50 rounds\n",
      "Early stopping, best iteration is:\n",
      "[4]\tvalid_0's l2: 0.25029\n",
      "   fold  num_train_gene  num_train_sgrna  num_test_gene  num_test_sgRNA  \\\n",
      "0     0             944             7976            315            2625   \n",
      "1     1             945             7899            314            2702   \n",
      "2     2             944             7955            315            2646   \n",
      "3     3             944             7973            315            2628   \n",
      "\n",
      "   num_overlap_gene  \n",
      "0                 0  \n",
      "1                 0  \n",
      "2                 0  \n",
      "3                 0  \n",
      "Training until validation scores don't improve for 50 rounds\n",
      "Early stopping, best iteration is:\n",
      "[1]\tvalid_0's l2: 0.259242\n"
     ]
    },
    {
     "name": "stderr",
     "output_type": "stream",
     "text": [
      "The frame.append method is deprecated and will be removed from pandas in a future version. Use pandas.concat instead.\n",
      "The frame.append method is deprecated and will be removed from pandas in a future version. Use pandas.concat instead.\n"
     ]
    },
    {
     "name": "stdout",
     "output_type": "stream",
     "text": [
      "   fold  num_train_gene  num_train_sgrna  num_test_gene  num_test_sgRNA  \\\n",
      "0     0             944             7976            315            2625   \n",
      "\n",
      "   num_overlap_gene  \n",
      "0                 0  \n",
      "Training until validation scores don't improve for 50 rounds\n",
      "Early stopping, best iteration is:\n",
      "[1]\tvalid_0's l2: 0.266689\n",
      "   fold  num_train_gene  num_train_sgrna  num_test_gene  num_test_sgRNA  \\\n",
      "0     0             944             7976            315            2625   \n",
      "1     1             945             7899            314            2702   \n",
      "\n",
      "   num_overlap_gene  \n",
      "0                 0  \n",
      "1                 0  \n",
      "Training until validation scores don't improve for 50 rounds\n",
      "Early stopping, best iteration is:\n",
      "[5]\tvalid_0's l2: 0.253724\n"
     ]
    },
    {
     "name": "stderr",
     "output_type": "stream",
     "text": [
      "The frame.append method is deprecated and will be removed from pandas in a future version. Use pandas.concat instead.\n",
      "The frame.append method is deprecated and will be removed from pandas in a future version. Use pandas.concat instead.\n",
      "\u001b[32m[I 2022-11-10 01:28:00,024]\u001b[0m Trial 16 finished with value: 0.9945769530840629 and parameters: {'n_estimators': 370, 'learning_rate': 0.05, 'num_leaves': 227, 'min_child_samples': 38}. Best is trial 10 with value: 0.9944491558481349.\u001b[0m\n"
     ]
    },
    {
     "name": "stdout",
     "output_type": "stream",
     "text": [
      "   fold  num_train_gene  num_train_sgrna  num_test_gene  num_test_sgRNA  \\\n",
      "0     0             944             7976            315            2625   \n",
      "1     1             945             7899            314            2702   \n",
      "2     2             944             7955            315            2646   \n",
      "\n",
      "   num_overlap_gene  \n",
      "0                 0  \n",
      "1                 0  \n",
      "2                 0  \n",
      "Training until validation scores don't improve for 50 rounds\n",
      "Early stopping, best iteration is:\n",
      "[4]\tvalid_0's l2: 0.250251\n",
      "   fold  num_train_gene  num_train_sgrna  num_test_gene  num_test_sgRNA  \\\n",
      "0     0             944             7976            315            2625   \n",
      "1     1             945             7899            314            2702   \n",
      "2     2             944             7955            315            2646   \n",
      "3     3             944             7973            315            2628   \n",
      "\n",
      "   num_overlap_gene  \n",
      "0                 0  \n",
      "1                 0  \n",
      "2                 0  \n",
      "3                 0  \n",
      "Training until validation scores don't improve for 50 rounds\n",
      "Early stopping, best iteration is:\n",
      "[1]\tvalid_0's l2: 0.259225\n"
     ]
    },
    {
     "name": "stderr",
     "output_type": "stream",
     "text": [
      "The frame.append method is deprecated and will be removed from pandas in a future version. Use pandas.concat instead.\n",
      "The frame.append method is deprecated and will be removed from pandas in a future version. Use pandas.concat instead.\n",
      "The frame.append method is deprecated and will be removed from pandas in a future version. Use pandas.concat instead.\n"
     ]
    },
    {
     "name": "stdout",
     "output_type": "stream",
     "text": [
      "   fold  num_train_gene  num_train_sgrna  num_test_gene  num_test_sgRNA  \\\n",
      "0     0             944             7976            315            2625   \n",
      "\n",
      "   num_overlap_gene  \n",
      "0                 0  \n",
      "Training until validation scores don't improve for 50 rounds\n",
      "Early stopping, best iteration is:\n",
      "[1]\tvalid_0's l2: 0.266709\n",
      "   fold  num_train_gene  num_train_sgrna  num_test_gene  num_test_sgRNA  \\\n",
      "0     0             944             7976            315            2625   \n",
      "1     1             945             7899            314            2702   \n",
      "\n",
      "   num_overlap_gene  \n",
      "0                 0  \n",
      "1                 0  \n",
      "Training until validation scores don't improve for 50 rounds\n",
      "Early stopping, best iteration is:\n",
      "[5]\tvalid_0's l2: 0.253954\n",
      "   fold  num_train_gene  num_train_sgrna  num_test_gene  num_test_sgRNA  \\\n",
      "0     0             944             7976            315            2625   \n",
      "1     1             945             7899            314            2702   \n",
      "2     2             944             7955            315            2646   \n",
      "\n",
      "   num_overlap_gene  \n",
      "0                 0  \n",
      "1                 0  \n",
      "2                 0  \n",
      "Training until validation scores don't improve for 50 rounds\n"
     ]
    },
    {
     "name": "stderr",
     "output_type": "stream",
     "text": [
      "The frame.append method is deprecated and will be removed from pandas in a future version. Use pandas.concat instead.\n",
      "\u001b[32m[I 2022-11-10 01:28:00,806]\u001b[0m Trial 17 finished with value: 0.9962154671169349 and parameters: {'n_estimators': 987, 'learning_rate': 0.05, 'num_leaves': 226, 'min_child_samples': 86}. Best is trial 10 with value: 0.9944491558481349.\u001b[0m\n"
     ]
    },
    {
     "name": "stdout",
     "output_type": "stream",
     "text": [
      "Early stopping, best iteration is:\n",
      "[3]\tvalid_0's l2: 0.250351\n",
      "   fold  num_train_gene  num_train_sgrna  num_test_gene  num_test_sgRNA  \\\n",
      "0     0             944             7976            315            2625   \n",
      "1     1             945             7899            314            2702   \n",
      "2     2             944             7955            315            2646   \n",
      "3     3             944             7973            315            2628   \n",
      "\n",
      "   num_overlap_gene  \n",
      "0                 0  \n",
      "1                 0  \n",
      "2                 0  \n",
      "3                 0  \n",
      "Training until validation scores don't improve for 50 rounds\n",
      "Early stopping, best iteration is:\n",
      "[3]\tvalid_0's l2: 0.259124\n"
     ]
    },
    {
     "name": "stderr",
     "output_type": "stream",
     "text": [
      "The frame.append method is deprecated and will be removed from pandas in a future version. Use pandas.concat instead.\n",
      "The frame.append method is deprecated and will be removed from pandas in a future version. Use pandas.concat instead.\n",
      "The frame.append method is deprecated and will be removed from pandas in a future version. Use pandas.concat instead.\n"
     ]
    },
    {
     "name": "stdout",
     "output_type": "stream",
     "text": [
      "   fold  num_train_gene  num_train_sgrna  num_test_gene  num_test_sgRNA  \\\n",
      "0     0             944             7976            315            2625   \n",
      "\n",
      "   num_overlap_gene  \n",
      "0                 0  \n",
      "Training until validation scores don't improve for 50 rounds\n",
      "Early stopping, best iteration is:\n",
      "[2]\tvalid_0's l2: 0.266678\n",
      "   fold  num_train_gene  num_train_sgrna  num_test_gene  num_test_sgRNA  \\\n",
      "0     0             944             7976            315            2625   \n",
      "1     1             945             7899            314            2702   \n",
      "\n",
      "   num_overlap_gene  \n",
      "0                 0  \n",
      "1                 0  \n",
      "Training until validation scores don't improve for 50 rounds\n",
      "Early stopping, best iteration is:\n",
      "[10]\tvalid_0's l2: 0.253989\n",
      "   fold  num_train_gene  num_train_sgrna  num_test_gene  num_test_sgRNA  \\\n",
      "0     0             944             7976            315            2625   \n",
      "1     1             945             7899            314            2702   \n",
      "2     2             944             7955            315            2646   \n",
      "\n",
      "   num_overlap_gene  \n",
      "0                 0  \n",
      "1                 0  \n",
      "2                 0  \n"
     ]
    },
    {
     "name": "stderr",
     "output_type": "stream",
     "text": [
      "The frame.append method is deprecated and will be removed from pandas in a future version. Use pandas.concat instead.\n",
      "\u001b[32m[I 2022-11-10 01:28:01,691]\u001b[0m Trial 18 finished with value: 0.9950202454293489 and parameters: {'n_estimators': 1325, 'learning_rate': 0.02, 'num_leaves': 56, 'min_child_samples': 37}. Best is trial 10 with value: 0.9944491558481349.\u001b[0m\n"
     ]
    },
    {
     "name": "stdout",
     "output_type": "stream",
     "text": [
      "Training until validation scores don't improve for 50 rounds\n",
      "Early stopping, best iteration is:\n",
      "[12]\tvalid_0's l2: 0.250259\n",
      "   fold  num_train_gene  num_train_sgrna  num_test_gene  num_test_sgRNA  \\\n",
      "0     0             944             7976            315            2625   \n",
      "1     1             945             7899            314            2702   \n",
      "2     2             944             7955            315            2646   \n",
      "3     3             944             7973            315            2628   \n",
      "\n",
      "   num_overlap_gene  \n",
      "0                 0  \n",
      "1                 0  \n",
      "2                 0  \n",
      "3                 0  \n",
      "Training until validation scores don't improve for 50 rounds\n",
      "Early stopping, best iteration is:\n",
      "[10]\tvalid_0's l2: 0.259148\n"
     ]
    },
    {
     "name": "stderr",
     "output_type": "stream",
     "text": [
      "The frame.append method is deprecated and will be removed from pandas in a future version. Use pandas.concat instead.\n",
      "The frame.append method is deprecated and will be removed from pandas in a future version. Use pandas.concat instead.\n",
      "The frame.append method is deprecated and will be removed from pandas in a future version. Use pandas.concat instead.\n"
     ]
    },
    {
     "name": "stdout",
     "output_type": "stream",
     "text": [
      "   fold  num_train_gene  num_train_sgrna  num_test_gene  num_test_sgRNA  \\\n",
      "0     0             944             7976            315            2625   \n",
      "\n",
      "   num_overlap_gene  \n",
      "0                 0  \n",
      "Training until validation scores don't improve for 50 rounds\n",
      "Early stopping, best iteration is:\n",
      "[1]\tvalid_0's l2: 0.266696\n",
      "   fold  num_train_gene  num_train_sgrna  num_test_gene  num_test_sgRNA  \\\n",
      "0     0             944             7976            315            2625   \n",
      "1     1             945             7899            314            2702   \n",
      "\n",
      "   num_overlap_gene  \n",
      "0                 0  \n",
      "1                 0  \n",
      "Training until validation scores don't improve for 50 rounds\n",
      "Early stopping, best iteration is:\n",
      "[7]\tvalid_0's l2: 0.253894\n",
      "   fold  num_train_gene  num_train_sgrna  num_test_gene  num_test_sgRNA  \\\n",
      "0     0             944             7976            315            2625   \n",
      "1     1             945             7899            314            2702   \n",
      "2     2             944             7955            315            2646   \n",
      "\n",
      "   num_overlap_gene  \n",
      "0                 0  \n",
      "1                 0  \n",
      "2                 0  \n",
      "Training until validation scores don't improve for 50 rounds\n"
     ]
    },
    {
     "name": "stderr",
     "output_type": "stream",
     "text": [
      "The frame.append method is deprecated and will be removed from pandas in a future version. Use pandas.concat instead.\n",
      "\u001b[32m[I 2022-11-10 01:28:02,544]\u001b[0m Trial 19 finished with value: 0.9970183795316322 and parameters: {'n_estimators': 737, 'learning_rate': 0.05, 'num_leaves': 238, 'min_child_samples': 255}. Best is trial 10 with value: 0.9944491558481349.\u001b[0m\n"
     ]
    },
    {
     "name": "stdout",
     "output_type": "stream",
     "text": [
      "Early stopping, best iteration is:\n",
      "[3]\tvalid_0's l2: 0.250448\n",
      "   fold  num_train_gene  num_train_sgrna  num_test_gene  num_test_sgRNA  \\\n",
      "0     0             944             7976            315            2625   \n",
      "1     1             945             7899            314            2702   \n",
      "2     2             944             7955            315            2646   \n",
      "3     3             944             7973            315            2628   \n",
      "\n",
      "   num_overlap_gene  \n",
      "0                 0  \n",
      "1                 0  \n",
      "2                 0  \n",
      "3                 0  \n",
      "Training until validation scores don't improve for 50 rounds\n",
      "Early stopping, best iteration is:\n",
      "[16]\tvalid_0's l2: 0.258686\n"
     ]
    },
    {
     "name": "stderr",
     "output_type": "stream",
     "text": [
      "The frame.append method is deprecated and will be removed from pandas in a future version. Use pandas.concat instead.\n",
      "The frame.append method is deprecated and will be removed from pandas in a future version. Use pandas.concat instead.\n"
     ]
    },
    {
     "name": "stdout",
     "output_type": "stream",
     "text": [
      "   fold  num_train_gene  num_train_sgrna  num_test_gene  num_test_sgRNA  \\\n",
      "0     0             944             7976            315            2625   \n",
      "\n",
      "   num_overlap_gene  \n",
      "0                 0  \n",
      "Training until validation scores don't improve for 50 rounds\n",
      "Early stopping, best iteration is:\n",
      "[1]\tvalid_0's l2: 0.26669\n",
      "   fold  num_train_gene  num_train_sgrna  num_test_gene  num_test_sgRNA  \\\n",
      "0     0             944             7976            315            2625   \n",
      "1     1             945             7899            314            2702   \n",
      "\n",
      "   num_overlap_gene  \n",
      "0                 0  \n",
      "1                 0  \n",
      "Training until validation scores don't improve for 50 rounds\n",
      "Early stopping, best iteration is:\n",
      "[13]\tvalid_0's l2: 0.253742\n"
     ]
    },
    {
     "name": "stderr",
     "output_type": "stream",
     "text": [
      "The frame.append method is deprecated and will be removed from pandas in a future version. Use pandas.concat instead.\n",
      "The frame.append method is deprecated and will be removed from pandas in a future version. Use pandas.concat instead.\n"
     ]
    },
    {
     "name": "stdout",
     "output_type": "stream",
     "text": [
      "   fold  num_train_gene  num_train_sgrna  num_test_gene  num_test_sgRNA  \\\n",
      "0     0             944             7976            315            2625   \n",
      "1     1             945             7899            314            2702   \n",
      "2     2             944             7955            315            2646   \n",
      "\n",
      "   num_overlap_gene  \n",
      "0                 0  \n",
      "1                 0  \n",
      "2                 0  \n",
      "Training until validation scores don't improve for 50 rounds\n",
      "Early stopping, best iteration is:\n",
      "[9]\tvalid_0's l2: 0.250339\n",
      "   fold  num_train_gene  num_train_sgrna  num_test_gene  num_test_sgRNA  \\\n",
      "0     0             944             7976            315            2625   \n",
      "1     1             945             7899            314            2702   \n",
      "2     2             944             7955            315            2646   \n",
      "3     3             944             7973            315            2628   \n",
      "\n",
      "   num_overlap_gene  \n",
      "0                 0  \n",
      "1                 0  \n",
      "2                 0  \n",
      "3                 0  \n",
      "Training until validation scores don't improve for 50 rounds\n",
      "Early stopping, best iteration is:\n",
      "[3]\tvalid_0's l2: 0.259214\n"
     ]
    },
    {
     "name": "stderr",
     "output_type": "stream",
     "text": [
      "\u001b[32m[I 2022-11-10 01:28:03,565]\u001b[0m Trial 20 finished with value: 0.994670237038711 and parameters: {'n_estimators': 353, 'learning_rate': 0.02, 'num_leaves': 187, 'min_child_samples': 34}. Best is trial 10 with value: 0.9944491558481349.\u001b[0m\n",
      "The frame.append method is deprecated and will be removed from pandas in a future version. Use pandas.concat instead.\n",
      "The frame.append method is deprecated and will be removed from pandas in a future version. Use pandas.concat instead.\n"
     ]
    },
    {
     "name": "stdout",
     "output_type": "stream",
     "text": [
      "   fold  num_train_gene  num_train_sgrna  num_test_gene  num_test_sgRNA  \\\n",
      "0     0             944             7976            315            2625   \n",
      "\n",
      "   num_overlap_gene  \n",
      "0                 0  \n",
      "Training until validation scores don't improve for 50 rounds\n",
      "Early stopping, best iteration is:\n",
      "[2]\tvalid_0's l2: 0.266687\n",
      "   fold  num_train_gene  num_train_sgrna  num_test_gene  num_test_sgRNA  \\\n",
      "0     0             944             7976            315            2625   \n",
      "1     1             945             7899            314            2702   \n",
      "\n",
      "   num_overlap_gene  \n",
      "0                 0  \n",
      "1                 0  \n",
      "Training until validation scores don't improve for 50 rounds\n",
      "Early stopping, best iteration is:\n",
      "[14]\tvalid_0's l2: 0.253746\n",
      "   fold  num_train_gene  num_train_sgrna  num_test_gene  num_test_sgRNA  \\\n",
      "0     0             944             7976            315            2625   \n",
      "1     1             945             7899            314            2702   \n",
      "2     2             944             7955            315            2646   \n",
      "\n",
      "   num_overlap_gene  \n",
      "0                 0  \n",
      "1                 0  \n",
      "2                 0  \n",
      "Training until validation scores don't improve for 50 rounds\n",
      "Early stopping, best iteration is:\n",
      "[9]\tvalid_0's l2: 0.250338\n",
      "   fold  num_train_gene  num_train_sgrna  num_test_gene  num_test_sgRNA  \\\n",
      "0     0             944             7976            315            2625   \n",
      "1     1             945             7899            314            2702   \n",
      "2     2             944             7955            315            2646   \n",
      "3     3             944             7973            315            2628   \n",
      "\n",
      "   num_overlap_gene  \n",
      "0                 0  \n",
      "1                 0  \n",
      "2                 0  \n",
      "3                 0  \n",
      "Training until validation scores don't improve for 50 rounds\n"
     ]
    },
    {
     "name": "stderr",
     "output_type": "stream",
     "text": [
      "The frame.append method is deprecated and will be removed from pandas in a future version. Use pandas.concat instead.\n",
      "The frame.append method is deprecated and will be removed from pandas in a future version. Use pandas.concat instead.\n",
      "\u001b[32m[I 2022-11-10 01:28:04,521]\u001b[0m Trial 21 finished with value: 0.9941451833547703 and parameters: {'n_estimators': 334, 'learning_rate': 0.02, 'num_leaves': 184, 'min_child_samples': 32}. Best is trial 21 with value: 0.9941451833547703.\u001b[0m\n"
     ]
    },
    {
     "name": "stdout",
     "output_type": "stream",
     "text": [
      "Early stopping, best iteration is:\n",
      "[3]\tvalid_0's l2: 0.259225\n"
     ]
    },
    {
     "name": "stderr",
     "output_type": "stream",
     "text": [
      "The frame.append method is deprecated and will be removed from pandas in a future version. Use pandas.concat instead.\n",
      "The frame.append method is deprecated and will be removed from pandas in a future version. Use pandas.concat instead.\n"
     ]
    },
    {
     "name": "stdout",
     "output_type": "stream",
     "text": [
      "   fold  num_train_gene  num_train_sgrna  num_test_gene  num_test_sgRNA  \\\n",
      "0     0             944             7976            315            2625   \n",
      "\n",
      "   num_overlap_gene  \n",
      "0                 0  \n",
      "Training until validation scores don't improve for 50 rounds\n",
      "Early stopping, best iteration is:\n",
      "[3]\tvalid_0's l2: 0.266678\n",
      "   fold  num_train_gene  num_train_sgrna  num_test_gene  num_test_sgRNA  \\\n",
      "0     0             944             7976            315            2625   \n",
      "1     1             945             7899            314            2702   \n",
      "\n",
      "   num_overlap_gene  \n",
      "0                 0  \n",
      "1                 0  \n",
      "Training until validation scores don't improve for 50 rounds\n",
      "Early stopping, best iteration is:\n",
      "[10]\tvalid_0's l2: 0.253879\n",
      "   fold  num_train_gene  num_train_sgrna  num_test_gene  num_test_sgRNA  \\\n",
      "0     0             944             7976            315            2625   \n",
      "1     1             945             7899            314            2702   \n",
      "2     2             944             7955            315            2646   \n",
      "\n",
      "   num_overlap_gene  \n",
      "0                 0  \n",
      "1                 0  \n",
      "2                 0  \n",
      "Training until validation scores don't improve for 50 rounds\n",
      "Early stopping, best iteration is:\n",
      "[7]\tvalid_0's l2: 0.250397\n",
      "   fold  num_train_gene  num_train_sgrna  num_test_gene  num_test_sgRNA  \\\n",
      "0     0             944             7976            315            2625   \n",
      "1     1             945             7899            314            2702   \n",
      "2     2             944             7955            315            2646   \n",
      "3     3             944             7973            315            2628   \n",
      "\n",
      "   num_overlap_gene  \n",
      "0                 0  \n",
      "1                 0  \n",
      "2                 0  \n",
      "3                 0  \n",
      "Training until validation scores don't improve for 50 rounds\n"
     ]
    },
    {
     "name": "stderr",
     "output_type": "stream",
     "text": [
      "The frame.append method is deprecated and will be removed from pandas in a future version. Use pandas.concat instead.\n",
      "The frame.append method is deprecated and will be removed from pandas in a future version. Use pandas.concat instead.\n",
      "\u001b[32m[I 2022-11-10 01:28:05,481]\u001b[0m Trial 22 finished with value: 0.994500037646469 and parameters: {'n_estimators': 129, 'learning_rate': 0.02, 'num_leaves': 142, 'min_child_samples': 8}. Best is trial 21 with value: 0.9941451833547703.\u001b[0m\n"
     ]
    },
    {
     "name": "stdout",
     "output_type": "stream",
     "text": [
      "Early stopping, best iteration is:\n",
      "[1]\tvalid_0's l2: 0.25925\n"
     ]
    },
    {
     "name": "stderr",
     "output_type": "stream",
     "text": [
      "The frame.append method is deprecated and will be removed from pandas in a future version. Use pandas.concat instead.\n",
      "The frame.append method is deprecated and will be removed from pandas in a future version. Use pandas.concat instead.\n"
     ]
    },
    {
     "name": "stdout",
     "output_type": "stream",
     "text": [
      "   fold  num_train_gene  num_train_sgrna  num_test_gene  num_test_sgRNA  \\\n",
      "0     0             944             7976            315            2625   \n",
      "\n",
      "   num_overlap_gene  \n",
      "0                 0  \n",
      "Training until validation scores don't improve for 50 rounds\n",
      "Early stopping, best iteration is:\n",
      "[2]\tvalid_0's l2: 0.266679\n",
      "   fold  num_train_gene  num_train_sgrna  num_test_gene  num_test_sgRNA  \\\n",
      "0     0             944             7976            315            2625   \n",
      "1     1             945             7899            314            2702   \n",
      "\n",
      "   num_overlap_gene  \n",
      "0                 0  \n",
      "1                 0  \n",
      "Training until validation scores don't improve for 50 rounds\n",
      "Early stopping, best iteration is:\n",
      "[8]\tvalid_0's l2: 0.253888\n"
     ]
    },
    {
     "name": "stderr",
     "output_type": "stream",
     "text": [
      "The frame.append method is deprecated and will be removed from pandas in a future version. Use pandas.concat instead.\n",
      "The frame.append method is deprecated and will be removed from pandas in a future version. Use pandas.concat instead.\n"
     ]
    },
    {
     "name": "stdout",
     "output_type": "stream",
     "text": [
      "   fold  num_train_gene  num_train_sgrna  num_test_gene  num_test_sgRNA  \\\n",
      "0     0             944             7976            315            2625   \n",
      "1     1             945             7899            314            2702   \n",
      "2     2             944             7955            315            2646   \n",
      "\n",
      "   num_overlap_gene  \n",
      "0                 0  \n",
      "1                 0  \n",
      "2                 0  \n",
      "Training until validation scores don't improve for 50 rounds\n",
      "Early stopping, best iteration is:\n",
      "[6]\tvalid_0's l2: 0.25042\n",
      "   fold  num_train_gene  num_train_sgrna  num_test_gene  num_test_sgRNA  \\\n",
      "0     0             944             7976            315            2625   \n",
      "1     1             945             7899            314            2702   \n",
      "2     2             944             7955            315            2646   \n",
      "3     3             944             7973            315            2628   \n",
      "\n",
      "   num_overlap_gene  \n",
      "0                 0  \n",
      "1                 0  \n",
      "2                 0  \n",
      "3                 0  \n",
      "Training until validation scores don't improve for 50 rounds\n"
     ]
    },
    {
     "name": "stderr",
     "output_type": "stream",
     "text": [
      "\u001b[32m[I 2022-11-10 01:28:06,453]\u001b[0m Trial 23 finished with value: 0.9955366529346737 and parameters: {'n_estimators': 118, 'learning_rate': 0.02, 'num_leaves': 138, 'min_child_samples': 14}. Best is trial 21 with value: 0.9941451833547703.\u001b[0m\n"
     ]
    },
    {
     "name": "stdout",
     "output_type": "stream",
     "text": [
      "Early stopping, best iteration is:\n",
      "[1]\tvalid_0's l2: 0.259252\n"
     ]
    },
    {
     "name": "stderr",
     "output_type": "stream",
     "text": [
      "The frame.append method is deprecated and will be removed from pandas in a future version. Use pandas.concat instead.\n",
      "The frame.append method is deprecated and will be removed from pandas in a future version. Use pandas.concat instead.\n",
      "The frame.append method is deprecated and will be removed from pandas in a future version. Use pandas.concat instead.\n"
     ]
    },
    {
     "name": "stdout",
     "output_type": "stream",
     "text": [
      "   fold  num_train_gene  num_train_sgrna  num_test_gene  num_test_sgRNA  \\\n",
      "0     0             944             7976            315            2625   \n",
      "\n",
      "   num_overlap_gene  \n",
      "0                 0  \n",
      "Training until validation scores don't improve for 50 rounds\n",
      "Early stopping, best iteration is:\n",
      "[1]\tvalid_0's l2: 0.266704\n",
      "   fold  num_train_gene  num_train_sgrna  num_test_gene  num_test_sgRNA  \\\n",
      "0     0             944             7976            315            2625   \n",
      "1     1             945             7899            314            2702   \n",
      "\n",
      "   num_overlap_gene  \n",
      "0                 0  \n",
      "1                 0  \n",
      "Training until validation scores don't improve for 50 rounds\n",
      "Early stopping, best iteration is:\n",
      "[11]\tvalid_0's l2: 0.253947\n",
      "   fold  num_train_gene  num_train_sgrna  num_test_gene  num_test_sgRNA  \\\n",
      "0     0             944             7976            315            2625   \n",
      "1     1             945             7899            314            2702   \n",
      "2     2             944             7955            315            2646   \n",
      "\n",
      "   num_overlap_gene  \n",
      "0                 0  \n",
      "1                 0  \n",
      "2                 0  \n",
      "Training until validation scores don't improve for 50 rounds\n"
     ]
    },
    {
     "name": "stderr",
     "output_type": "stream",
     "text": [
      "The frame.append method is deprecated and will be removed from pandas in a future version. Use pandas.concat instead.\n",
      "\u001b[32m[I 2022-11-10 01:28:07,319]\u001b[0m Trial 24 finished with value: 0.9964220043425334 and parameters: {'n_estimators': 216, 'learning_rate': 0.02, 'num_leaves': 138, 'min_child_samples': 84}. Best is trial 21 with value: 0.9941451833547703.\u001b[0m\n"
     ]
    },
    {
     "name": "stdout",
     "output_type": "stream",
     "text": [
      "Early stopping, best iteration is:\n",
      "[10]\tvalid_0's l2: 0.250356\n",
      "   fold  num_train_gene  num_train_sgrna  num_test_gene  num_test_sgRNA  \\\n",
      "0     0             944             7976            315            2625   \n",
      "1     1             945             7899            314            2702   \n",
      "2     2             944             7955            315            2646   \n",
      "3     3             944             7973            315            2628   \n",
      "\n",
      "   num_overlap_gene  \n",
      "0                 0  \n",
      "1                 0  \n",
      "2                 0  \n",
      "3                 0  \n",
      "Training until validation scores don't improve for 50 rounds\n",
      "Early stopping, best iteration is:\n",
      "[7]\tvalid_0's l2: 0.259138\n"
     ]
    },
    {
     "name": "stderr",
     "output_type": "stream",
     "text": [
      "The frame.append method is deprecated and will be removed from pandas in a future version. Use pandas.concat instead.\n",
      "The frame.append method is deprecated and will be removed from pandas in a future version. Use pandas.concat instead.\n"
     ]
    },
    {
     "name": "stdout",
     "output_type": "stream",
     "text": [
      "   fold  num_train_gene  num_train_sgrna  num_test_gene  num_test_sgRNA  \\\n",
      "0     0             944             7976            315            2625   \n",
      "\n",
      "   num_overlap_gene  \n",
      "0                 0  \n",
      "Training until validation scores don't improve for 50 rounds\n",
      "Early stopping, best iteration is:\n",
      "[2]\tvalid_0's l2: 0.266682\n",
      "   fold  num_train_gene  num_train_sgrna  num_test_gene  num_test_sgRNA  \\\n",
      "0     0             944             7976            315            2625   \n",
      "1     1             945             7899            314            2702   \n",
      "\n",
      "   num_overlap_gene  \n",
      "0                 0  \n",
      "1                 0  \n",
      "Training until validation scores don't improve for 50 rounds\n",
      "Early stopping, best iteration is:\n",
      "[10]\tvalid_0's l2: 0.25397\n"
     ]
    },
    {
     "name": "stderr",
     "output_type": "stream",
     "text": [
      "The frame.append method is deprecated and will be removed from pandas in a future version. Use pandas.concat instead.\n",
      "The frame.append method is deprecated and will be removed from pandas in a future version. Use pandas.concat instead.\n",
      "\u001b[32m[I 2022-11-10 01:28:08,174]\u001b[0m Trial 25 finished with value: 0.9961117488594501 and parameters: {'n_estimators': 956, 'learning_rate': 0.02, 'num_leaves': 74, 'min_child_samples': 59}. Best is trial 21 with value: 0.9941451833547703.\u001b[0m\n"
     ]
    },
    {
     "name": "stdout",
     "output_type": "stream",
     "text": [
      "   fold  num_train_gene  num_train_sgrna  num_test_gene  num_test_sgRNA  \\\n",
      "0     0             944             7976            315            2625   \n",
      "1     1             945             7899            314            2702   \n",
      "2     2             944             7955            315            2646   \n",
      "\n",
      "   num_overlap_gene  \n",
      "0                 0  \n",
      "1                 0  \n",
      "2                 0  \n",
      "Training until validation scores don't improve for 50 rounds\n",
      "Early stopping, best iteration is:\n",
      "[8]\tvalid_0's l2: 0.250277\n",
      "   fold  num_train_gene  num_train_sgrna  num_test_gene  num_test_sgRNA  \\\n",
      "0     0             944             7976            315            2625   \n",
      "1     1             945             7899            314            2702   \n",
      "2     2             944             7955            315            2646   \n",
      "3     3             944             7973            315            2628   \n",
      "\n",
      "   num_overlap_gene  \n",
      "0                 0  \n",
      "1                 0  \n",
      "2                 0  \n",
      "3                 0  \n",
      "Training until validation scores don't improve for 50 rounds\n",
      "Early stopping, best iteration is:\n",
      "[5]\tvalid_0's l2: 0.259198\n"
     ]
    },
    {
     "name": "stderr",
     "output_type": "stream",
     "text": [
      "The frame.append method is deprecated and will be removed from pandas in a future version. Use pandas.concat instead.\n",
      "The frame.append method is deprecated and will be removed from pandas in a future version. Use pandas.concat instead.\n"
     ]
    },
    {
     "name": "stdout",
     "output_type": "stream",
     "text": [
      "   fold  num_train_gene  num_train_sgrna  num_test_gene  num_test_sgRNA  \\\n",
      "0     0             944             7976            315            2625   \n",
      "\n",
      "   num_overlap_gene  \n",
      "0                 0  \n",
      "Training until validation scores don't improve for 50 rounds\n",
      "Early stopping, best iteration is:\n",
      "[1]\tvalid_0's l2: 0.266699\n",
      "   fold  num_train_gene  num_train_sgrna  num_test_gene  num_test_sgRNA  \\\n",
      "0     0             944             7976            315            2625   \n",
      "1     1             945             7899            314            2702   \n",
      "\n",
      "   num_overlap_gene  \n",
      "0                 0  \n",
      "1                 0  \n",
      "Training until validation scores don't improve for 50 rounds\n",
      "Early stopping, best iteration is:\n",
      "[13]\tvalid_0's l2: 0.253749\n",
      "   fold  num_train_gene  num_train_sgrna  num_test_gene  num_test_sgRNA  \\\n",
      "0     0             944             7976            315            2625   \n",
      "1     1             945             7899            314            2702   \n",
      "2     2             944             7955            315            2646   \n",
      "\n",
      "   num_overlap_gene  \n",
      "0                 0  \n",
      "1                 0  \n",
      "2                 0  \n",
      "Training until validation scores don't improve for 50 rounds\n",
      "Early stopping, best iteration is:\n",
      "[9]\tvalid_0's l2: 0.250317\n"
     ]
    },
    {
     "name": "stderr",
     "output_type": "stream",
     "text": [
      "The frame.append method is deprecated and will be removed from pandas in a future version. Use pandas.concat instead.\n",
      "The frame.append method is deprecated and will be removed from pandas in a future version. Use pandas.concat instead.\n",
      "\u001b[32m[I 2022-11-10 01:28:09,313]\u001b[0m Trial 26 finished with value: 0.9940836575947264 and parameters: {'n_estimators': 683, 'learning_rate': 0.02, 'num_leaves': 173, 'min_child_samples': 26}. Best is trial 26 with value: 0.9940836575947264.\u001b[0m\n"
     ]
    },
    {
     "name": "stdout",
     "output_type": "stream",
     "text": [
      "   fold  num_train_gene  num_train_sgrna  num_test_gene  num_test_sgRNA  \\\n",
      "0     0             944             7976            315            2625   \n",
      "1     1             945             7899            314            2702   \n",
      "2     2             944             7955            315            2646   \n",
      "3     3             944             7973            315            2628   \n",
      "\n",
      "   num_overlap_gene  \n",
      "0                 0  \n",
      "1                 0  \n",
      "2                 0  \n",
      "3                 0  \n",
      "Training until validation scores don't improve for 50 rounds\n",
      "Early stopping, best iteration is:\n",
      "[3]\tvalid_0's l2: 0.259234\n"
     ]
    },
    {
     "name": "stderr",
     "output_type": "stream",
     "text": [
      "The frame.append method is deprecated and will be removed from pandas in a future version. Use pandas.concat instead.\n",
      "The frame.append method is deprecated and will be removed from pandas in a future version. Use pandas.concat instead.\n"
     ]
    },
    {
     "name": "stdout",
     "output_type": "stream",
     "text": [
      "   fold  num_train_gene  num_train_sgrna  num_test_gene  num_test_sgRNA  \\\n",
      "0     0             944             7976            315            2625   \n",
      "\n",
      "   num_overlap_gene  \n",
      "0                 0  \n",
      "Training until validation scores don't improve for 50 rounds\n",
      "Early stopping, best iteration is:\n",
      "[1]\tvalid_0's l2: 0.266689\n",
      "   fold  num_train_gene  num_train_sgrna  num_test_gene  num_test_sgRNA  \\\n",
      "0     0             944             7976            315            2625   \n",
      "1     1             945             7899            314            2702   \n",
      "\n",
      "   num_overlap_gene  \n",
      "0                 0  \n",
      "1                 0  \n",
      "Training until validation scores don't improve for 50 rounds\n",
      "Early stopping, best iteration is:\n",
      "[13]\tvalid_0's l2: 0.253754\n",
      "   fold  num_train_gene  num_train_sgrna  num_test_gene  num_test_sgRNA  \\\n",
      "0     0             944             7976            315            2625   \n",
      "1     1             945             7899            314            2702   \n",
      "2     2             944             7955            315            2646   \n",
      "\n",
      "   num_overlap_gene  \n",
      "0                 0  \n",
      "1                 0  \n",
      "2                 0  \n",
      "Training until validation scores don't improve for 50 rounds\n",
      "Early stopping, best iteration is:\n",
      "[9]\tvalid_0's l2: 0.25035\n",
      "   fold  num_train_gene  num_train_sgrna  num_test_gene  num_test_sgRNA  \\\n",
      "0     0             944             7976            315            2625   \n",
      "1     1             945             7899            314            2702   \n",
      "2     2             944             7955            315            2646   \n",
      "3     3             944             7973            315            2628   \n",
      "\n",
      "   num_overlap_gene  \n",
      "0                 0  \n",
      "1                 0  \n",
      "2                 0  \n",
      "3                 0  \n"
     ]
    },
    {
     "name": "stderr",
     "output_type": "stream",
     "text": [
      "The frame.append method is deprecated and will be removed from pandas in a future version. Use pandas.concat instead.\n",
      "The frame.append method is deprecated and will be removed from pandas in a future version. Use pandas.concat instead.\n",
      "\u001b[32m[I 2022-11-10 01:28:10,302]\u001b[0m Trial 27 finished with value: 0.9949328923171687 and parameters: {'n_estimators': 672, 'learning_rate': 0.02, 'num_leaves': 173, 'min_child_samples': 30}. Best is trial 26 with value: 0.9940836575947264.\u001b[0m\n"
     ]
    },
    {
     "name": "stdout",
     "output_type": "stream",
     "text": [
      "Training until validation scores don't improve for 50 rounds\n",
      "Early stopping, best iteration is:\n",
      "[1]\tvalid_0's l2: 0.259241\n"
     ]
    },
    {
     "name": "stderr",
     "output_type": "stream",
     "text": [
      "The frame.append method is deprecated and will be removed from pandas in a future version. Use pandas.concat instead.\n",
      "The frame.append method is deprecated and will be removed from pandas in a future version. Use pandas.concat instead.\n"
     ]
    },
    {
     "name": "stdout",
     "output_type": "stream",
     "text": [
      "   fold  num_train_gene  num_train_sgrna  num_test_gene  num_test_sgRNA  \\\n",
      "0     0             944             7976            315            2625   \n",
      "\n",
      "   num_overlap_gene  \n",
      "0                 0  \n",
      "Training until validation scores don't improve for 50 rounds\n",
      "Early stopping, best iteration is:\n",
      "[1]\tvalid_0's l2: 0.2667\n",
      "   fold  num_train_gene  num_train_sgrna  num_test_gene  num_test_sgRNA  \\\n",
      "0     0             944             7976            315            2625   \n",
      "1     1             945             7899            314            2702   \n",
      "\n",
      "   num_overlap_gene  \n",
      "0                 0  \n",
      "1                 0  \n",
      "Training until validation scores don't improve for 50 rounds\n",
      "Early stopping, best iteration is:\n",
      "[12]\tvalid_0's l2: 0.253947\n"
     ]
    },
    {
     "name": "stderr",
     "output_type": "stream",
     "text": [
      "The frame.append method is deprecated and will be removed from pandas in a future version. Use pandas.concat instead.\n",
      "The frame.append method is deprecated and will be removed from pandas in a future version. Use pandas.concat instead.\n"
     ]
    },
    {
     "name": "stdout",
     "output_type": "stream",
     "text": [
      "   fold  num_train_gene  num_train_sgrna  num_test_gene  num_test_sgRNA  \\\n",
      "0     0             944             7976            315            2625   \n",
      "1     1             945             7899            314            2702   \n",
      "2     2             944             7955            315            2646   \n",
      "\n",
      "   num_overlap_gene  \n",
      "0                 0  \n",
      "1                 0  \n",
      "2                 0  \n",
      "Training until validation scores don't improve for 50 rounds\n",
      "Early stopping, best iteration is:\n",
      "[10]\tvalid_0's l2: 0.25031\n",
      "   fold  num_train_gene  num_train_sgrna  num_test_gene  num_test_sgRNA  \\\n",
      "0     0             944             7976            315            2625   \n",
      "1     1             945             7899            314            2702   \n",
      "2     2             944             7955            315            2646   \n",
      "3     3             944             7973            315            2628   \n",
      "\n",
      "   num_overlap_gene  \n",
      "0                 0  \n",
      "1                 0  \n",
      "2                 0  \n",
      "3                 0  \n",
      "Training until validation scores don't improve for 50 rounds\n"
     ]
    },
    {
     "name": "stderr",
     "output_type": "stream",
     "text": [
      "\u001b[32m[I 2022-11-10 01:28:11,276]\u001b[0m Trial 28 finished with value: 0.9959589797097169 and parameters: {'n_estimators': 520, 'learning_rate': 0.02, 'num_leaves': 179, 'min_child_samples': 67}. Best is trial 26 with value: 0.9940836575947264.\u001b[0m\n"
     ]
    },
    {
     "name": "stdout",
     "output_type": "stream",
     "text": [
      "Early stopping, best iteration is:\n",
      "[6]\tvalid_0's l2: 0.259161\n"
     ]
    },
    {
     "name": "stderr",
     "output_type": "stream",
     "text": [
      "The frame.append method is deprecated and will be removed from pandas in a future version. Use pandas.concat instead.\n",
      "The frame.append method is deprecated and will be removed from pandas in a future version. Use pandas.concat instead.\n"
     ]
    },
    {
     "name": "stdout",
     "output_type": "stream",
     "text": [
      "   fold  num_train_gene  num_train_sgrna  num_test_gene  num_test_sgRNA  \\\n",
      "0     0             944             7976            315            2625   \n",
      "\n",
      "   num_overlap_gene  \n",
      "0                 0  \n",
      "Training until validation scores don't improve for 50 rounds\n",
      "Early stopping, best iteration is:\n",
      "[2]\tvalid_0's l2: 0.266675\n",
      "   fold  num_train_gene  num_train_sgrna  num_test_gene  num_test_sgRNA  \\\n",
      "0     0             944             7976            315            2625   \n",
      "1     1             945             7899            314            2702   \n",
      "\n",
      "   num_overlap_gene  \n",
      "0                 0  \n",
      "1                 0  \n",
      "Training until validation scores don't improve for 50 rounds\n",
      "Early stopping, best iteration is:\n",
      "[7]\tvalid_0's l2: 0.253975\n"
     ]
    },
    {
     "name": "stderr",
     "output_type": "stream",
     "text": [
      "The frame.append method is deprecated and will be removed from pandas in a future version. Use pandas.concat instead.\n",
      "The frame.append method is deprecated and will be removed from pandas in a future version. Use pandas.concat instead.\n",
      "\u001b[32m[I 2022-11-10 01:28:12,188]\u001b[0m Trial 29 finished with value: 0.9948707740387227 and parameters: {'n_estimators': 791, 'learning_rate': 0.03, 'num_leaves': 207, 'min_child_samples': 51}. Best is trial 26 with value: 0.9940836575947264.\u001b[0m\n"
     ]
    },
    {
     "name": "stdout",
     "output_type": "stream",
     "text": [
      "   fold  num_train_gene  num_train_sgrna  num_test_gene  num_test_sgRNA  \\\n",
      "0     0             944             7976            315            2625   \n",
      "1     1             945             7899            314            2702   \n",
      "2     2             944             7955            315            2646   \n",
      "\n",
      "   num_overlap_gene  \n",
      "0                 0  \n",
      "1                 0  \n",
      "2                 0  \n",
      "Training until validation scores don't improve for 50 rounds\n",
      "Early stopping, best iteration is:\n",
      "[6]\tvalid_0's l2: 0.250232\n",
      "   fold  num_train_gene  num_train_sgrna  num_test_gene  num_test_sgRNA  \\\n",
      "0     0             944             7976            315            2625   \n",
      "1     1             945             7899            314            2702   \n",
      "2     2             944             7955            315            2646   \n",
      "3     3             944             7973            315            2628   \n",
      "\n",
      "   num_overlap_gene  \n",
      "0                 0  \n",
      "1                 0  \n",
      "2                 0  \n",
      "3                 0  \n",
      "Training until validation scores don't improve for 50 rounds\n",
      "Early stopping, best iteration is:\n",
      "[5]\tvalid_0's l2: 0.259189\n"
     ]
    },
    {
     "name": "stderr",
     "output_type": "stream",
     "text": [
      "The frame.append method is deprecated and will be removed from pandas in a future version. Use pandas.concat instead.\n",
      "The frame.append method is deprecated and will be removed from pandas in a future version. Use pandas.concat instead.\n",
      "The frame.append method is deprecated and will be removed from pandas in a future version. Use pandas.concat instead.\n"
     ]
    },
    {
     "name": "stdout",
     "output_type": "stream",
     "text": [
      "   fold  num_train_gene  num_train_sgrna  num_test_gene  num_test_sgRNA  \\\n",
      "0     0             944             7976            315            2625   \n",
      "\n",
      "   num_overlap_gene  \n",
      "0                 0  \n",
      "Training until validation scores don't improve for 50 rounds\n",
      "Early stopping, best iteration is:\n",
      "[1]\tvalid_0's l2: 0.2667\n",
      "   fold  num_train_gene  num_train_sgrna  num_test_gene  num_test_sgRNA  \\\n",
      "0     0             944             7976            315            2625   \n",
      "1     1             945             7899            314            2702   \n",
      "\n",
      "   num_overlap_gene  \n",
      "0                 0  \n",
      "1                 0  \n",
      "Training until validation scores don't improve for 50 rounds\n",
      "Early stopping, best iteration is:\n",
      "[15]\tvalid_0's l2: 0.253888\n",
      "   fold  num_train_gene  num_train_sgrna  num_test_gene  num_test_sgRNA  \\\n",
      "0     0             944             7976            315            2625   \n",
      "1     1             945             7899            314            2702   \n",
      "2     2             944             7955            315            2646   \n",
      "\n",
      "   num_overlap_gene  \n",
      "0                 0  \n",
      "1                 0  \n",
      "2                 0  \n",
      "Training until validation scores don't improve for 50 rounds\n"
     ]
    },
    {
     "name": "stderr",
     "output_type": "stream",
     "text": [
      "The frame.append method is deprecated and will be removed from pandas in a future version. Use pandas.concat instead.\n",
      "\u001b[32m[I 2022-11-10 01:28:13,016]\u001b[0m Trial 30 finished with value: 0.9966831206345461 and parameters: {'n_estimators': 445, 'learning_rate': 0.02, 'num_leaves': 195, 'min_child_samples': 165}. Best is trial 26 with value: 0.9940836575947264.\u001b[0m\n"
     ]
    },
    {
     "name": "stdout",
     "output_type": "stream",
     "text": [
      "Early stopping, best iteration is:\n",
      "[13]\tvalid_0's l2: 0.250376\n",
      "   fold  num_train_gene  num_train_sgrna  num_test_gene  num_test_sgRNA  \\\n",
      "0     0             944             7976            315            2625   \n",
      "1     1             945             7899            314            2702   \n",
      "2     2             944             7955            315            2646   \n",
      "3     3             944             7973            315            2628   \n",
      "\n",
      "   num_overlap_gene  \n",
      "0                 0  \n",
      "1                 0  \n",
      "2                 0  \n",
      "3                 0  \n",
      "Training until validation scores don't improve for 50 rounds\n",
      "Early stopping, best iteration is:\n",
      "[15]\tvalid_0's l2: 0.259112\n"
     ]
    },
    {
     "name": "stderr",
     "output_type": "stream",
     "text": [
      "The frame.append method is deprecated and will be removed from pandas in a future version. Use pandas.concat instead.\n",
      "The frame.append method is deprecated and will be removed from pandas in a future version. Use pandas.concat instead.\n"
     ]
    },
    {
     "name": "stdout",
     "output_type": "stream",
     "text": [
      "   fold  num_train_gene  num_train_sgrna  num_test_gene  num_test_sgRNA  \\\n",
      "0     0             944             7976            315            2625   \n",
      "\n",
      "   num_overlap_gene  \n",
      "0                 0  \n",
      "Training until validation scores don't improve for 50 rounds\n",
      "Early stopping, best iteration is:\n",
      "[1]\tvalid_0's l2: 0.266688\n",
      "   fold  num_train_gene  num_train_sgrna  num_test_gene  num_test_sgRNA  \\\n",
      "0     0             944             7976            315            2625   \n",
      "1     1             945             7899            314            2702   \n",
      "\n",
      "   num_overlap_gene  \n",
      "0                 0  \n",
      "1                 0  \n",
      "Training until validation scores don't improve for 50 rounds\n",
      "Early stopping, best iteration is:\n",
      "[9]\tvalid_0's l2: 0.253855\n"
     ]
    },
    {
     "name": "stderr",
     "output_type": "stream",
     "text": [
      "The frame.append method is deprecated and will be removed from pandas in a future version. Use pandas.concat instead.\n",
      "The frame.append method is deprecated and will be removed from pandas in a future version. Use pandas.concat instead.\n",
      "\u001b[32m[I 2022-11-10 01:28:13,961]\u001b[0m Trial 31 finished with value: 0.9952118850702165 and parameters: {'n_estimators': 238, 'learning_rate': 0.02, 'num_leaves': 152, 'min_child_samples': 8}. Best is trial 26 with value: 0.9940836575947264.\u001b[0m\n"
     ]
    },
    {
     "name": "stdout",
     "output_type": "stream",
     "text": [
      "   fold  num_train_gene  num_train_sgrna  num_test_gene  num_test_sgRNA  \\\n",
      "0     0             944             7976            315            2625   \n",
      "1     1             945             7899            314            2702   \n",
      "2     2             944             7955            315            2646   \n",
      "\n",
      "   num_overlap_gene  \n",
      "0                 0  \n",
      "1                 0  \n",
      "2                 0  \n",
      "Training until validation scores don't improve for 50 rounds\n",
      "Early stopping, best iteration is:\n",
      "[7]\tvalid_0's l2: 0.250423\n",
      "   fold  num_train_gene  num_train_sgrna  num_test_gene  num_test_sgRNA  \\\n",
      "0     0             944             7976            315            2625   \n",
      "1     1             945             7899            314            2702   \n",
      "2     2             944             7955            315            2646   \n",
      "3     3             944             7973            315            2628   \n",
      "\n",
      "   num_overlap_gene  \n",
      "0                 0  \n",
      "1                 0  \n",
      "2                 0  \n",
      "3                 0  \n",
      "Training until validation scores don't improve for 50 rounds\n",
      "Early stopping, best iteration is:\n",
      "[1]\tvalid_0's l2: 0.259252\n"
     ]
    },
    {
     "name": "stderr",
     "output_type": "stream",
     "text": [
      "The frame.append method is deprecated and will be removed from pandas in a future version. Use pandas.concat instead.\n",
      "The frame.append method is deprecated and will be removed from pandas in a future version. Use pandas.concat instead.\n"
     ]
    },
    {
     "name": "stdout",
     "output_type": "stream",
     "text": [
      "   fold  num_train_gene  num_train_sgrna  num_test_gene  num_test_sgRNA  \\\n",
      "0     0             944             7976            315            2625   \n",
      "\n",
      "   num_overlap_gene  \n",
      "0                 0  \n",
      "Training until validation scores don't improve for 50 rounds\n",
      "Early stopping, best iteration is:\n",
      "[1]\tvalid_0's l2: 0.266698\n",
      "   fold  num_train_gene  num_train_sgrna  num_test_gene  num_test_sgRNA  \\\n",
      "0     0             944             7976            315            2625   \n",
      "1     1             945             7899            314            2702   \n",
      "\n",
      "   num_overlap_gene  \n",
      "0                 0  \n",
      "1                 0  \n",
      "Training until validation scores don't improve for 50 rounds\n",
      "Early stopping, best iteration is:\n",
      "[14]\tvalid_0's l2: 0.253714\n"
     ]
    },
    {
     "name": "stderr",
     "output_type": "stream",
     "text": [
      "The frame.append method is deprecated and will be removed from pandas in a future version. Use pandas.concat instead.\n",
      "The frame.append method is deprecated and will be removed from pandas in a future version. Use pandas.concat instead.\n"
     ]
    },
    {
     "name": "stdout",
     "output_type": "stream",
     "text": [
      "   fold  num_train_gene  num_train_sgrna  num_test_gene  num_test_sgRNA  \\\n",
      "0     0             944             7976            315            2625   \n",
      "1     1             945             7899            314            2702   \n",
      "2     2             944             7955            315            2646   \n",
      "\n",
      "   num_overlap_gene  \n",
      "0                 0  \n",
      "1                 0  \n",
      "2                 0  \n",
      "Training until validation scores don't improve for 50 rounds\n",
      "Early stopping, best iteration is:\n",
      "[11]\tvalid_0's l2: 0.250284\n",
      "   fold  num_train_gene  num_train_sgrna  num_test_gene  num_test_sgRNA  \\\n",
      "0     0             944             7976            315            2625   \n",
      "1     1             945             7899            314            2702   \n",
      "2     2             944             7955            315            2646   \n",
      "3     3             944             7973            315            2628   \n",
      "\n",
      "   num_overlap_gene  \n",
      "0                 0  \n",
      "1                 0  \n",
      "2                 0  \n",
      "3                 0  \n",
      "Training until validation scores don't improve for 50 rounds\n"
     ]
    },
    {
     "name": "stderr",
     "output_type": "stream",
     "text": [
      "\u001b[32m[I 2022-11-10 01:28:14,919]\u001b[0m Trial 32 finished with value: 0.9936974355690902 and parameters: {'n_estimators': 308, 'learning_rate': 0.02, 'num_leaves': 149, 'min_child_samples': 27}. Best is trial 32 with value: 0.9936974355690902.\u001b[0m\n"
     ]
    },
    {
     "name": "stdout",
     "output_type": "stream",
     "text": [
      "Early stopping, best iteration is:\n",
      "[3]\tvalid_0's l2: 0.259233\n"
     ]
    },
    {
     "name": "stderr",
     "output_type": "stream",
     "text": [
      "The frame.append method is deprecated and will be removed from pandas in a future version. Use pandas.concat instead.\n",
      "The frame.append method is deprecated and will be removed from pandas in a future version. Use pandas.concat instead.\n"
     ]
    },
    {
     "name": "stdout",
     "output_type": "stream",
     "text": [
      "   fold  num_train_gene  num_train_sgrna  num_test_gene  num_test_sgRNA  \\\n",
      "0     0             944             7976            315            2625   \n",
      "\n",
      "   num_overlap_gene  \n",
      "0                 0  \n",
      "Training until validation scores don't improve for 50 rounds\n",
      "Early stopping, best iteration is:\n",
      "[1]\tvalid_0's l2: 0.266691\n",
      "   fold  num_train_gene  num_train_sgrna  num_test_gene  num_test_sgRNA  \\\n",
      "0     0             944             7976            315            2625   \n",
      "1     1             945             7899            314            2702   \n",
      "\n",
      "   num_overlap_gene  \n",
      "0                 0  \n",
      "1                 0  \n",
      "Training until validation scores don't improve for 50 rounds\n",
      "Early stopping, best iteration is:\n",
      "[14]\tvalid_0's l2: 0.253702\n",
      "   fold  num_train_gene  num_train_sgrna  num_test_gene  num_test_sgRNA  \\\n",
      "0     0             944             7976            315            2625   \n",
      "1     1             945             7899            314            2702   \n",
      "2     2             944             7955            315            2646   \n",
      "\n",
      "   num_overlap_gene  \n",
      "0                 0  \n",
      "1                 0  \n",
      "2                 0  \n",
      "Training until validation scores don't improve for 50 rounds\n",
      "Early stopping, best iteration is:\n",
      "[11]\tvalid_0's l2: 0.250307\n",
      "   fold  num_train_gene  num_train_sgrna  num_test_gene  num_test_sgRNA  \\\n",
      "0     0             944             7976            315            2625   \n",
      "1     1             945             7899            314            2702   \n",
      "2     2             944             7955            315            2646   \n",
      "3     3             944             7973            315            2628   \n",
      "\n",
      "   num_overlap_gene  \n",
      "0                 0  \n",
      "1                 0  \n",
      "2                 0  \n",
      "3                 0  \n"
     ]
    },
    {
     "name": "stderr",
     "output_type": "stream",
     "text": [
      "The frame.append method is deprecated and will be removed from pandas in a future version. Use pandas.concat instead.\n",
      "The frame.append method is deprecated and will be removed from pandas in a future version. Use pandas.concat instead.\n",
      "\u001b[32m[I 2022-11-10 01:28:15,925]\u001b[0m Trial 33 finished with value: 0.993867657265853 and parameters: {'n_estimators': 366, 'learning_rate': 0.02, 'num_leaves': 124, 'min_child_samples': 27}. Best is trial 32 with value: 0.9936974355690902.\u001b[0m\n"
     ]
    },
    {
     "name": "stdout",
     "output_type": "stream",
     "text": [
      "Training until validation scores don't improve for 50 rounds\n",
      "Early stopping, best iteration is:\n",
      "[3]\tvalid_0's l2: 0.25923\n"
     ]
    },
    {
     "name": "stderr",
     "output_type": "stream",
     "text": [
      "The frame.append method is deprecated and will be removed from pandas in a future version. Use pandas.concat instead.\n",
      "The frame.append method is deprecated and will be removed from pandas in a future version. Use pandas.concat instead.\n",
      "The frame.append method is deprecated and will be removed from pandas in a future version. Use pandas.concat instead.\n"
     ]
    },
    {
     "name": "stdout",
     "output_type": "stream",
     "text": [
      "   fold  num_train_gene  num_train_sgrna  num_test_gene  num_test_sgRNA  \\\n",
      "0     0             944             7976            315            2625   \n",
      "\n",
      "   num_overlap_gene  \n",
      "0                 0  \n",
      "Training until validation scores don't improve for 50 rounds\n",
      "Early stopping, best iteration is:\n",
      "[3]\tvalid_0's l2: 0.266678\n",
      "   fold  num_train_gene  num_train_sgrna  num_test_gene  num_test_sgRNA  \\\n",
      "0     0             944             7976            315            2625   \n",
      "1     1             945             7899            314            2702   \n",
      "\n",
      "   num_overlap_gene  \n",
      "0                 0  \n",
      "1                 0  \n",
      "Training until validation scores don't improve for 50 rounds\n",
      "Early stopping, best iteration is:\n",
      "[16]\tvalid_0's l2: 0.253787\n",
      "   fold  num_train_gene  num_train_sgrna  num_test_gene  num_test_sgRNA  \\\n",
      "0     0             944             7976            315            2625   \n",
      "1     1             945             7899            314            2702   \n",
      "2     2             944             7955            315            2646   \n",
      "\n",
      "   num_overlap_gene  \n",
      "0                 0  \n",
      "1                 0  \n",
      "2                 0  \n",
      "Training until validation scores don't improve for 50 rounds\n"
     ]
    },
    {
     "name": "stderr",
     "output_type": "stream",
     "text": [
      "The frame.append method is deprecated and will be removed from pandas in a future version. Use pandas.concat instead.\n",
      "\u001b[32m[I 2022-11-10 01:28:16,816]\u001b[0m Trial 34 finished with value: 0.995023387546138 and parameters: {'n_estimators': 354, 'learning_rate': 0.02, 'num_leaves': 121, 'min_child_samples': 100}. Best is trial 32 with value: 0.9936974355690902.\u001b[0m\n"
     ]
    },
    {
     "name": "stdout",
     "output_type": "stream",
     "text": [
      "Early stopping, best iteration is:\n",
      "[20]\tvalid_0's l2: 0.250233\n",
      "   fold  num_train_gene  num_train_sgrna  num_test_gene  num_test_sgRNA  \\\n",
      "0     0             944             7976            315            2625   \n",
      "1     1             945             7899            314            2702   \n",
      "2     2             944             7955            315            2646   \n",
      "3     3             944             7973            315            2628   \n",
      "\n",
      "   num_overlap_gene  \n",
      "0                 0  \n",
      "1                 0  \n",
      "2                 0  \n",
      "3                 0  \n",
      "Training until validation scores don't improve for 50 rounds\n",
      "Early stopping, best iteration is:\n",
      "[10]\tvalid_0's l2: 0.259097\n"
     ]
    },
    {
     "name": "stderr",
     "output_type": "stream",
     "text": [
      "The frame.append method is deprecated and will be removed from pandas in a future version. Use pandas.concat instead.\n",
      "The frame.append method is deprecated and will be removed from pandas in a future version. Use pandas.concat instead.\n"
     ]
    },
    {
     "name": "stdout",
     "output_type": "stream",
     "text": [
      "   fold  num_train_gene  num_train_sgrna  num_test_gene  num_test_sgRNA  \\\n",
      "0     0             944             7976            315            2625   \n",
      "\n",
      "   num_overlap_gene  \n",
      "0                 0  \n",
      "Training until validation scores don't improve for 50 rounds\n",
      "Early stopping, best iteration is:\n",
      "[2]\tvalid_0's l2: 0.266664\n",
      "   fold  num_train_gene  num_train_sgrna  num_test_gene  num_test_sgRNA  \\\n",
      "0     0             944             7976            315            2625   \n",
      "1     1             945             7899            314            2702   \n",
      "\n",
      "   num_overlap_gene  \n",
      "0                 0  \n",
      "1                 0  \n",
      "Training until validation scores don't improve for 50 rounds\n",
      "Early stopping, best iteration is:\n",
      "[7]\tvalid_0's l2: 0.253929\n"
     ]
    },
    {
     "name": "stderr",
     "output_type": "stream",
     "text": [
      "The frame.append method is deprecated and will be removed from pandas in a future version. Use pandas.concat instead.\n",
      "The frame.append method is deprecated and will be removed from pandas in a future version. Use pandas.concat instead.\n",
      "\u001b[32m[I 2022-11-10 01:28:17,779]\u001b[0m Trial 35 finished with value: 0.9951795791277028 and parameters: {'n_estimators': 479, 'learning_rate': 0.03, 'num_leaves': 123, 'min_child_samples': 48}. Best is trial 32 with value: 0.9936974355690902.\u001b[0m\n"
     ]
    },
    {
     "name": "stdout",
     "output_type": "stream",
     "text": [
      "   fold  num_train_gene  num_train_sgrna  num_test_gene  num_test_sgRNA  \\\n",
      "0     0             944             7976            315            2625   \n",
      "1     1             945             7899            314            2702   \n",
      "2     2             944             7955            315            2646   \n",
      "\n",
      "   num_overlap_gene  \n",
      "0                 0  \n",
      "1                 0  \n",
      "2                 0  \n",
      "Training until validation scores don't improve for 50 rounds\n",
      "Early stopping, best iteration is:\n",
      "[6]\tvalid_0's l2: 0.250309\n",
      "   fold  num_train_gene  num_train_sgrna  num_test_gene  num_test_sgRNA  \\\n",
      "0     0             944             7976            315            2625   \n",
      "1     1             945             7899            314            2702   \n",
      "2     2             944             7955            315            2646   \n",
      "3     3             944             7973            315            2628   \n",
      "\n",
      "   num_overlap_gene  \n",
      "0                 0  \n",
      "1                 0  \n",
      "2                 0  \n",
      "3                 0  \n",
      "Training until validation scores don't improve for 50 rounds\n",
      "Early stopping, best iteration is:\n",
      "[3]\tvalid_0's l2: 0.259198\n"
     ]
    },
    {
     "name": "stderr",
     "output_type": "stream",
     "text": [
      "The frame.append method is deprecated and will be removed from pandas in a future version. Use pandas.concat instead.\n",
      "The frame.append method is deprecated and will be removed from pandas in a future version. Use pandas.concat instead.\n"
     ]
    },
    {
     "name": "stdout",
     "output_type": "stream",
     "text": [
      "   fold  num_train_gene  num_train_sgrna  num_test_gene  num_test_sgRNA  \\\n",
      "0     0             944             7976            315            2625   \n",
      "\n",
      "   num_overlap_gene  \n",
      "0                 0  \n",
      "Training until validation scores don't improve for 50 rounds\n",
      "Early stopping, best iteration is:\n",
      "[1]\tvalid_0's l2: 0.2667\n",
      "   fold  num_train_gene  num_train_sgrna  num_test_gene  num_test_sgRNA  \\\n",
      "0     0             944             7976            315            2625   \n",
      "1     1             945             7899            314            2702   \n",
      "\n",
      "   num_overlap_gene  \n",
      "0                 0  \n",
      "1                 0  \n",
      "Training until validation scores don't improve for 50 rounds\n",
      "Early stopping, best iteration is:\n",
      "[23]\tvalid_0's l2: 0.253935\n"
     ]
    },
    {
     "name": "stderr",
     "output_type": "stream",
     "text": [
      "The frame.append method is deprecated and will be removed from pandas in a future version. Use pandas.concat instead.\n",
      "The frame.append method is deprecated and will be removed from pandas in a future version. Use pandas.concat instead.\n"
     ]
    },
    {
     "name": "stdout",
     "output_type": "stream",
     "text": [
      "   fold  num_train_gene  num_train_sgrna  num_test_gene  num_test_sgRNA  \\\n",
      "0     0             944             7976            315            2625   \n",
      "1     1             945             7899            314            2702   \n",
      "2     2             944             7955            315            2646   \n",
      "\n",
      "   num_overlap_gene  \n",
      "0                 0  \n",
      "1                 0  \n",
      "2                 0  \n",
      "Training until validation scores don't improve for 50 rounds\n",
      "Early stopping, best iteration is:\n",
      "[20]\tvalid_0's l2: 0.250354\n",
      "   fold  num_train_gene  num_train_sgrna  num_test_gene  num_test_sgRNA  \\\n",
      "0     0             944             7976            315            2625   \n",
      "1     1             945             7899            314            2702   \n",
      "2     2             944             7955            315            2646   \n",
      "3     3             944             7973            315            2628   \n",
      "\n",
      "   num_overlap_gene  \n",
      "0                 0  \n",
      "1                 0  \n",
      "2                 0  \n",
      "3                 0  \n",
      "Training until validation scores don't improve for 50 rounds\n",
      "Early stopping, best iteration is:\n",
      "[15]\tvalid_0's l2: 0.259129\n"
     ]
    },
    {
     "name": "stderr",
     "output_type": "stream",
     "text": [
      "\u001b[32m[I 2022-11-10 01:28:18,778]\u001b[0m Trial 36 finished with value: 0.9961697210206322 and parameters: {'n_estimators': 641, 'learning_rate': 0.01, 'num_leaves': 157, 'min_child_samples': 77}. Best is trial 32 with value: 0.9936974355690902.\u001b[0m\n",
      "The frame.append method is deprecated and will be removed from pandas in a future version. Use pandas.concat instead.\n",
      "The frame.append method is deprecated and will be removed from pandas in a future version. Use pandas.concat instead.\n"
     ]
    },
    {
     "name": "stdout",
     "output_type": "stream",
     "text": [
      "   fold  num_train_gene  num_train_sgrna  num_test_gene  num_test_sgRNA  \\\n",
      "0     0             944             7976            315            2625   \n",
      "\n",
      "   num_overlap_gene  \n",
      "0                 0  \n",
      "Training until validation scores don't improve for 50 rounds\n",
      "Early stopping, best iteration is:\n",
      "[1]\tvalid_0's l2: 0.266704\n",
      "   fold  num_train_gene  num_train_sgrna  num_test_gene  num_test_sgRNA  \\\n",
      "0     0             944             7976            315            2625   \n",
      "1     1             945             7899            314            2702   \n",
      "\n",
      "   num_overlap_gene  \n",
      "0                 0  \n",
      "1                 0  \n",
      "Training until validation scores don't improve for 50 rounds\n",
      "Early stopping, best iteration is:\n",
      "[12]\tvalid_0's l2: 0.253813\n"
     ]
    },
    {
     "name": "stderr",
     "output_type": "stream",
     "text": [
      "The frame.append method is deprecated and will be removed from pandas in a future version. Use pandas.concat instead.\n",
      "The frame.append method is deprecated and will be removed from pandas in a future version. Use pandas.concat instead.\n",
      "\u001b[32m[I 2022-11-10 01:28:19,698]\u001b[0m Trial 37 finished with value: 0.9942406158912716 and parameters: {'n_estimators': 291, 'learning_rate': 0.02, 'num_leaves': 92, 'min_child_samples': 26}. Best is trial 32 with value: 0.9936974355690902.\u001b[0m\n"
     ]
    },
    {
     "name": "stdout",
     "output_type": "stream",
     "text": [
      "   fold  num_train_gene  num_train_sgrna  num_test_gene  num_test_sgRNA  \\\n",
      "0     0             944             7976            315            2625   \n",
      "1     1             945             7899            314            2702   \n",
      "2     2             944             7955            315            2646   \n",
      "\n",
      "   num_overlap_gene  \n",
      "0                 0  \n",
      "1                 0  \n",
      "2                 0  \n",
      "Training until validation scores don't improve for 50 rounds\n",
      "Early stopping, best iteration is:\n",
      "[9]\tvalid_0's l2: 0.250323\n",
      "   fold  num_train_gene  num_train_sgrna  num_test_gene  num_test_sgRNA  \\\n",
      "0     0             944             7976            315            2625   \n",
      "1     1             945             7899            314            2702   \n",
      "2     2             944             7955            315            2646   \n",
      "3     3             944             7973            315            2628   \n",
      "\n",
      "   num_overlap_gene  \n",
      "0                 0  \n",
      "1                 0  \n",
      "2                 0  \n",
      "3                 0  \n",
      "Training until validation scores don't improve for 50 rounds\n",
      "Early stopping, best iteration is:\n",
      "[7]\tvalid_0's l2: 0.259185\n"
     ]
    },
    {
     "name": "stderr",
     "output_type": "stream",
     "text": [
      "The frame.append method is deprecated and will be removed from pandas in a future version. Use pandas.concat instead.\n",
      "The frame.append method is deprecated and will be removed from pandas in a future version. Use pandas.concat instead.\n",
      "The frame.append method is deprecated and will be removed from pandas in a future version. Use pandas.concat instead.\n",
      "The frame.append method is deprecated and will be removed from pandas in a future version. Use pandas.concat instead.\n"
     ]
    },
    {
     "name": "stdout",
     "output_type": "stream",
     "text": [
      "   fold  num_train_gene  num_train_sgrna  num_test_gene  num_test_sgRNA  \\\n",
      "0     0             944             7976            315            2625   \n",
      "\n",
      "   num_overlap_gene  \n",
      "0                 0  \n",
      "Training until validation scores don't improve for 50 rounds\n",
      "Early stopping, best iteration is:\n",
      "[1]\tvalid_0's l2: 0.266654\n",
      "   fold  num_train_gene  num_train_sgrna  num_test_gene  num_test_sgRNA  \\\n",
      "0     0             944             7976            315            2625   \n",
      "1     1             945             7899            314            2702   \n",
      "\n",
      "   num_overlap_gene  \n",
      "0                 0  \n",
      "1                 0  \n",
      "Training until validation scores don't improve for 50 rounds\n",
      "Early stopping, best iteration is:\n",
      "[16]\tvalid_0's l2: 0.253815\n",
      "   fold  num_train_gene  num_train_sgrna  num_test_gene  num_test_sgRNA  \\\n",
      "0     0             944             7976            315            2625   \n",
      "1     1             945             7899            314            2702   \n",
      "2     2             944             7955            315            2646   \n",
      "\n",
      "   num_overlap_gene  \n",
      "0                 0  \n",
      "1                 0  \n",
      "2                 0  \n",
      "Training until validation scores don't improve for 50 rounds\n",
      "Early stopping, best iteration is:\n",
      "[4]\tvalid_0's l2: 0.250439\n",
      "   fold  num_train_gene  num_train_sgrna  num_test_gene  num_test_sgRNA  \\\n",
      "0     0             944             7976            315            2625   \n",
      "1     1             945             7899            314            2702   \n",
      "2     2             944             7955            315            2646   \n",
      "3     3             944             7973            315            2628   \n",
      "\n",
      "   num_overlap_gene  \n",
      "0                 0  \n",
      "1                 0  \n",
      "2                 0  \n",
      "3                 0  \n",
      "Training until validation scores don't improve for 50 rounds\n"
     ]
    },
    {
     "name": "stderr",
     "output_type": "stream",
     "text": [
      "\u001b[32m[I 2022-11-10 01:28:20,373]\u001b[0m Trial 38 finished with value: 0.9963296277334808 and parameters: {'n_estimators': 418, 'learning_rate': 0.04, 'num_leaves': 17, 'min_child_samples': 97}. Best is trial 32 with value: 0.9936974355690902.\u001b[0m\n"
     ]
    },
    {
     "name": "stdout",
     "output_type": "stream",
     "text": [
      "Early stopping, best iteration is:\n",
      "[11]\tvalid_0's l2: 0.258928\n"
     ]
    },
    {
     "name": "stderr",
     "output_type": "stream",
     "text": [
      "The frame.append method is deprecated and will be removed from pandas in a future version. Use pandas.concat instead.\n",
      "The frame.append method is deprecated and will be removed from pandas in a future version. Use pandas.concat instead.\n",
      "The frame.append method is deprecated and will be removed from pandas in a future version. Use pandas.concat instead.\n"
     ]
    },
    {
     "name": "stdout",
     "output_type": "stream",
     "text": [
      "   fold  num_train_gene  num_train_sgrna  num_test_gene  num_test_sgRNA  \\\n",
      "0     0             944             7976            315            2625   \n",
      "\n",
      "   num_overlap_gene  \n",
      "0                 0  \n",
      "Training until validation scores don't improve for 50 rounds\n",
      "Early stopping, best iteration is:\n",
      "[1]\tvalid_0's l2: 0.266695\n",
      "   fold  num_train_gene  num_train_sgrna  num_test_gene  num_test_sgRNA  \\\n",
      "0     0             944             7976            315            2625   \n",
      "1     1             945             7899            314            2702   \n",
      "\n",
      "   num_overlap_gene  \n",
      "0                 0  \n",
      "1                 0  \n",
      "Training until validation scores don't improve for 50 rounds\n",
      "Early stopping, best iteration is:\n",
      "[27]\tvalid_0's l2: 0.253866\n",
      "   fold  num_train_gene  num_train_sgrna  num_test_gene  num_test_sgRNA  \\\n",
      "0     0             944             7976            315            2625   \n",
      "1     1             945             7899            314            2702   \n",
      "2     2             944             7955            315            2646   \n",
      "\n",
      "   num_overlap_gene  \n",
      "0                 0  \n",
      "1                 0  \n",
      "2                 0  \n",
      "Training until validation scores don't improve for 50 rounds\n",
      "Early stopping, best iteration is:\n",
      "[19]\tvalid_0's l2: 0.250326\n",
      "   fold  num_train_gene  num_train_sgrna  num_test_gene  num_test_sgRNA  \\\n",
      "0     0             944             7976            315            2625   \n",
      "1     1             945             7899            314            2702   \n",
      "2     2             944             7955            315            2646   \n",
      "3     3             944             7973            315            2628   \n",
      "\n",
      "   num_overlap_gene  \n",
      "0                 0  \n",
      "1                 0  \n",
      "2                 0  \n",
      "3                 0  \n",
      "Training until validation scores don't improve for 50 rounds\n"
     ]
    },
    {
     "name": "stderr",
     "output_type": "stream",
     "text": [
      "The frame.append method is deprecated and will be removed from pandas in a future version. Use pandas.concat instead.\n",
      "\u001b[32m[I 2022-11-10 01:28:21,285]\u001b[0m Trial 39 finished with value: 0.9961229537178458 and parameters: {'n_estimators': 572, 'learning_rate': 0.01, 'num_leaves': 168, 'min_child_samples': 71}. Best is trial 32 with value: 0.9936974355690902.\u001b[0m\n"
     ]
    },
    {
     "name": "stdout",
     "output_type": "stream",
     "text": [
      "Early stopping, best iteration is:\n",
      "[11]\tvalid_0's l2: 0.259181\n"
     ]
    },
    {
     "name": "stderr",
     "output_type": "stream",
     "text": [
      "The frame.append method is deprecated and will be removed from pandas in a future version. Use pandas.concat instead.\n",
      "The frame.append method is deprecated and will be removed from pandas in a future version. Use pandas.concat instead.\n"
     ]
    },
    {
     "name": "stdout",
     "output_type": "stream",
     "text": [
      "   fold  num_train_gene  num_train_sgrna  num_test_gene  num_test_sgRNA  \\\n",
      "0     0             944             7976            315            2625   \n",
      "\n",
      "   num_overlap_gene  \n",
      "0                 0  \n",
      "Training until validation scores don't improve for 50 rounds\n",
      "Early stopping, best iteration is:\n",
      "[1]\tvalid_0's l2: 0.266697\n",
      "   fold  num_train_gene  num_train_sgrna  num_test_gene  num_test_sgRNA  \\\n",
      "0     0             944             7976            315            2625   \n",
      "1     1             945             7899            314            2702   \n",
      "\n",
      "   num_overlap_gene  \n",
      "0                 0  \n",
      "1                 0  \n",
      "Training until validation scores don't improve for 50 rounds\n",
      "Early stopping, best iteration is:\n",
      "[8]\tvalid_0's l2: 0.25377\n",
      "   fold  num_train_gene  num_train_sgrna  num_test_gene  num_test_sgRNA  \\\n",
      "0     0             944             7976            315            2625   \n",
      "1     1             945             7899            314            2702   \n",
      "2     2             944             7955            315            2646   \n",
      "\n",
      "   num_overlap_gene  \n",
      "0                 0  \n",
      "1                 0  \n",
      "2                 0  \n",
      "Training until validation scores don't improve for 50 rounds\n",
      "Early stopping, best iteration is:\n",
      "[4]\tvalid_0's l2: 0.250446\n",
      "   fold  num_train_gene  num_train_sgrna  num_test_gene  num_test_sgRNA  \\\n",
      "0     0             944             7976            315            2625   \n",
      "1     1             945             7899            314            2702   \n",
      "2     2             944             7955            315            2646   \n",
      "3     3             944             7973            315            2628   \n",
      "\n",
      "   num_overlap_gene  \n",
      "0                 0  \n",
      "1                 0  \n",
      "2                 0  \n",
      "3                 0  \n",
      "Training until validation scores don't improve for 50 rounds\n"
     ]
    },
    {
     "name": "stderr",
     "output_type": "stream",
     "text": [
      "The frame.append method is deprecated and will be removed from pandas in a future version. Use pandas.concat instead.\n",
      "The frame.append method is deprecated and will be removed from pandas in a future version. Use pandas.concat instead.\n",
      "\u001b[32m[I 2022-11-10 01:28:22,306]\u001b[0m Trial 40 finished with value: 0.9948966225029043 and parameters: {'n_estimators': 261, 'learning_rate': 0.03, 'num_leaves': 185, 'min_child_samples': 23}. Best is trial 32 with value: 0.9936974355690902.\u001b[0m\n"
     ]
    },
    {
     "name": "stdout",
     "output_type": "stream",
     "text": [
      "Early stopping, best iteration is:\n",
      "[1]\tvalid_0's l2: 0.259253\n"
     ]
    },
    {
     "name": "stderr",
     "output_type": "stream",
     "text": [
      "The frame.append method is deprecated and will be removed from pandas in a future version. Use pandas.concat instead.\n",
      "The frame.append method is deprecated and will be removed from pandas in a future version. Use pandas.concat instead.\n"
     ]
    },
    {
     "name": "stdout",
     "output_type": "stream",
     "text": [
      "   fold  num_train_gene  num_train_sgrna  num_test_gene  num_test_sgRNA  \\\n",
      "0     0             944             7976            315            2625   \n",
      "\n",
      "   num_overlap_gene  \n",
      "0                 0  \n",
      "Training until validation scores don't improve for 50 rounds\n",
      "Early stopping, best iteration is:\n",
      "[1]\tvalid_0's l2: 0.266702\n",
      "   fold  num_train_gene  num_train_sgrna  num_test_gene  num_test_sgRNA  \\\n",
      "0     0             944             7976            315            2625   \n",
      "1     1             945             7899            314            2702   \n",
      "\n",
      "   num_overlap_gene  \n",
      "0                 0  \n",
      "1                 0  \n",
      "Training until validation scores don't improve for 50 rounds\n",
      "Early stopping, best iteration is:\n",
      "[12]\tvalid_0's l2: 0.253858\n"
     ]
    },
    {
     "name": "stderr",
     "output_type": "stream",
     "text": [
      "The frame.append method is deprecated and will be removed from pandas in a future version. Use pandas.concat instead.\n",
      "The frame.append method is deprecated and will be removed from pandas in a future version. Use pandas.concat instead.\n",
      "\u001b[32m[I 2022-11-10 01:28:23,256]\u001b[0m Trial 41 finished with value: 0.9947631981697075 and parameters: {'n_estimators': 297, 'learning_rate': 0.02, 'num_leaves': 86, 'min_child_samples': 23}. Best is trial 32 with value: 0.9936974355690902.\u001b[0m\n"
     ]
    },
    {
     "name": "stdout",
     "output_type": "stream",
     "text": [
      "   fold  num_train_gene  num_train_sgrna  num_test_gene  num_test_sgRNA  \\\n",
      "0     0             944             7976            315            2625   \n",
      "1     1             945             7899            314            2702   \n",
      "2     2             944             7955            315            2646   \n",
      "\n",
      "   num_overlap_gene  \n",
      "0                 0  \n",
      "1                 0  \n",
      "2                 0  \n",
      "Training until validation scores don't improve for 50 rounds\n",
      "Early stopping, best iteration is:\n",
      "[8]\tvalid_0's l2: 0.250419\n",
      "   fold  num_train_gene  num_train_sgrna  num_test_gene  num_test_sgRNA  \\\n",
      "0     0             944             7976            315            2625   \n",
      "1     1             945             7899            314            2702   \n",
      "2     2             944             7955            315            2646   \n",
      "3     3             944             7973            315            2628   \n",
      "\n",
      "   num_overlap_gene  \n",
      "0                 0  \n",
      "1                 0  \n",
      "2                 0  \n",
      "3                 0  \n",
      "Training until validation scores don't improve for 50 rounds\n",
      "Early stopping, best iteration is:\n",
      "[6]\tvalid_0's l2: 0.259212\n"
     ]
    },
    {
     "name": "stderr",
     "output_type": "stream",
     "text": [
      "The frame.append method is deprecated and will be removed from pandas in a future version. Use pandas.concat instead.\n",
      "The frame.append method is deprecated and will be removed from pandas in a future version. Use pandas.concat instead.\n"
     ]
    },
    {
     "name": "stdout",
     "output_type": "stream",
     "text": [
      "   fold  num_train_gene  num_train_sgrna  num_test_gene  num_test_sgRNA  \\\n",
      "0     0             944             7976            315            2625   \n",
      "\n",
      "   num_overlap_gene  \n",
      "0                 0  \n",
      "Training until validation scores don't improve for 50 rounds\n",
      "Early stopping, best iteration is:\n",
      "[2]\tvalid_0's l2: 0.266684\n",
      "   fold  num_train_gene  num_train_sgrna  num_test_gene  num_test_sgRNA  \\\n",
      "0     0             944             7976            315            2625   \n",
      "1     1             945             7899            314            2702   \n",
      "\n",
      "   num_overlap_gene  \n",
      "0                 0  \n",
      "1                 0  \n",
      "Training until validation scores don't improve for 50 rounds\n",
      "Early stopping, best iteration is:\n",
      "[7]\tvalid_0's l2: 0.254022\n"
     ]
    },
    {
     "name": "stderr",
     "output_type": "stream",
     "text": [
      "The frame.append method is deprecated and will be removed from pandas in a future version. Use pandas.concat instead.\n",
      "The frame.append method is deprecated and will be removed from pandas in a future version. Use pandas.concat instead.\n",
      "\u001b[32m[I 2022-11-10 01:28:24,178]\u001b[0m Trial 42 finished with value: 0.9961602032116855 and parameters: {'n_estimators': 307, 'learning_rate': 0.02, 'num_leaves': 72, 'min_child_samples': 47}. Best is trial 32 with value: 0.9936974355690902.\u001b[0m\n"
     ]
    },
    {
     "name": "stdout",
     "output_type": "stream",
     "text": [
      "   fold  num_train_gene  num_train_sgrna  num_test_gene  num_test_sgRNA  \\\n",
      "0     0             944             7976            315            2625   \n",
      "1     1             945             7899            314            2702   \n",
      "2     2             944             7955            315            2646   \n",
      "\n",
      "   num_overlap_gene  \n",
      "0                 0  \n",
      "1                 0  \n",
      "2                 0  \n",
      "Training until validation scores don't improve for 50 rounds\n",
      "Early stopping, best iteration is:\n",
      "[10]\tvalid_0's l2: 0.250336\n",
      "   fold  num_train_gene  num_train_sgrna  num_test_gene  num_test_sgRNA  \\\n",
      "0     0             944             7976            315            2625   \n",
      "1     1             945             7899            314            2702   \n",
      "2     2             944             7955            315            2646   \n",
      "3     3             944             7973            315            2628   \n",
      "\n",
      "   num_overlap_gene  \n",
      "0                 0  \n",
      "1                 0  \n",
      "2                 0  \n",
      "3                 0  \n",
      "Training until validation scores don't improve for 50 rounds\n",
      "Early stopping, best iteration is:\n",
      "[4]\tvalid_0's l2: 0.259197\n"
     ]
    },
    {
     "name": "stderr",
     "output_type": "stream",
     "text": [
      "The frame.append method is deprecated and will be removed from pandas in a future version. Use pandas.concat instead.\n",
      "The frame.append method is deprecated and will be removed from pandas in a future version. Use pandas.concat instead.\n"
     ]
    },
    {
     "name": "stdout",
     "output_type": "stream",
     "text": [
      "   fold  num_train_gene  num_train_sgrna  num_test_gene  num_test_sgRNA  \\\n",
      "0     0             944             7976            315            2625   \n",
      "\n",
      "   num_overlap_gene  \n",
      "0                 0  \n",
      "Training until validation scores don't improve for 50 rounds\n",
      "Early stopping, best iteration is:\n",
      "[1]\tvalid_0's l2: 0.266692\n",
      "   fold  num_train_gene  num_train_sgrna  num_test_gene  num_test_sgRNA  \\\n",
      "0     0             944             7976            315            2625   \n",
      "1     1             945             7899            314            2702   \n",
      "\n",
      "   num_overlap_gene  \n",
      "0                 0  \n",
      "1                 0  \n",
      "Training until validation scores don't improve for 50 rounds\n",
      "Early stopping, best iteration is:\n",
      "[13]\tvalid_0's l2: 0.25374\n",
      "   fold  num_train_gene  num_train_sgrna  num_test_gene  num_test_sgRNA  \\\n",
      "0     0             944             7976            315            2625   \n",
      "1     1             945             7899            314            2702   \n",
      "2     2             944             7955            315            2646   \n",
      "\n",
      "   num_overlap_gene  \n",
      "0                 0  \n",
      "1                 0  \n",
      "2                 0  \n",
      "Training until validation scores don't improve for 50 rounds\n",
      "Early stopping, best iteration is:\n",
      "[8]\tvalid_0's l2: 0.250371\n",
      "   fold  num_train_gene  num_train_sgrna  num_test_gene  num_test_sgRNA  \\\n",
      "0     0             944             7976            315            2625   \n",
      "1     1             945             7899            314            2702   \n",
      "2     2             944             7955            315            2646   \n",
      "3     3             944             7973            315            2628   \n",
      "\n",
      "   num_overlap_gene  \n",
      "0                 0  \n",
      "1                 0  \n",
      "2                 0  \n",
      "3                 0  \n",
      "Training until validation scores don't improve for 50 rounds\n"
     ]
    },
    {
     "name": "stderr",
     "output_type": "stream",
     "text": [
      "The frame.append method is deprecated and will be removed from pandas in a future version. Use pandas.concat instead.\n",
      "The frame.append method is deprecated and will be removed from pandas in a future version. Use pandas.concat instead.\n",
      "\u001b[32m[I 2022-11-10 01:28:25,156]\u001b[0m Trial 43 finished with value: 0.9947185507372669 and parameters: {'n_estimators': 206, 'learning_rate': 0.02, 'num_leaves': 106, 'min_child_samples': 24}. Best is trial 32 with value: 0.9936974355690902.\u001b[0m\n"
     ]
    },
    {
     "name": "stdout",
     "output_type": "stream",
     "text": [
      "Early stopping, best iteration is:\n",
      "[3]\tvalid_0's l2: 0.259205\n"
     ]
    },
    {
     "name": "stderr",
     "output_type": "stream",
     "text": [
      "The frame.append method is deprecated and will be removed from pandas in a future version. Use pandas.concat instead.\n",
      "The frame.append method is deprecated and will be removed from pandas in a future version. Use pandas.concat instead.\n"
     ]
    },
    {
     "name": "stdout",
     "output_type": "stream",
     "text": [
      "   fold  num_train_gene  num_train_sgrna  num_test_gene  num_test_sgRNA  \\\n",
      "0     0             944             7976            315            2625   \n",
      "\n",
      "   num_overlap_gene  \n",
      "0                 0  \n",
      "Training until validation scores don't improve for 50 rounds\n",
      "Early stopping, best iteration is:\n",
      "[2]\tvalid_0's l2: 0.266681\n",
      "   fold  num_train_gene  num_train_sgrna  num_test_gene  num_test_sgRNA  \\\n",
      "0     0             944             7976            315            2625   \n",
      "1     1             945             7899            314            2702   \n",
      "\n",
      "   num_overlap_gene  \n",
      "0                 0  \n",
      "1                 0  \n",
      "Training until validation scores don't improve for 50 rounds\n",
      "Early stopping, best iteration is:\n",
      "[13]\tvalid_0's l2: 0.253795\n"
     ]
    },
    {
     "name": "stderr",
     "output_type": "stream",
     "text": [
      "The frame.append method is deprecated and will be removed from pandas in a future version. Use pandas.concat instead.\n",
      "The frame.append method is deprecated and will be removed from pandas in a future version. Use pandas.concat instead.\n",
      "\u001b[32m[I 2022-11-10 01:28:26,050]\u001b[0m Trial 44 finished with value: 0.9948146803083202 and parameters: {'n_estimators': 517, 'learning_rate': 0.02, 'num_leaves': 127, 'min_child_samples': 45}. Best is trial 32 with value: 0.9936974355690902.\u001b[0m\n"
     ]
    },
    {
     "name": "stdout",
     "output_type": "stream",
     "text": [
      "   fold  num_train_gene  num_train_sgrna  num_test_gene  num_test_sgRNA  \\\n",
      "0     0             944             7976            315            2625   \n",
      "1     1             945             7899            314            2702   \n",
      "2     2             944             7955            315            2646   \n",
      "\n",
      "   num_overlap_gene  \n",
      "0                 0  \n",
      "1                 0  \n",
      "2                 0  \n",
      "Training until validation scores don't improve for 50 rounds\n",
      "Early stopping, best iteration is:\n",
      "[8]\tvalid_0's l2: 0.25034\n",
      "   fold  num_train_gene  num_train_sgrna  num_test_gene  num_test_sgRNA  \\\n",
      "0     0             944             7976            315            2625   \n",
      "1     1             945             7899            314            2702   \n",
      "2     2             944             7955            315            2646   \n",
      "3     3             944             7973            315            2628   \n",
      "\n",
      "   num_overlap_gene  \n",
      "0                 0  \n",
      "1                 0  \n",
      "2                 0  \n",
      "3                 0  \n",
      "Training until validation scores don't improve for 50 rounds\n",
      "Early stopping, best iteration is:\n",
      "[5]\tvalid_0's l2: 0.259175\n"
     ]
    },
    {
     "name": "stderr",
     "output_type": "stream",
     "text": [
      "The frame.append method is deprecated and will be removed from pandas in a future version. Use pandas.concat instead.\n",
      "The frame.append method is deprecated and will be removed from pandas in a future version. Use pandas.concat instead.\n"
     ]
    },
    {
     "name": "stdout",
     "output_type": "stream",
     "text": [
      "   fold  num_train_gene  num_train_sgrna  num_test_gene  num_test_sgRNA  \\\n",
      "0     0             944             7976            315            2625   \n",
      "\n",
      "   num_overlap_gene  \n",
      "0                 0  \n",
      "Training until validation scores don't improve for 50 rounds\n",
      "Early stopping, best iteration is:\n",
      "[1]\tvalid_0's l2: 0.266692\n",
      "   fold  num_train_gene  num_train_sgrna  num_test_gene  num_test_sgRNA  \\\n",
      "0     0             944             7976            315            2625   \n",
      "1     1             945             7899            314            2702   \n",
      "\n",
      "   num_overlap_gene  \n",
      "0                 0  \n",
      "1                 0  \n",
      "Training until validation scores don't improve for 50 rounds\n",
      "Early stopping, best iteration is:\n",
      "[7]\tvalid_0's l2: 0.253741\n",
      "   fold  num_train_gene  num_train_sgrna  num_test_gene  num_test_sgRNA  \\\n",
      "0     0             944             7976            315            2625   \n",
      "1     1             945             7899            314            2702   \n",
      "2     2             944             7955            315            2646   \n",
      "\n",
      "   num_overlap_gene  \n",
      "0                 0  \n",
      "1                 0  \n",
      "2                 0  \n",
      "Training until validation scores don't improve for 50 rounds\n",
      "Early stopping, best iteration is:\n",
      "[5]\tvalid_0's l2: 0.25035\n"
     ]
    },
    {
     "name": "stderr",
     "output_type": "stream",
     "text": [
      "The frame.append method is deprecated and will be removed from pandas in a future version. Use pandas.concat instead.\n",
      "The frame.append method is deprecated and will be removed from pandas in a future version. Use pandas.concat instead.\n",
      "\u001b[32m[I 2022-11-10 01:28:27,179]\u001b[0m Trial 45 finished with value: 0.994068394996083 and parameters: {'n_estimators': 168, 'learning_rate': 0.04, 'num_leaves': 146, 'min_child_samples': 30}. Best is trial 32 with value: 0.9936974355690902.\u001b[0m\n"
     ]
    },
    {
     "name": "stdout",
     "output_type": "stream",
     "text": [
      "   fold  num_train_gene  num_train_sgrna  num_test_gene  num_test_sgRNA  \\\n",
      "0     0             944             7976            315            2625   \n",
      "1     1             945             7899            314            2702   \n",
      "2     2             944             7955            315            2646   \n",
      "3     3             944             7973            315            2628   \n",
      "\n",
      "   num_overlap_gene  \n",
      "0                 0  \n",
      "1                 0  \n",
      "2                 0  \n",
      "3                 0  \n",
      "Training until validation scores don't improve for 50 rounds\n",
      "Early stopping, best iteration is:\n",
      "[1]\tvalid_0's l2: 0.259244\n"
     ]
    },
    {
     "name": "stderr",
     "output_type": "stream",
     "text": [
      "The frame.append method is deprecated and will be removed from pandas in a future version. Use pandas.concat instead.\n",
      "The frame.append method is deprecated and will be removed from pandas in a future version. Use pandas.concat instead.\n"
     ]
    },
    {
     "name": "stdout",
     "output_type": "stream",
     "text": [
      "   fold  num_train_gene  num_train_sgrna  num_test_gene  num_test_sgRNA  \\\n",
      "0     0             944             7976            315            2625   \n",
      "\n",
      "   num_overlap_gene  \n",
      "0                 0  \n",
      "Training until validation scores don't improve for 50 rounds\n",
      "Early stopping, best iteration is:\n",
      "[1]\tvalid_0's l2: 0.266697\n",
      "   fold  num_train_gene  num_train_sgrna  num_test_gene  num_test_sgRNA  \\\n",
      "0     0             944             7976            315            2625   \n",
      "1     1             945             7899            314            2702   \n",
      "\n",
      "   num_overlap_gene  \n",
      "0                 0  \n",
      "1                 0  \n",
      "Training until validation scores don't improve for 50 rounds\n",
      "Early stopping, best iteration is:\n",
      "[4]\tvalid_0's l2: 0.253873\n",
      "   fold  num_train_gene  num_train_sgrna  num_test_gene  num_test_sgRNA  \\\n",
      "0     0             944             7976            315            2625   \n",
      "1     1             945             7899            314            2702   \n",
      "2     2             944             7955            315            2646   \n",
      "\n",
      "   num_overlap_gene  \n",
      "0                 0  \n",
      "1                 0  \n",
      "2                 0  \n",
      "Training until validation scores don't improve for 50 rounds\n",
      "Early stopping, best iteration is:\n",
      "[3]\tvalid_0's l2: 0.250445\n",
      "   fold  num_train_gene  num_train_sgrna  num_test_gene  num_test_sgRNA  \\\n",
      "0     0             944             7976            315            2625   \n",
      "1     1             945             7899            314            2702   \n",
      "2     2             944             7955            315            2646   \n",
      "3     3             944             7973            315            2628   \n",
      "\n",
      "   num_overlap_gene  \n",
      "0                 0  \n",
      "1                 0  \n",
      "2                 0  \n",
      "3                 0  \n",
      "Training until validation scores don't improve for 50 rounds\n"
     ]
    },
    {
     "name": "stderr",
     "output_type": "stream",
     "text": [
      "The frame.append method is deprecated and will be removed from pandas in a future version. Use pandas.concat instead.\n",
      "The frame.append method is deprecated and will be removed from pandas in a future version. Use pandas.concat instead.\n",
      "\u001b[32m[I 2022-11-10 01:28:28,235]\u001b[0m Trial 46 finished with value: 0.9951907006905923 and parameters: {'n_estimators': 166, 'learning_rate': 0.04, 'num_leaves': 151, 'min_child_samples': 17}. Best is trial 32 with value: 0.9936974355690902.\u001b[0m\n"
     ]
    },
    {
     "name": "stdout",
     "output_type": "stream",
     "text": [
      "Early stopping, best iteration is:\n",
      "[1]\tvalid_0's l2: 0.259282\n"
     ]
    },
    {
     "name": "stderr",
     "output_type": "stream",
     "text": [
      "The frame.append method is deprecated and will be removed from pandas in a future version. Use pandas.concat instead.\n",
      "The frame.append method is deprecated and will be removed from pandas in a future version. Use pandas.concat instead.\n"
     ]
    },
    {
     "name": "stdout",
     "output_type": "stream",
     "text": [
      "   fold  num_train_gene  num_train_sgrna  num_test_gene  num_test_sgRNA  \\\n",
      "0     0             944             7976            315            2625   \n",
      "\n",
      "   num_overlap_gene  \n",
      "0                 0  \n",
      "Training until validation scores don't improve for 50 rounds\n",
      "Early stopping, best iteration is:\n",
      "[1]\tvalid_0's l2: 0.266687\n",
      "   fold  num_train_gene  num_train_sgrna  num_test_gene  num_test_sgRNA  \\\n",
      "0     0             944             7976            315            2625   \n",
      "1     1             945             7899            314            2702   \n",
      "\n",
      "   num_overlap_gene  \n",
      "0                 0  \n",
      "1                 0  \n",
      "Training until validation scores don't improve for 50 rounds\n",
      "Early stopping, best iteration is:\n",
      "[4]\tvalid_0's l2: 0.253994\n"
     ]
    },
    {
     "name": "stderr",
     "output_type": "stream",
     "text": [
      "The frame.append method is deprecated and will be removed from pandas in a future version. Use pandas.concat instead.\n",
      "The frame.append method is deprecated and will be removed from pandas in a future version. Use pandas.concat instead.\n",
      "\u001b[32m[I 2022-11-10 01:28:29,155]\u001b[0m Trial 47 finished with value: 0.995913343450876 and parameters: {'n_estimators': 386, 'learning_rate': 0.04, 'num_leaves': 167, 'min_child_samples': 59}. Best is trial 32 with value: 0.9936974355690902.\u001b[0m\n"
     ]
    },
    {
     "name": "stdout",
     "output_type": "stream",
     "text": [
      "   fold  num_train_gene  num_train_sgrna  num_test_gene  num_test_sgRNA  \\\n",
      "0     0             944             7976            315            2625   \n",
      "1     1             945             7899            314            2702   \n",
      "2     2             944             7955            315            2646   \n",
      "\n",
      "   num_overlap_gene  \n",
      "0                 0  \n",
      "1                 0  \n",
      "2                 0  \n",
      "Training until validation scores don't improve for 50 rounds\n",
      "Early stopping, best iteration is:\n",
      "[5]\tvalid_0's l2: 0.250227\n",
      "   fold  num_train_gene  num_train_sgrna  num_test_gene  num_test_sgRNA  \\\n",
      "0     0             944             7976            315            2625   \n",
      "1     1             945             7899            314            2702   \n",
      "2     2             944             7955            315            2646   \n",
      "3     3             944             7973            315            2628   \n",
      "\n",
      "   num_overlap_gene  \n",
      "0                 0  \n",
      "1                 0  \n",
      "2                 0  \n",
      "3                 0  \n",
      "Training until validation scores don't improve for 50 rounds\n",
      "Early stopping, best iteration is:\n",
      "[3]\tvalid_0's l2: 0.259189\n"
     ]
    },
    {
     "name": "stderr",
     "output_type": "stream",
     "text": [
      "The frame.append method is deprecated and will be removed from pandas in a future version. Use pandas.concat instead.\n",
      "The frame.append method is deprecated and will be removed from pandas in a future version. Use pandas.concat instead.\n",
      "The frame.append method is deprecated and will be removed from pandas in a future version. Use pandas.concat instead.\n"
     ]
    },
    {
     "name": "stdout",
     "output_type": "stream",
     "text": [
      "   fold  num_train_gene  num_train_sgrna  num_test_gene  num_test_sgRNA  \\\n",
      "0     0             944             7976            315            2625   \n",
      "\n",
      "   num_overlap_gene  \n",
      "0                 0  \n",
      "Training until validation scores don't improve for 50 rounds\n",
      "Early stopping, best iteration is:\n",
      "[1]\tvalid_0's l2: 0.2667\n",
      "   fold  num_train_gene  num_train_sgrna  num_test_gene  num_test_sgRNA  \\\n",
      "0     0             944             7976            315            2625   \n",
      "1     1             945             7899            314            2702   \n",
      "\n",
      "   num_overlap_gene  \n",
      "0                 0  \n",
      "1                 0  \n",
      "Training until validation scores don't improve for 50 rounds\n",
      "Early stopping, best iteration is:\n",
      "[7]\tvalid_0's l2: 0.253898\n",
      "   fold  num_train_gene  num_train_sgrna  num_test_gene  num_test_sgRNA  \\\n",
      "0     0             944             7976            315            2625   \n",
      "1     1             945             7899            314            2702   \n",
      "2     2             944             7955            315            2646   \n",
      "\n",
      "   num_overlap_gene  \n",
      "0                 0  \n",
      "1                 0  \n",
      "2                 0  \n",
      "Training until validation scores don't improve for 50 rounds\n",
      "Early stopping, best iteration is:\n",
      "[9]\tvalid_0's l2: 0.250215\n"
     ]
    },
    {
     "name": "stderr",
     "output_type": "stream",
     "text": [
      "The frame.append method is deprecated and will be removed from pandas in a future version. Use pandas.concat instead.\n",
      "\u001b[32m[I 2022-11-10 01:28:29,948]\u001b[0m Trial 48 finished with value: 0.9961354048207722 and parameters: {'n_estimators': 199, 'learning_rate': 0.04, 'num_leaves': 115, 'min_child_samples': 146}. Best is trial 32 with value: 0.9936974355690902.\u001b[0m\n"
     ]
    },
    {
     "name": "stdout",
     "output_type": "stream",
     "text": [
      "   fold  num_train_gene  num_train_sgrna  num_test_gene  num_test_sgRNA  \\\n",
      "0     0             944             7976            315            2625   \n",
      "1     1             945             7899            314            2702   \n",
      "2     2             944             7955            315            2646   \n",
      "3     3             944             7973            315            2628   \n",
      "\n",
      "   num_overlap_gene  \n",
      "0                 0  \n",
      "1                 0  \n",
      "2                 0  \n",
      "3                 0  \n",
      "Training until validation scores don't improve for 50 rounds\n",
      "Early stopping, best iteration is:\n",
      "[6]\tvalid_0's l2: 0.259098\n"
     ]
    },
    {
     "name": "stderr",
     "output_type": "stream",
     "text": [
      "The frame.append method is deprecated and will be removed from pandas in a future version. Use pandas.concat instead.\n",
      "The frame.append method is deprecated and will be removed from pandas in a future version. Use pandas.concat instead.\n"
     ]
    },
    {
     "name": "stdout",
     "output_type": "stream",
     "text": [
      "   fold  num_train_gene  num_train_sgrna  num_test_gene  num_test_sgRNA  \\\n",
      "0     0             944             7976            315            2625   \n",
      "\n",
      "   num_overlap_gene  \n",
      "0                 0  \n",
      "Training until validation scores don't improve for 50 rounds\n",
      "Early stopping, best iteration is:\n",
      "[1]\tvalid_0's l2: 0.266694\n",
      "   fold  num_train_gene  num_train_sgrna  num_test_gene  num_test_sgRNA  \\\n",
      "0     0             944             7976            315            2625   \n",
      "1     1             945             7899            314            2702   \n",
      "\n",
      "   num_overlap_gene  \n",
      "0                 0  \n",
      "1                 0  \n",
      "Training until validation scores don't improve for 50 rounds\n",
      "Early stopping, best iteration is:\n",
      "[6]\tvalid_0's l2: 0.253731\n"
     ]
    },
    {
     "name": "stderr",
     "output_type": "stream",
     "text": [
      "The frame.append method is deprecated and will be removed from pandas in a future version. Use pandas.concat instead.\n",
      "The frame.append method is deprecated and will be removed from pandas in a future version. Use pandas.concat instead.\n",
      "\u001b[32m[I 2022-11-10 01:28:30,892]\u001b[0m Trial 49 finished with value: 0.994279539508677 and parameters: {'n_estimators': 330, 'learning_rate': 0.04, 'num_leaves': 146, 'min_child_samples': 35}. Best is trial 32 with value: 0.9936974355690902.\u001b[0m\n"
     ]
    },
    {
     "name": "stdout",
     "output_type": "stream",
     "text": [
      "   fold  num_train_gene  num_train_sgrna  num_test_gene  num_test_sgRNA  \\\n",
      "0     0             944             7976            315            2625   \n",
      "1     1             945             7899            314            2702   \n",
      "2     2             944             7955            315            2646   \n",
      "\n",
      "   num_overlap_gene  \n",
      "0                 0  \n",
      "1                 0  \n",
      "2                 0  \n",
      "Training until validation scores don't improve for 50 rounds\n",
      "Early stopping, best iteration is:\n",
      "[5]\tvalid_0's l2: 0.250177\n",
      "   fold  num_train_gene  num_train_sgrna  num_test_gene  num_test_sgRNA  \\\n",
      "0     0             944             7976            315            2625   \n",
      "1     1             945             7899            314            2702   \n",
      "2     2             944             7955            315            2646   \n",
      "3     3             944             7973            315            2628   \n",
      "\n",
      "   num_overlap_gene  \n",
      "0                 0  \n",
      "1                 0  \n",
      "2                 0  \n",
      "3                 0  \n",
      "Training until validation scores don't improve for 50 rounds\n",
      "Early stopping, best iteration is:\n",
      "[2]\tvalid_0's l2: 0.259209\n"
     ]
    }
   ],
   "source": [
    "study = optuna.create_study(direction=\"minimize\", study_name=\"LGBM Regressor\")\n",
    "\n",
    "def func(trial):\n",
    "    return objective(trial, X, y, grps)\n",
    "\n",
    "study.optimize(func, n_trials=50);"
   ]
  },
  {
   "cell_type": "code",
   "execution_count": 50,
   "id": "85706d51",
   "metadata": {},
   "outputs": [
    {
     "name": "stdout",
     "output_type": "stream",
     "text": [
      "\tBest value: 0.99370\n",
      "\tBest params:\n",
      "\t\tn_estimators: 308\n",
      "\t\tlearning_rate: 0.02\n",
      "\t\tnum_leaves: 149\n",
      "\t\tmin_child_samples: 27\n"
     ]
    }
   ],
   "source": [
    "print(f\"\\tBest value: {study.best_value:.5f}\")\n",
    "print(f\"\\tBest params:\")\n",
    "\n",
    "for key, value in study.best_params.items():\n",
    "    print(f\"\\t\\t{key}: {value}\")"
   ]
  },
  {
   "cell_type": "code",
   "execution_count": 76,
   "id": "495a6a28",
   "metadata": {},
   "outputs": [
    {
     "data": {
      "text/plain": [
       "LGBMRegressor(learning_rate=0.02, min_child_samples=27, n_estimators=308,\n",
       "              num_leaves=149)"
      ]
     },
     "execution_count": 76,
     "metadata": {},
     "output_type": "execute_result"
    }
   ],
   "source": [
    "model = LGBMRegressor( **study.best_params)\n",
    "model.fit(X, y)"
   ]
  },
  {
   "cell_type": "code",
   "execution_count": 99,
   "id": "916a50d9",
   "metadata": {},
   "outputs": [],
   "source": [
    "horlbeck_2016_sept = pd.read_csv('../data/horlbeck_2016_sept/horlbeck2016_sept_activity.csv')\n",
    "\n",
    "conditions = [\n",
    "    (horlbeck_2016_sept['sgRNA \\'Cut\\' Site TSS Offset'] <= 250) & (horlbeck_2016_sept['sgRNA \\'Cut\\' Site TSS Offset'] > 225),\n",
    "    (horlbeck_2016_sept['sgRNA \\'Cut\\' Site TSS Offset'] <= 225) & (horlbeck_2016_sept['sgRNA \\'Cut\\' Site TSS Offset'] > 200),\n",
    "    (horlbeck_2016_sept['sgRNA \\'Cut\\' Site TSS Offset'] <= 200) & (horlbeck_2016_sept['sgRNA \\'Cut\\' Site TSS Offset'] > 175),\n",
    "    (horlbeck_2016_sept['sgRNA \\'Cut\\' Site TSS Offset'] <= 175) & (horlbeck_2016_sept['sgRNA \\'Cut\\' Site TSS Offset'] > 150),\n",
    "    (horlbeck_2016_sept['sgRNA \\'Cut\\' Site TSS Offset'] <= 150) & (horlbeck_2016_sept['sgRNA \\'Cut\\' Site TSS Offset'] > 125),\n",
    "    (horlbeck_2016_sept['sgRNA \\'Cut\\' Site TSS Offset'] <= 125) & (horlbeck_2016_sept['sgRNA \\'Cut\\' Site TSS Offset'] > 100),\n",
    "    (horlbeck_2016_sept['sgRNA \\'Cut\\' Site TSS Offset'] <= 100) & (horlbeck_2016_sept['sgRNA \\'Cut\\' Site TSS Offset'] > 75),\n",
    "    (horlbeck_2016_sept['sgRNA \\'Cut\\' Site TSS Offset'] <= 75) & (horlbeck_2016_sept['sgRNA \\'Cut\\' Site TSS Offset'] > 50),\n",
    "    (horlbeck_2016_sept['sgRNA \\'Cut\\' Site TSS Offset'] <= 50) & (horlbeck_2016_sept['sgRNA \\'Cut\\' Site TSS Offset'] > 25),\n",
    "    (horlbeck_2016_sept['sgRNA \\'Cut\\' Site TSS Offset'] <= 25) & (horlbeck_2016_sept['sgRNA \\'Cut\\' Site TSS Offset'] > 0),\n",
    "    (horlbeck_2016_sept['sgRNA \\'Cut\\' Site TSS Offset'] <= 0) & (horlbeck_2016_sept['sgRNA \\'Cut\\' Site TSS Offset'] > -25),\n",
    "    (horlbeck_2016_sept['sgRNA \\'Cut\\' Site TSS Offset'] <= -25) & (horlbeck_2016_sept['sgRNA \\'Cut\\' Site TSS Offset'] > -50),\n",
    "    (horlbeck_2016_sept['sgRNA \\'Cut\\' Site TSS Offset'] <= -50),\n",
    "    (horlbeck_2016_sept['sgRNA \\'Cut\\' Site TSS Offset'] > 250)\n",
    "]\n",
    "\n",
    "values_tss = ['+225 to +250', '+200 to +225', '+175 to +200', '+150 to +175', '+125 to +150', '+100 to +125',\n",
    "         '+75 to +100', '+50 to +75', '+25 to +50', '0 to +25', '-25 to 0', '-50 to -25', '<-50', '>+250' ]\n",
    "value_sort = [13,12,11,10,9,8,7,6,5,4,3,2,1,14]\n",
    "horlbeck_2016_sept['tss_sort'] = np.select(conditions, value_sort)\n",
    "\n",
    "horlbeck_2016_sept['tss_bins'] = np.select(conditions, values_tss)\n"
   ]
  },
  {
   "cell_type": "code",
   "execution_count": 100,
   "id": "83375c57",
   "metadata": {},
   "outputs": [],
   "source": [
    "one_hot_encoding_tss_test = pd.get_dummies(horlbeck_2016_sept.tss_bins, prefix='tss_bins')"
   ]
  },
  {
   "cell_type": "code",
   "execution_count": 101,
   "id": "bea845fe",
   "metadata": {},
   "outputs": [],
   "source": [
    "horlbeck_2016_sept = pd.concat([horlbeck_2016_sept, one_hot_encoding_tss_test], axis = 1)"
   ]
  },
  {
   "cell_type": "code",
   "execution_count": 102,
   "id": "12cef0b3",
   "metadata": {},
   "outputs": [],
   "source": [
    "### TSS\n",
    "\n",
    "fra_act = -1.5\n",
    "sgRNA_act_fra = []\n",
    "for val in values_tss:\n",
    "    val_tss = horlbeck_2016_sept[horlbeck_2016_sept['tss_bins'] == val]\n",
    "    total_val = len(val_tss)\n",
    "    act_val = sum(val_tss['avg_lfc'] <= fra_act)\n",
    "    sgRNA_act_fra.append(act_val/total_val)\n",
    "\n",
    "    "
   ]
  },
  {
   "cell_type": "code",
   "execution_count": 103,
   "id": "5cda6b87",
   "metadata": {},
   "outputs": [],
   "source": [
    "horlbeck_2016_sept['fra_active'] = np.select(conditions, sgRNA_act_fra)\n"
   ]
  },
  {
   "cell_type": "code",
   "execution_count": 104,
   "id": "f0efd9ec",
   "metadata": {},
   "outputs": [],
   "source": [
    "horlbeck_2016_sept = horlbeck_2016_sept.rename({'On-Target Efficacy Score': 'Chen On-Target Efficacy Score'},axis = 1)\n",
    "horlbeck_2016_sept_X = horlbeck_2016_sept[['sgRNA Context Sequence', 'sgRNA \\'Cut\\' Site TSS Offset',\n",
    "                                          'tss_bins_+100 to +125',\n",
    " 'tss_bins_+125 to +150',\n",
    " 'tss_bins_+150 to +175',\n",
    " 'tss_bins_+175 to +200',\n",
    " 'tss_bins_+200 to +225',\n",
    " 'tss_bins_+225 to +250',\n",
    " 'tss_bins_+25 to +50',\n",
    " 'tss_bins_+50 to +75',\n",
    " 'tss_bins_+75 to +100',\n",
    " 'tss_bins_-25 to 0',\n",
    " 'tss_bins_-50 to -25',\n",
    " 'tss_bins_0 to +25',\n",
    " 'tss_bins_<-50',\n",
    " 'tss_bins_>+250']].set_index('sgRNA Context Sequence')  \n",
    "horlbeck_2016_sept['Residual'] = horlbeck_2016_sept['avg_lfc']-horlbeck_2016_sept['Chen On-Target Efficacy Score']\n",
    "horlbeck_2016_sept_y = horlbeck_2016_sept['Residual']"
   ]
  },
  {
   "cell_type": "code",
   "execution_count": 108,
   "id": "02832d79",
   "metadata": {},
   "outputs": [],
   "source": [
    "horlbeck_2016_sept.columns\n",
    "tss_graph = horlbeck_2016_sept.groupby('tss_bins')[['Residual','tss_sort','fra_active']].agg('mean')"
   ]
  },
  {
   "cell_type": "code",
   "execution_count": 109,
   "id": "5c0abb5e",
   "metadata": {},
   "outputs": [],
   "source": [
    "tss_graph = tss_graph.sort_values('tss_sort').reset_index(level=0)"
   ]
  },
  {
   "cell_type": "code",
   "execution_count": 112,
   "id": "0f42f1b8",
   "metadata": {},
   "outputs": [
    {
     "data": {
      "image/png": "[encoded data removed]",
      "text/plain": [
       "<Figure size 432x288 with 1 Axes>"
      ]
     },
     "metadata": {
      "needs_background": "light"
     },
     "output_type": "display_data"
    }
   ],
   "source": [
    "ax = sns.lineplot(data=tss_graph, x='tss_bins', y=\"Residual\")\n",
    "ax.tick_params(axis='x', rotation=90)\n",
    "ax.set(xlabel='Relative distance from FANTOM TSS', ylabel='Residual')\n",
    "ax.axvline(3.5, 0,1, color = 'black', linestyle = '--')\n",
    "ax.axvline(4.5, 0,1, color = 'black', linestyle = '--')\n",
    "gpp.savefig('../figure/lfc_vs_tss_horlbeck_2016_tss_residual.pdf', dpi=300)\n",
    "\n"
   ]
  },
  {
   "cell_type": "code",
   "execution_count": 82,
   "id": "2b0b1ed8",
   "metadata": {},
   "outputs": [
    {
     "name": "stdout",
     "output_type": "stream",
     "text": [
      "Training Accuracy: 0.02\n",
      "Test Accuracy: -1.53\n"
     ]
    }
   ],
   "source": [
    "print(f\"Training Accuracy: {model.score(X, y):0.2f}\")\n",
    "print(f\"Test Accuracy: {model.score(horlbeck_2016_sept_X, horlbeck_2016_sept_y):0.2f}\")"
   ]
  },
  {
   "cell_type": "markdown",
   "id": "2a5f0f02",
   "metadata": {},
   "source": [
    "# Compare RS3 Chen seq score and RS3 Hsu seq score with the observed activity "
   ]
  },
  {
   "cell_type": "code",
   "execution_count": 83,
   "id": "00f70442",
   "metadata": {},
   "outputs": [],
   "source": [
    "horlbeck_2016_sept_X['Crispri Target Score'] = model.predict(horlbeck_2016_sept_X)\n",
    "horlbeck_2016_sept_X.reset_index(inplace=True)\n",
    "X_val_pre_y = pd.merge(horlbeck_2016_sept, horlbeck_2016_sept_X, on = 'sgRNA Context Sequence')\n",
    "X_val_pre_y['Crispri Sequence + Target Score'] = X_val_pre_y['Chen On-Target Efficacy Score'] + X_val_pre_y['Crispri Target Score']"
   ]
  },
  {
   "cell_type": "code",
   "execution_count": 84,
   "id": "9e16a8ba",
   "metadata": {},
   "outputs": [],
   "source": [
    "X_val_pre_y['Crispri Sequence + Target Score'] = X_val_pre_y['Chen On-Target Efficacy Score'] + X_val_pre_y['Crispri Target Score']"
   ]
  },
  {
   "cell_type": "code",
   "execution_count": 85,
   "id": "6a0dcb9e",
   "metadata": {},
   "outputs": [],
   "source": [
    "gene_basis = X_val_pre_y.groupby('Target Gene Symbol')[['Residual','avg_mean_centered_neg_lfc','avg_lfc', 'Chen On-Target Efficacy Score', 'Crispri Target Score', 'Crispri Sequence + Target Score']].agg('mean')"
   ]
  },
  {
   "cell_type": "code",
   "execution_count": 86,
   "id": "16e8e193",
   "metadata": {},
   "outputs": [
    {
     "data": {
      "image/png": "[encoded data removed]",
      "text/plain": [
       "<Figure size 288x288 with 1 Axes>"
      ]
     },
     "metadata": {
      "needs_background": "light"
     },
     "output_type": "display_data"
    },
    {
     "data": {
      "image/png": "[encoded data removed]",
      "text/plain": [
       "<Figure size 288x288 with 1 Axes>"
      ]
     },
     "metadata": {
      "needs_background": "light"
     },
     "output_type": "display_data"
    },
    {
     "data": {
      "image/png": "[encoded data removed]",
      "text/plain": [
       "<Figure size 288x288 with 1 Axes>"
      ]
     },
     "metadata": {
      "needs_background": "light"
     },
     "output_type": "display_data"
    },
    {
     "data": {
      "image/png": "[encoded data removed]",
      "text/plain": [
       "<Figure size 288x288 with 1 Axes>"
      ]
     },
     "metadata": {
      "needs_background": "light"
     },
     "output_type": "display_data"
    }
   ],
   "source": [
    "import gpplot as gpp\n",
    "for x_axis in ['Residual','avg_lfc']:\n",
    "    if x_axis == 'Residual':\n",
    "        scores = ['Crispri Target Score']\n",
    "        x_axis_name = 'Residual'\n",
    "    else:\n",
    "        scores = ['Chen On-Target Efficacy Score','Crispri Target Score', 'Crispri Sequence + Target Score']\n",
    "        x_axis_name = 'LFC'\n",
    "    for score in scores:\n",
    "        plt.subplots(figsize=(4,4))\n",
    "        gpplot.point_densityplot(data=X_val_pre_y[[score, x_axis]].dropna(),\n",
    "                                 y=score, x=x_axis)\n",
    "        gpplot.add_correlation(data=X_val_pre_y[[score, x_axis]].dropna(),\n",
    "                               y=score, x=x_axis)\n",
    "        gpplot.add_correlation(data=X_val_pre_y[[score, x_axis]].dropna(),\n",
    "                                y=score, x=x_axis, method='spearman', loc='lower right')\n",
    "        plt.xlabel(x_axis_name)\n",
    "        plt.title(\"Horlbeck Crispri test set\")\n",
    "    #    plt.title(score)\n",
    "        sns.despine()\n",
    "        gpp.savefig('../figure/residual/Horlbeck'+score+'_vs_'+x_axis+'.pdf', dpi=300)\n",
    "        \n"
   ]
  },
  {
   "cell_type": "code",
   "execution_count": 62,
   "id": "c19021aa",
   "metadata": {},
   "outputs": [
    {
     "data": {
      "image/png": "[encoded data removed]",
      "text/plain": [
       "<Figure size 288x288 with 1 Axes>"
      ]
     },
     "metadata": {
      "needs_background": "light"
     },
     "output_type": "display_data"
    },
    {
     "data": {
      "image/png": "[encoded data removed]",
      "text/plain": [
       "<Figure size 288x288 with 1 Axes>"
      ]
     },
     "metadata": {
      "needs_background": "light"
     },
     "output_type": "display_data"
    },
    {
     "data": {
      "image/png": "[encoded data removed]",
      "text/plain": [
       "<Figure size 288x288 with 1 Axes>"
      ]
     },
     "metadata": {
      "needs_background": "light"
     },
     "output_type": "display_data"
    },
    {
     "data": {
      "image/png": "[encoded data removed]",
      "text/plain": [
       "<Figure size 288x288 with 1 Axes>"
      ]
     },
     "metadata": {
      "needs_background": "light"
     },
     "output_type": "display_data"
    }
   ],
   "source": [
    "\n",
    "for x_axis in ['Residual','avg_lfc']:\n",
    "    if x_axis == 'Residual':\n",
    "        scores = ['Crispri Target Score']\n",
    "        x_axis_name = 'Residual'\n",
    "    else:\n",
    "        scores = ['Chen On-Target Efficacy Score','Crispri Target Score', 'Crispri Sequence + Target Score']\n",
    "        x_axis_name = 'LFC'\n",
    "    for score in scores:\n",
    "        plt.subplots(figsize=(4,4))\n",
    "        gpplot.point_densityplot(data=gene_basis[[score, x_axis]].dropna(),\n",
    "                                 y=score, x=x_axis)\n",
    "        gpplot.add_correlation(data=gene_basis[[score, x_axis]].dropna(),\n",
    "                               y=score, x=x_axis)\n",
    "        gpplot.add_correlation(data=gene_basis[[score, x_axis]].dropna(),\n",
    "                                y=score, x=x_axis, method='spearman', loc='lower right')\n",
    "        plt.xlabel(x_axis_name)\n",
    "        plt.title(\"Horlbeck Crispri test set\")\n",
    "    #    plt.title(score)\n",
    "        sns.despine()\n",
    "        \n"
   ]
  },
  {
   "cell_type": "code",
   "execution_count": 21,
   "id": "63934121",
   "metadata": {},
   "outputs": [],
   "source": [
    "explainer = shap.TreeExplainer(model)\n"
   ]
  },
  {
   "cell_type": "code",
   "execution_count": 22,
   "id": "dbbd3edc",
   "metadata": {},
   "outputs": [],
   "source": [
    "shap_values = explainer.shap_values(X)"
   ]
  },
  {
   "cell_type": "code",
   "execution_count": 23,
   "id": "28175594",
   "metadata": {},
   "outputs": [],
   "source": [
    "from lightgbm import LGBMRegressor, plot_importance\n"
   ]
  },
  {
   "cell_type": "code",
   "execution_count": 24,
   "id": "81652bc8",
   "metadata": {},
   "outputs": [
    {
     "data": {
      "text/plain": [
       "<AxesSubplot:title={'center':'Feature importance'}, xlabel='Feature importance', ylabel='Features'>"
      ]
     },
     "execution_count": 24,
     "metadata": {},
     "output_type": "execute_result"
    },
    {
     "data": {
      "image/png": "[encoded data removed]",
      "text/plain": [
       "<Figure size 432x288 with 1 Axes>"
      ]
     },
     "metadata": {
      "needs_background": "light"
     },
     "output_type": "display_data"
    }
   ],
   "source": [
    "plot_importance(model)\n"
   ]
  },
  {
   "cell_type": "code",
   "execution_count": 87,
   "id": "76a70e02",
   "metadata": {},
   "outputs": [
    {
     "ename": "NameError",
     "evalue": "name 'explainer' is not defined",
     "output_type": "error",
     "traceback": [
      "\u001b[0;31m---------------------------------------------------------------------------\u001b[0m",
      "\u001b[0;31mNameError\u001b[0m                                 Traceback (most recent call last)",
      "Input \u001b[0;32mIn [87]\u001b[0m, in \u001b[0;36m<cell line: 2>\u001b[0;34m()\u001b[0m\n\u001b[1;32m      1\u001b[0m explainer_model \u001b[38;5;241m=\u001b[39m shap\u001b[38;5;241m.\u001b[39mExplainer(model)\n\u001b[0;32m----> 2\u001b[0m shap_values_model \u001b[38;5;241m=\u001b[39m \u001b[43mexplainer\u001b[49m(X)\n\u001b[1;32m      3\u001b[0m shap\u001b[38;5;241m.\u001b[39mplots\u001b[38;5;241m.\u001b[39mbeeswarm(shap_values_model)\n",
      "\u001b[0;31mNameError\u001b[0m: name 'explainer' is not defined"
     ]
    }
   ],
   "source": [
    "\n",
    "explainer_model = shap.Explainer(model)\n",
    "shap_values_model = explainer(X)\n",
    "shap.plots.beeswarm(shap_values_model)"
   ]
  },
  {
   "cell_type": "code",
   "execution_count": null,
   "id": "8efeaf59",
   "metadata": {},
   "outputs": [],
   "source": [
    "#only bins "
   ]
  }
 ],
 "metadata": {
  "kernelspec": {
   "display_name": "Python 3 (ipykernel)",
   "language": "python",
   "name": "python3"
  },
  "language_info": {
   "codemirror_mode": {
    "name": "ipython",
    "version": 3
   },
   "file_extension": ".py",
   "mimetype": "text/x-python",
   "name": "python",
   "nbconvert_exporter": "python",
   "pygments_lexer": "ipython3",
   "version": "3.8.13"
  }
 },
 "nbformat": 4,
 "nbformat_minor": 5
}
